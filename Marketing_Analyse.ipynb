{
  "cells": [
    {
      "cell_type": "markdown",
      "metadata": {
        "id": "n5oR7qK1pHB_"
      },
      "source": [
        "<b>Название проекта: </b>Название проекта: выявление определяющих успешность игры закономерностей."
      ]
    },
    {
      "cell_type": "markdown",
      "metadata": {
        "id": "FNefI8EzpHB_"
      },
      "source": [
        "<b>Описание исследования: </b> Доступны исторические данные о продажах игр, оценки пользователей и экспертов, жанры и платформы. Нужно выявить определяющие успешность игры закономерности. Это позволит сделать ставку на потенциально популярный продукт и спланировать рекламные кампании. Нужно отработать принцип работы с данными."
      ]
    },
    {
      "cell_type": "markdown",
      "metadata": {
        "id": "oibALURipHB_"
      },
      "source": [
        "<b>Цель исследования:</b> Выявить потенциально популярный продукт и спланировать рекламные кампании.\n",
        "\n",
        "<b>Суть исследования. </b>\n",
        " Нужно выявить определяющие успешность игры закономерности. Которые позволят сделать ставку на потенциально популярный продукт и спланировать рекламные кампании. Нужно отработать принцип работы с данными. Неважно, прогнозируются ли продажи на 2017 год по данным 2016-го или же 2027-й — по данным 2026 года."
      ]
    },
    {
      "cell_type": "markdown",
      "metadata": {
        "id": "eO-ydruhpHB_"
      },
      "source": [
        "<b>Задачи исследования:</b>\n",
        "<br>1.Открыть файл с данными и изучить общую информацию\n",
        "<br>2. Подготовить данные\n",
        "<br>3. Провести исследовательский анализ данных\n",
        "<br>4. Составить портрет пользователя каждого региона\n",
        "<br>5. Проверить гипотезы\n",
        "<br>6. Написать общий вывод"
      ]
    },
    {
      "cell_type": "markdown",
      "metadata": {
        "id": "PZ95T-wapHB_"
      },
      "source": [
        "<b>Исходные данные. </b> Имеется датафрейм. Столбцы:\n",
        "<br>Name — название игры\n",
        "<br>Platform — платформа\n",
        "<br>Year_of_Release — год выпуска\n",
        "<br>Genre — жанр игры\n",
        "<br>NA_sales — продажи в Северной Америке (миллионы проданных копий)\n",
        "<br>EU_sales — продажи в Европе (миллионы проданных копий)\n",
        "<br>JP_sales — продажи в Японии (миллионы проданных копий)\n",
        "<br>Other_sales — продажи в других странах (миллионы проданных копий)\n",
        "<br>Critic_Score — оценка критиков (максимум 100)\n",
        "<br>User_Score — оценка пользователей (максимум 10)\n",
        "<br>Rating — рейтинг от организации ESRB"
      ]
    },
    {
      "cell_type": "markdown",
      "metadata": {
        "id": "t5pByL5OpHB_"
      },
      "source": [
        "<b>Данное исследование разделим на несколько частей.</b>\n",
        "\n",
        "<b>Часть 1. Изучение общей информации:</b>\n",
        "\n",
        "* <a href='#section1_1'>1. Загрузка библиотек, изучение файлов с данными</a>\n",
        "\n",
        "* <a href='#section1_2'>2. Получение общей информации, построение гистограмм.</a>\n",
        "\n",
        "<b>Часть 2. Предобработка данных:</b>\n",
        "\n",
        "* <a href='#section2_1'>1. Приведение столбцов к нижнему регистру</a>\n",
        "* <a href='#section2_2'>2. Обработка пропусков</a>\n",
        "* <a href='#section2_3'>3. Преобразование данных в нужные типы</a>\n",
        "* <a href='#section2_4'>4. Добавление столбца с суммарными продажами.</a>\n",
        "\n",
        "<b>Часть 3. Исследовательский анализ данных:</b>\n",
        "\n",
        "* <a href='#section3_1'>1. Сколько игр выпускалось в разные годы. Важность данных по периодам.</a>\n",
        "* <a href='#section3_2'>2. Платформы с наибольшими суммарными продажами и их распределение по годам.</a>\n",
        "* <a href='#section3_3'>3. Данные за актуальный период определенные самостоятельно в результате исследования предыдущих вопросов.</a>\n",
        "* <a href='#section3_4'>4. Выделение платформ лидирующих по продажам</a>\n",
        "* <a href='#section3_5'>5. «Ящик с усами» по глобальным продажам игр в разбивке по платформам.</a>\n",
        "* <a href='#section3_6'>6. Влияние на продажи внутри одной популярной платформы отзывы пользователей и критиков. Диаграмма рассеяния и корреляция между отзывами и продажами.</a>\n",
        "* <a href='#section3_7'>7. Соотношение выводов с продажами игр на других платформах.</a>\n",
        "* <a href='#section3_8'>8. Общее распределение игр по жанрам</a>\n",
        "\n",
        "<b>Часть 4. Составление портрета пользователя каждого региона:</b>\n",
        "\n",
        "* <a href='#section4_1'>1. Самые популярные платформы (топ-5). </a>\n",
        "* <a href='#section4_2'>2. Самые популярные жанры (топ-5). </a>\n",
        "* <a href='#section4_3'>3. Влияние рейтинга ESRB на продажи в отдельном регионе.</a>\n",
        "\n",
        "<b>Часть 5. Проверка гипотез:</b>\n",
        "\n",
        "* <a href='#section5_1'>1. Средние пользовательские рейтинги платформ Xbox One и PC одинаковые </a>\n",
        "* <a href='#section5_2'>2. Средние пользовательские рейтинги жанров Action (англ. «действие», экшен-игры) и Sports (англ. «спортивные соревнования») разные. </a>\n",
        "\n",
        "<b>Часть 6. Общий вывод:</b>\n",
        "\n",
        "* <a href='#section6_1'>1. Формулирование общего вывода. </a>"
      ]
    },
    {
      "cell_type": "code",
      "execution_count": null,
      "metadata": {
        "id": "zMosC2o8pHB_"
      },
      "outputs": [],
      "source": []
    },
    {
      "cell_type": "markdown",
      "metadata": {
        "id": "ODgEPUZRpHB_"
      },
      "source": [
        "**Интернет-магазин «Стримчик», продаёт по всему миру компьютерные игры. Из открытых источников доступны исторические данные о продажах игр, оценки пользователей и экспертов, жанры и платформы (например, Xbox или PlayStation). Нужно выявить определяющие успешность игры закономерности. Это позволит сделать ставку на потенциально популярный продукт и спланировать рекламные кампании.**"
      ]
    },
    {
      "cell_type": "markdown",
      "metadata": {
        "id": "RLkec4RBpHB_"
      },
      "source": [
        "## Шаг. Открытие файла с данными и изучение общей информации."
      ]
    },
    {
      "cell_type": "markdown",
      "metadata": {
        "id": "m_ZCxqYlpHB_"
      },
      "source": [
        "<a id='section1_1'></a>\n",
        "### Загрузка библиотек, изучение файлов с данными"
      ]
    },
    {
      "cell_type": "markdown",
      "metadata": {
        "id": "HNaLcoWgpHCA"
      },
      "source": [
        "Импорт библиотек."
      ]
    },
    {
      "cell_type": "code",
      "execution_count": null,
      "metadata": {
        "id": "3W_Gm9GhpHCA"
      },
      "outputs": [],
      "source": [
        "import pandas as pd\n",
        "import numpy as np\n",
        "import matplotlib.pyplot as plt\n",
        "from scipy import stats as st"
      ]
    },
    {
      "cell_type": "markdown",
      "metadata": {
        "id": "_Fy5WakFpHCA"
      },
      "source": [
        "Дабвления датафрейма в перменную strim."
      ]
    },
    {
      "cell_type": "code",
      "execution_count": null,
      "metadata": {
        "scrolled": false,
        "id": "HJ1tsCxCpHCA"
      },
      "outputs": [],
      "source": [
        "strim = pd.read_csv('/datasets/games.csv')"
      ]
    },
    {
      "cell_type": "markdown",
      "metadata": {
        "id": "ay8RCWMvpHCA"
      },
      "source": [
        "Вывод общей информации и просмотр как выглядит таблица."
      ]
    },
    {
      "cell_type": "code",
      "execution_count": null,
      "metadata": {
        "id": "JQLb8YwLpHCA",
        "outputId": "09f75285-43ff-4909-8dfc-2e2afa0b05e4"
      },
      "outputs": [
        {
          "name": "stdout",
          "output_type": "stream",
          "text": [
            "<class 'pandas.core.frame.DataFrame'>\n",
            "RangeIndex: 16715 entries, 0 to 16714\n",
            "Data columns (total 11 columns):\n",
            " #   Column           Non-Null Count  Dtype  \n",
            "---  ------           --------------  -----  \n",
            " 0   Name             16713 non-null  object \n",
            " 1   Platform         16715 non-null  object \n",
            " 2   Year_of_Release  16446 non-null  float64\n",
            " 3   Genre            16713 non-null  object \n",
            " 4   NA_sales         16715 non-null  float64\n",
            " 5   EU_sales         16715 non-null  float64\n",
            " 6   JP_sales         16715 non-null  float64\n",
            " 7   Other_sales      16715 non-null  float64\n",
            " 8   Critic_Score     8137 non-null   float64\n",
            " 9   User_Score       10014 non-null  object \n",
            " 10  Rating           9949 non-null   object \n",
            "dtypes: float64(6), object(5)\n",
            "memory usage: 1.4+ MB\n"
          ]
        }
      ],
      "source": [
        "strim.info()"
      ]
    },
    {
      "cell_type": "markdown",
      "metadata": {
        "id": "3J6_KrSmpHCB"
      },
      "source": [
        "<a id='section1_2'></a>\n",
        "### Получение общей информации, построение гистограмм."
      ]
    },
    {
      "cell_type": "markdown",
      "metadata": {
        "id": "j_o8K4ElpHCB"
      },
      "source": [
        "Просмотр как выглядит таблица."
      ]
    },
    {
      "cell_type": "code",
      "execution_count": null,
      "metadata": {
        "id": "Zta_P4bupHCB",
        "outputId": "28c025cc-0cf4-468c-8cbc-3e83afed174f"
      },
      "outputs": [
        {
          "data": {
            "text/html": [
              "<div>\n",
              "<style scoped>\n",
              "    .dataframe tbody tr th:only-of-type {\n",
              "        vertical-align: middle;\n",
              "    }\n",
              "\n",
              "    .dataframe tbody tr th {\n",
              "        vertical-align: top;\n",
              "    }\n",
              "\n",
              "    .dataframe thead th {\n",
              "        text-align: right;\n",
              "    }\n",
              "</style>\n",
              "<table border=\"1\" class=\"dataframe\">\n",
              "  <thead>\n",
              "    <tr style=\"text-align: right;\">\n",
              "      <th></th>\n",
              "      <th>name</th>\n",
              "      <th>platform</th>\n",
              "      <th>year_of_release</th>\n",
              "      <th>genre</th>\n",
              "      <th>na_sales</th>\n",
              "      <th>eu_sales</th>\n",
              "      <th>jp_sales</th>\n",
              "      <th>other_sales</th>\n",
              "      <th>critic_score</th>\n",
              "      <th>user_score</th>\n",
              "      <th>rating</th>\n",
              "      <th>total_sale</th>\n",
              "    </tr>\n",
              "  </thead>\n",
              "  <tbody>\n",
              "    <tr>\n",
              "      <th>0</th>\n",
              "      <td>Wii Sports</td>\n",
              "      <td>Wii</td>\n",
              "      <td>2006</td>\n",
              "      <td>Sports</td>\n",
              "      <td>41.36</td>\n",
              "      <td>28.96</td>\n",
              "      <td>3.77</td>\n",
              "      <td>8.45</td>\n",
              "      <td>76.0</td>\n",
              "      <td>8.0</td>\n",
              "      <td>E</td>\n",
              "      <td>82.54</td>\n",
              "    </tr>\n",
              "    <tr>\n",
              "      <th>1</th>\n",
              "      <td>Super Mario Bros.</td>\n",
              "      <td>NES</td>\n",
              "      <td>1985</td>\n",
              "      <td>Platform</td>\n",
              "      <td>29.08</td>\n",
              "      <td>3.58</td>\n",
              "      <td>6.81</td>\n",
              "      <td>0.77</td>\n",
              "      <td>NaN</td>\n",
              "      <td>NaN</td>\n",
              "      <td>пусто</td>\n",
              "      <td>40.24</td>\n",
              "    </tr>\n",
              "    <tr>\n",
              "      <th>2</th>\n",
              "      <td>Mario Kart Wii</td>\n",
              "      <td>Wii</td>\n",
              "      <td>2008</td>\n",
              "      <td>Racing</td>\n",
              "      <td>15.68</td>\n",
              "      <td>12.76</td>\n",
              "      <td>3.79</td>\n",
              "      <td>3.29</td>\n",
              "      <td>82.0</td>\n",
              "      <td>8.3</td>\n",
              "      <td>E</td>\n",
              "      <td>35.52</td>\n",
              "    </tr>\n",
              "    <tr>\n",
              "      <th>3</th>\n",
              "      <td>Wii Sports Resort</td>\n",
              "      <td>Wii</td>\n",
              "      <td>2009</td>\n",
              "      <td>Sports</td>\n",
              "      <td>15.61</td>\n",
              "      <td>10.93</td>\n",
              "      <td>3.28</td>\n",
              "      <td>2.95</td>\n",
              "      <td>80.0</td>\n",
              "      <td>8.0</td>\n",
              "      <td>E</td>\n",
              "      <td>32.77</td>\n",
              "    </tr>\n",
              "    <tr>\n",
              "      <th>4</th>\n",
              "      <td>Pokemon Red/Pokemon Blue</td>\n",
              "      <td>GB</td>\n",
              "      <td>1996</td>\n",
              "      <td>Role-Playing</td>\n",
              "      <td>11.27</td>\n",
              "      <td>8.89</td>\n",
              "      <td>10.22</td>\n",
              "      <td>1.00</td>\n",
              "      <td>NaN</td>\n",
              "      <td>NaN</td>\n",
              "      <td>пусто</td>\n",
              "      <td>31.38</td>\n",
              "    </tr>\n",
              "    <tr>\n",
              "      <th>...</th>\n",
              "      <td>...</td>\n",
              "      <td>...</td>\n",
              "      <td>...</td>\n",
              "      <td>...</td>\n",
              "      <td>...</td>\n",
              "      <td>...</td>\n",
              "      <td>...</td>\n",
              "      <td>...</td>\n",
              "      <td>...</td>\n",
              "      <td>...</td>\n",
              "      <td>...</td>\n",
              "      <td>...</td>\n",
              "    </tr>\n",
              "    <tr>\n",
              "      <th>16439</th>\n",
              "      <td>Samurai Warriors: Sanada Maru</td>\n",
              "      <td>PS3</td>\n",
              "      <td>2016</td>\n",
              "      <td>Action</td>\n",
              "      <td>0.00</td>\n",
              "      <td>0.00</td>\n",
              "      <td>0.01</td>\n",
              "      <td>0.00</td>\n",
              "      <td>NaN</td>\n",
              "      <td>NaN</td>\n",
              "      <td>пусто</td>\n",
              "      <td>0.01</td>\n",
              "    </tr>\n",
              "    <tr>\n",
              "      <th>16440</th>\n",
              "      <td>LMA Manager 2007</td>\n",
              "      <td>X360</td>\n",
              "      <td>2006</td>\n",
              "      <td>Sports</td>\n",
              "      <td>0.00</td>\n",
              "      <td>0.01</td>\n",
              "      <td>0.00</td>\n",
              "      <td>0.00</td>\n",
              "      <td>NaN</td>\n",
              "      <td>NaN</td>\n",
              "      <td>пусто</td>\n",
              "      <td>0.01</td>\n",
              "    </tr>\n",
              "    <tr>\n",
              "      <th>16441</th>\n",
              "      <td>Haitaka no Psychedelica</td>\n",
              "      <td>PSV</td>\n",
              "      <td>2016</td>\n",
              "      <td>Adventure</td>\n",
              "      <td>0.00</td>\n",
              "      <td>0.00</td>\n",
              "      <td>0.01</td>\n",
              "      <td>0.00</td>\n",
              "      <td>NaN</td>\n",
              "      <td>NaN</td>\n",
              "      <td>пусто</td>\n",
              "      <td>0.01</td>\n",
              "    </tr>\n",
              "    <tr>\n",
              "      <th>16442</th>\n",
              "      <td>Spirits &amp; Spells</td>\n",
              "      <td>GBA</td>\n",
              "      <td>2003</td>\n",
              "      <td>Platform</td>\n",
              "      <td>0.01</td>\n",
              "      <td>0.00</td>\n",
              "      <td>0.00</td>\n",
              "      <td>0.00</td>\n",
              "      <td>NaN</td>\n",
              "      <td>NaN</td>\n",
              "      <td>пусто</td>\n",
              "      <td>0.01</td>\n",
              "    </tr>\n",
              "    <tr>\n",
              "      <th>16443</th>\n",
              "      <td>Winning Post 8 2016</td>\n",
              "      <td>PSV</td>\n",
              "      <td>2016</td>\n",
              "      <td>Simulation</td>\n",
              "      <td>0.00</td>\n",
              "      <td>0.00</td>\n",
              "      <td>0.01</td>\n",
              "      <td>0.00</td>\n",
              "      <td>NaN</td>\n",
              "      <td>NaN</td>\n",
              "      <td>пусто</td>\n",
              "      <td>0.01</td>\n",
              "    </tr>\n",
              "  </tbody>\n",
              "</table>\n",
              "<p>16443 rows × 12 columns</p>\n",
              "</div>"
            ],
            "text/plain": [
              "                                name platform  year_of_release         genre  \\\n",
              "0                         Wii Sports      Wii             2006        Sports   \n",
              "1                  Super Mario Bros.      NES             1985      Platform   \n",
              "2                     Mario Kart Wii      Wii             2008        Racing   \n",
              "3                  Wii Sports Resort      Wii             2009        Sports   \n",
              "4           Pokemon Red/Pokemon Blue       GB             1996  Role-Playing   \n",
              "...                              ...      ...              ...           ...   \n",
              "16439  Samurai Warriors: Sanada Maru      PS3             2016        Action   \n",
              "16440               LMA Manager 2007     X360             2006        Sports   \n",
              "16441        Haitaka no Psychedelica      PSV             2016     Adventure   \n",
              "16442               Spirits & Spells      GBA             2003      Platform   \n",
              "16443            Winning Post 8 2016      PSV             2016    Simulation   \n",
              "\n",
              "       na_sales  eu_sales  jp_sales  other_sales  critic_score  user_score  \\\n",
              "0         41.36     28.96      3.77         8.45          76.0         8.0   \n",
              "1         29.08      3.58      6.81         0.77           NaN         NaN   \n",
              "2         15.68     12.76      3.79         3.29          82.0         8.3   \n",
              "3         15.61     10.93      3.28         2.95          80.0         8.0   \n",
              "4         11.27      8.89     10.22         1.00           NaN         NaN   \n",
              "...         ...       ...       ...          ...           ...         ...   \n",
              "16439      0.00      0.00      0.01         0.00           NaN         NaN   \n",
              "16440      0.00      0.01      0.00         0.00           NaN         NaN   \n",
              "16441      0.00      0.00      0.01         0.00           NaN         NaN   \n",
              "16442      0.01      0.00      0.00         0.00           NaN         NaN   \n",
              "16443      0.00      0.00      0.01         0.00           NaN         NaN   \n",
              "\n",
              "      rating  total_sale  \n",
              "0          E       82.54  \n",
              "1      пусто       40.24  \n",
              "2          E       35.52  \n",
              "3          E       32.77  \n",
              "4      пусто       31.38  \n",
              "...      ...         ...  \n",
              "16439  пусто        0.01  \n",
              "16440  пусто        0.01  \n",
              "16441  пусто        0.01  \n",
              "16442  пусто        0.01  \n",
              "16443  пусто        0.01  \n",
              "\n",
              "[16443 rows x 12 columns]"
            ]
          },
          "metadata": {},
          "output_type": "display_data"
        }
      ],
      "source": [
        "display(strim)"
      ]
    },
    {
      "cell_type": "markdown",
      "metadata": {
        "id": "izh4bci6pHCB"
      },
      "source": [
        "Вывод диаграмм:"
      ]
    },
    {
      "cell_type": "code",
      "execution_count": null,
      "metadata": {
        "scrolled": true,
        "id": "I9zhHjHkpHCB",
        "outputId": "df92dd0d-7966-486c-cd90-282f5887c62d"
      },
      "outputs": [
        {
          "data": {
            "image/png": "[encoded data removed]",
            "text/plain": [
              "<Figure size 432x288 with 1 Axes>"
            ]
          },
          "metadata": {
            "needs_background": "light"
          },
          "output_type": "display_data"
        }
      ],
      "source": [
        "strim['Platform'].hist(bins=int(1+np.log2(strim.shape[0])), xrot=90);"
      ]
    },
    {
      "cell_type": "markdown",
      "metadata": {
        "id": "w1Si9pl3pHCB"
      },
      "source": [
        "В лидерах по кол-ву выпущенных игр находятся X360 и PS3."
      ]
    },
    {
      "cell_type": "code",
      "execution_count": null,
      "metadata": {
        "scrolled": true,
        "id": "1HMmaEbdpHCB",
        "outputId": "69870113-049c-446f-a74f-f163e4431fb7"
      },
      "outputs": [
        {
          "data": {
            "image/png": "[encoded data removed]",
            "text/plain": [
              "<Figure size 432x288 with 1 Axes>"
            ]
          },
          "metadata": {
            "needs_background": "light"
          },
          "output_type": "display_data"
        }
      ],
      "source": [
        "strim['Year_of_Release'].hist(bins=int(1+np.log2(strim.shape[0])), range=(1980,2016));"
      ]
    },
    {
      "cell_type": "markdown",
      "metadata": {
        "id": "DLsXe5Y7pHCB"
      },
      "source": [
        "Наибольшее кол-во игр выпущено в 2009-2011 годах."
      ]
    },
    {
      "cell_type": "code",
      "execution_count": null,
      "metadata": {
        "id": "Yn_7B_AnpHCB",
        "outputId": "dcdc2006-5314-4431-f564-4217b3b11835"
      },
      "outputs": [
        {
          "data": {
            "image/png": "[encoded data removed]",
            "text/plain": [
              "<Figure size 432x288 with 1 Axes>"
            ]
          },
          "metadata": {
            "needs_background": "light"
          },
          "output_type": "display_data"
        }
      ],
      "source": [
        "strim['Genre'].hist(bins=int(1+np.log2(strim.shape[0])),xrot=90);"
      ]
    },
    {
      "cell_type": "markdown",
      "metadata": {
        "id": "M7WyOquWpHCC"
      },
      "source": [
        "Больше всего игр в жанре Action"
      ]
    },
    {
      "cell_type": "code",
      "execution_count": null,
      "metadata": {
        "id": "LNZEE80KpHCC",
        "outputId": "25c988d2-0a71-4e68-fcf3-e34bc0191925"
      },
      "outputs": [
        {
          "data": {
            "image/png": "[encoded data removed]",
            "text/plain": [
              "<Figure size 432x288 with 1 Axes>"
            ]
          },
          "metadata": {
            "needs_background": "light"
          },
          "output_type": "display_data"
        }
      ],
      "source": [
        "strim['NA_sales'].hist(bins=int(1+np.log2(strim.shape[0])), range = (0,10));"
      ]
    },
    {
      "cell_type": "markdown",
      "metadata": {
        "id": "MhVR28sNpHCF"
      },
      "source": [
        "Почти все игры имеют кол-во продаж в северной Америке менее 1 миллиона."
      ]
    },
    {
      "cell_type": "code",
      "execution_count": null,
      "metadata": {
        "scrolled": true,
        "id": "yW2X4RNYpHCF",
        "outputId": "9a37a26f-89d8-477d-9205-811fe9da9c81"
      },
      "outputs": [
        {
          "data": {
            "image/png": "[encoded data removed]",
            "text/plain": [
              "<Figure size 432x288 with 1 Axes>"
            ]
          },
          "metadata": {
            "needs_background": "light"
          },
          "output_type": "display_data"
        }
      ],
      "source": [
        "strim['EU_sales'].hist(bins=int(1+np.log2(strim.shape[0])), range = (0,10));"
      ]
    },
    {
      "cell_type": "markdown",
      "metadata": {
        "id": "AAZvvgSTpHCF"
      },
      "source": [
        "Большинство игр имеют кол-во продаж в Европе менее 1 миллиона."
      ]
    },
    {
      "cell_type": "code",
      "execution_count": null,
      "metadata": {
        "scrolled": true,
        "id": "uvvLwBDDpHCF",
        "outputId": "70c8f2d6-d5b5-4afc-c1c6-cf49c0870788"
      },
      "outputs": [
        {
          "data": {
            "image/png": "[encoded data removed]",
            "text/plain": [
              "<Figure size 432x288 with 1 Axes>"
            ]
          },
          "metadata": {
            "needs_background": "light"
          },
          "output_type": "display_data"
        }
      ],
      "source": [
        "strim['JP_sales'].hist(bins=int(1+np.log2(strim.shape[0])), range = (0,10));"
      ]
    },
    {
      "cell_type": "markdown",
      "metadata": {
        "id": "DZEVWh60pHCF"
      },
      "source": [
        "В основном игры имеют кол-во продаж в северной Америке менее 1 миллиона."
      ]
    },
    {
      "cell_type": "code",
      "execution_count": null,
      "metadata": {
        "id": "q38VE6FrpHCF",
        "outputId": "c44f8dfd-6863-4ec4-d405-57536b246837"
      },
      "outputs": [
        {
          "data": {
            "image/png": "[encoded data removed]",
            "text/plain": [
              "<Figure size 432x288 with 1 Axes>"
            ]
          },
          "metadata": {
            "needs_background": "light"
          },
          "output_type": "display_data"
        }
      ],
      "source": [
        "strim['Other_sales'].hist(bins=int(1+np.log2(strim.shape[0])), range = (0,10));"
      ]
    },
    {
      "cell_type": "markdown",
      "metadata": {
        "id": "Ji3am2rupHCF"
      },
      "source": [
        "Почти все игры имеют кол-во продаж в остальных регионах менее 1 миллиона."
      ]
    },
    {
      "cell_type": "code",
      "execution_count": null,
      "metadata": {
        "id": "HMAqzf8kpHCF",
        "outputId": "df07a4ec-2617-4dc0-c717-9886d9be5c35"
      },
      "outputs": [
        {
          "data": {
            "image/png": "[encoded data removed]",
            "text/plain": [
              "<Figure size 432x288 with 1 Axes>"
            ]
          },
          "metadata": {
            "needs_background": "light"
          },
          "output_type": "display_data"
        }
      ],
      "source": [
        "strim['Critic_Score'].hist(bins=int(1+np.log2(strim.shape[0])), range = (0,100));"
      ]
    },
    {
      "cell_type": "markdown",
      "metadata": {
        "id": "LQZTauJ_pHCF"
      },
      "source": [
        "Большинство игр получили оценку от критиков 70 баллов из 100."
      ]
    },
    {
      "cell_type": "code",
      "execution_count": null,
      "metadata": {
        "id": "2dcg7mNEpHCG",
        "outputId": "340ae848-6069-4f63-c75c-b10b7eef2567"
      },
      "outputs": [
        {
          "data": {
            "image/png": "[encoded data removed]",
            "text/plain": [
              "<Figure size 1440x360 with 1 Axes>"
            ]
          },
          "metadata": {
            "needs_background": "light"
          },
          "output_type": "display_data"
        }
      ],
      "source": [
        "strim['User_Score'].sort_values().hist(bins=int(1+np.log2(strim.shape[0])), range = (0,100), xrot=90, figsize = (20,5));"
      ]
    },
    {
      "cell_type": "markdown",
      "metadata": {
        "id": "WfN1pNcspHCG"
      },
      "source": [
        "Самой популярная оценка от пользователей в диапазоне 7,7 - 8,3. Также много значений tbd - пустых."
      ]
    },
    {
      "cell_type": "code",
      "execution_count": null,
      "metadata": {
        "id": "2Jl_vTcUpHCG",
        "outputId": "57376039-80ee-4455-8e12-8aeb824fb702"
      },
      "outputs": [
        {
          "data": {
            "image/png": "[encoded data removed]",
            "text/plain": [
              "<Figure size 432x288 with 1 Axes>"
            ]
          },
          "metadata": {
            "needs_background": "light"
          },
          "output_type": "display_data"
        }
      ],
      "source": [
        "strim['Rating'].hist(bins=int(1+np.log2(strim.shape[0])));"
      ]
    },
    {
      "cell_type": "markdown",
      "metadata": {
        "id": "0W9HV1WbpHCG"
      },
      "source": [
        "Оснавная масса игр имеет рейтинг E и T."
      ]
    },
    {
      "cell_type": "markdown",
      "metadata": {
        "id": "TQNRvsa1pHCG"
      },
      "source": [
        "После ознакомления с данными, можно подытожить, что в большинстве столбцов есть выделяющиеся значения, а столбцы с critic_score, user_score и rating имеют много пропусков. Значения в столбцах с продажами в основном менее 1млн."
      ]
    },
    {
      "cell_type": "markdown",
      "metadata": {
        "id": "UOwukJJ5pHCG"
      },
      "source": [
        "## Шаг. Предобработка данных"
      ]
    },
    {
      "cell_type": "markdown",
      "metadata": {
        "id": "c4Q-etl0pHCG"
      },
      "source": [
        "<a id='section2_1'></a>\n",
        "### Приведение столбцов к нижнему регистру"
      ]
    },
    {
      "cell_type": "code",
      "execution_count": null,
      "metadata": {
        "id": "teNFFfTmpHCG"
      },
      "outputs": [],
      "source": [
        "strim.columns = strim.columns.str.lower()"
      ]
    },
    {
      "cell_type": "markdown",
      "metadata": {
        "id": "KujSKqCOpHCH"
      },
      "source": [
        "Изучение уникальных значений и пропусков:"
      ]
    },
    {
      "cell_type": "code",
      "execution_count": null,
      "metadata": {
        "id": "RTVeS1uHpHCH",
        "outputId": "8e962924-4f9a-46dc-e8db-9994503ea776"
      },
      "outputs": [
        {
          "name": "stdout",
          "output_type": "stream",
          "text": [
            "[2006. 1985. 2008. 2009. 1996. 1989. 1984. 2005. 1999. 2007. 2010. 2013.\n",
            " 2004. 1990. 1988. 2002. 2001. 2011. 1998. 2015. 2012. 2014. 1992. 1997.\n",
            " 1993. 1994. 1982. 2016. 2003. 1986. 2000.   nan 1995. 1991. 1981. 1987.\n",
            " 1980. 1983.]\n",
            "['Sports' 'Platform' 'Racing' 'Role-Playing' 'Puzzle' 'Misc' 'Shooter'\n",
            " 'Simulation' 'Action' 'Fighting' 'Adventure' 'Strategy' nan]\n",
            "[76. nan 82. 80. 89. 58. 87. 91. 61. 97. 95. 77. 88. 83. 94. 93. 85. 86.\n",
            " 98. 96. 90. 84. 73. 74. 78. 92. 71. 72. 68. 62. 49. 67. 81. 66. 56. 79.\n",
            " 70. 59. 64. 75. 60. 63. 69. 50. 25. 42. 44. 55. 48. 57. 29. 47. 65. 54.\n",
            " 20. 53. 37. 38. 33. 52. 30. 32. 43. 45. 51. 40. 46. 39. 34. 35. 41. 36.\n",
            " 28. 31. 27. 26. 19. 23. 24. 21. 17. 22. 13.]\n",
            "['8' nan '8.3' '8.5' '6.6' '8.4' '8.6' '7.7' '6.3' '7.4' '8.2' '9' '7.9'\n",
            " '8.1' '8.7' '7.1' '3.4' '5.3' '4.8' '3.2' '8.9' '6.4' '7.8' '7.5' '2.6'\n",
            " '7.2' '9.2' '7' '7.3' '4.3' '7.6' '5.7' '5' '9.1' '6.5' 'tbd' '8.8' '6.9'\n",
            " '9.4' '6.8' '6.1' '6.7' '5.4' '4' '4.9' '4.5' '9.3' '6.2' '4.2' '6' '3.7'\n",
            " '4.1' '5.8' '5.6' '5.5' '4.4' '4.6' '5.9' '3.9' '3.1' '2.9' '5.2' '3.3'\n",
            " '4.7' '5.1' '3.5' '2.5' '1.9' '3' '2.7' '2.2' '2' '9.5' '2.1' '3.6' '2.8'\n",
            " '1.8' '3.8' '0' '1.6' '9.6' '2.4' '1.7' '1.1' '0.3' '1.5' '0.7' '1.2'\n",
            " '2.3' '0.5' '1.3' '0.2' '0.6' '1.4' '0.9' '1' '9.7']\n",
            "['E' nan 'M' 'T' 'E10+' 'K-A' 'AO' 'EC' 'RP']\n"
          ]
        }
      ],
      "source": [
        "print(strim['year_of_release'].unique())\n",
        "print(strim['genre'].unique())\n",
        "print(strim['critic_score'].unique())\n",
        "print(strim['user_score'].unique())\n",
        "print(strim['rating'].unique())"
      ]
    },
    {
      "cell_type": "markdown",
      "metadata": {
        "id": "Sm7vbhH3pHCH"
      },
      "source": [
        "Значения tbd в столбце user_score заменены на NaN, т.к. это пустые значения и это нужно для дальнейшей работы со столбцом.\n",
        "Пропуски в столбце с именем удалены, их всего 2, а без имени рассматривать эти данные смысла нет.\n",
        "Пустые значения в столбцах user и critic score можно оставить, т.к. их модификация повлечёт погрешность при дальнейшем анализе.\n",
        "Пропуски могли появится из-за отсутствия возможности оценки со стороны пользователей и оценки критиков в некоторых играх, платформах и странах. В столбце с рейтингами ситуация аналогичная, ESRB рейтинг остутствует, т.к. возрастные рейтинги в Японии выдаются компанией CERO. На европейских проектах PEGI. Это объясняет наличие пустых значений в Европе и Северной Америке."
      ]
    },
    {
      "cell_type": "code",
      "execution_count": null,
      "metadata": {
        "id": "mVT6Y5qfpHCI",
        "outputId": "2a730f02-29bd-46f2-b211-f999d6f9e8dd"
      },
      "outputs": [
        {
          "data": {
            "text/plain": [
              "array(['8', nan, '8.3', '8.5', '6.6', '8.4', '8.6', '7.7', '6.3', '7.4',\n",
              "       '8.2', '9', '7.9', '8.1', '8.7', '7.1', '3.4', '5.3', '4.8', '3.2',\n",
              "       '8.9', '6.4', '7.8', '7.5', '2.6', '7.2', '9.2', '7', '7.3', '4.3',\n",
              "       '7.6', '5.7', '5', '9.1', '6.5', '8.8', '6.9', '9.4', '6.8', '6.1',\n",
              "       '6.7', '5.4', '4', '4.9', '4.5', '9.3', '6.2', '4.2', '6', '3.7',\n",
              "       '4.1', '5.8', '5.6', '5.5', '4.4', '4.6', '5.9', '3.9', '3.1',\n",
              "       '2.9', '5.2', '3.3', '4.7', '5.1', '3.5', '2.5', '1.9', '3', '2.7',\n",
              "       '2.2', '2', '9.5', '2.1', '3.6', '2.8', '1.8', '3.8', '0', '1.6',\n",
              "       '9.6', '2.4', '1.7', '1.1', '0.3', '1.5', '0.7', '1.2', '2.3',\n",
              "       '0.5', '1.3', '0.2', '0.6', '1.4', '0.9', '1', '9.7'], dtype=object)"
            ]
          },
          "execution_count": 16,
          "metadata": {},
          "output_type": "execute_result"
        }
      ],
      "source": [
        "strim['user_score'] = strim['user_score'].replace('tbd', np.NaN)\n",
        "strim['user_score'].unique()"
      ]
    },
    {
      "cell_type": "markdown",
      "metadata": {
        "id": "MtHUcaRmpHCI"
      },
      "source": [
        "Замена значений tbd в user_score на NAN т.к, это пустые значения."
      ]
    },
    {
      "cell_type": "markdown",
      "metadata": {
        "id": "62t566A5pHCI"
      },
      "source": [
        "В столбце два значения 'K-A' и 'E10+' - значения одинаковые (\"K-A\" (\"Kids to Adults\"),было переименовано на E10+), поэтому  переименоваем 'K-A' в 'E10+'."
      ]
    },
    {
      "cell_type": "code",
      "execution_count": null,
      "metadata": {
        "id": "HsfFUt-6pHCI"
      },
      "outputs": [],
      "source": [
        "strim['rating'] = strim['rating'].replace('K-A', 'E10+')"
      ]
    },
    {
      "cell_type": "code",
      "execution_count": null,
      "metadata": {
        "scrolled": true,
        "id": "2RvFNGsNpHCI",
        "outputId": "c7ea99a6-cdc0-4944-8f18-b65838f772c8"
      },
      "outputs": [
        {
          "name": "stdout",
          "output_type": "stream",
          "text": [
            "<class 'pandas.core.frame.DataFrame'>\n",
            "RangeIndex: 16715 entries, 0 to 16714\n",
            "Data columns (total 11 columns):\n",
            " #   Column           Non-Null Count  Dtype  \n",
            "---  ------           --------------  -----  \n",
            " 0   name             16713 non-null  object \n",
            " 1   platform         16715 non-null  object \n",
            " 2   year_of_release  16446 non-null  float64\n",
            " 3   genre            16713 non-null  object \n",
            " 4   na_sales         16715 non-null  float64\n",
            " 5   eu_sales         16715 non-null  float64\n",
            " 6   jp_sales         16715 non-null  float64\n",
            " 7   other_sales      16715 non-null  float64\n",
            " 8   critic_score     8137 non-null   float64\n",
            " 9   user_score       7590 non-null   object \n",
            " 10  rating           9949 non-null   object \n",
            "dtypes: float64(6), object(5)\n",
            "memory usage: 1.4+ MB\n"
          ]
        }
      ],
      "source": [
        "strim.info()"
      ]
    },
    {
      "cell_type": "markdown",
      "metadata": {
        "id": "rVaWysQLpHCI"
      },
      "source": [
        "Есть 2 пропуска в стобце name, которые нужно заменить, чтобы они не влияли на анализ данных. \\\n",
        "Также около 300 пропусков в столбце year_of_release, которые стоит удалить, т.к. нечем заменить. \\\n",
        "Пропуски в genre можно, заменить, потому что нельзя его установиить точно. \\\n",
        "Пропуски в столбцах с оценками можно заменить медианным значением, т.к. значений для удаления много. \\\n",
        "Пропуски в столбце рейтинг можно заменить, на значение 'пусто', удалять не стоит, т.к. это большая часть данных."
      ]
    },
    {
      "cell_type": "markdown",
      "metadata": {
        "id": "4a4-U6UppHCI"
      },
      "source": [
        "<a id='section2_2'></a>\n",
        "### Обработка пропусков:"
      ]
    },
    {
      "cell_type": "code",
      "execution_count": null,
      "metadata": {
        "id": "k8rnXVatpHCI"
      },
      "outputs": [],
      "source": [
        "bef = strim.shape[0]\n",
        "strim.dropna(subset = ['name', 'year_of_release', 'genre'], inplace = True)\n",
        "strim['rating'] = strim['rating'].replace(np.NaN, 'пусто')\n",
        "aft = strim.shape[0]"
      ]
    },
    {
      "cell_type": "code",
      "execution_count": null,
      "metadata": {
        "id": "d7CgLITnpHCJ",
        "outputId": "caac9732-a03b-43bf-c1e0-b5bafc14cb62"
      },
      "outputs": [
        {
          "name": "stdout",
          "output_type": "stream",
          "text": [
            "271\n",
            "Процент удалённых данных: 1.6212982351181575\n"
          ]
        }
      ],
      "source": [
        "shap = bef - aft\n",
        "print(shap)\n",
        "print('Процент удалённых данных:', shap/bef*100)"
      ]
    },
    {
      "cell_type": "markdown",
      "metadata": {
        "id": "vsOumBgtpHCJ"
      },
      "source": [
        "После удалений строк с пустыми значениями потери составили 1,6%"
      ]
    },
    {
      "cell_type": "markdown",
      "metadata": {
        "id": "hgDHlinNpHCJ"
      },
      "source": [
        "Обновление индексов после очистки пустых значений."
      ]
    },
    {
      "cell_type": "code",
      "execution_count": null,
      "metadata": {
        "id": "6ByS9Q4GpHCJ"
      },
      "outputs": [],
      "source": [
        "strim.reset_index(drop = True , inplace = True)"
      ]
    },
    {
      "cell_type": "markdown",
      "metadata": {
        "id": "Mly4dFT5pHCJ"
      },
      "source": [
        "<a id='section2_3'></a>\n",
        "### Преобразование данных в нужные типы."
      ]
    },
    {
      "cell_type": "code",
      "execution_count": null,
      "metadata": {
        "id": "G2LVTAEOpHCJ",
        "outputId": "4989a590-4fff-43c9-a14c-e89d1a07e543"
      },
      "outputs": [
        {
          "name": "stdout",
          "output_type": "stream",
          "text": [
            "<class 'pandas.core.frame.DataFrame'>\n",
            "RangeIndex: 16444 entries, 0 to 16443\n",
            "Data columns (total 11 columns):\n",
            " #   Column           Non-Null Count  Dtype  \n",
            "---  ------           --------------  -----  \n",
            " 0   name             16444 non-null  object \n",
            " 1   platform         16444 non-null  object \n",
            " 2   year_of_release  16444 non-null  Int64  \n",
            " 3   genre            16444 non-null  object \n",
            " 4   na_sales         16444 non-null  float64\n",
            " 5   eu_sales         16444 non-null  float64\n",
            " 6   jp_sales         16444 non-null  float64\n",
            " 7   other_sales      16444 non-null  float64\n",
            " 8   critic_score     7983 non-null   float64\n",
            " 9   user_score       7463 non-null   float64\n",
            " 10  rating           16444 non-null  object \n",
            "dtypes: Int64(1), float64(6), object(4)\n",
            "memory usage: 1.4+ MB\n"
          ]
        }
      ],
      "source": [
        "strim = strim.astype({'year_of_release':'Int64','user_score':'float'})\n",
        "strim.info()"
      ]
    },
    {
      "cell_type": "markdown",
      "metadata": {
        "id": "jKl9U7pVpHCJ"
      },
      "source": [
        "Заменен тип столбца year_of_release на int, т.к. год содержит только целые значения, user_score на flaot64, т.к. в нём числовые значения."
      ]
    },
    {
      "cell_type": "code",
      "execution_count": null,
      "metadata": {
        "id": "OoefrHxzpHCK",
        "outputId": "c43e7036-74b3-43f1-e22a-8e5a1f7efe73"
      },
      "outputs": [
        {
          "data": {
            "text/html": [
              "<div>\n",
              "<style scoped>\n",
              "    .dataframe tbody tr th:only-of-type {\n",
              "        vertical-align: middle;\n",
              "    }\n",
              "\n",
              "    .dataframe tbody tr th {\n",
              "        vertical-align: top;\n",
              "    }\n",
              "\n",
              "    .dataframe thead th {\n",
              "        text-align: right;\n",
              "    }\n",
              "</style>\n",
              "<table border=\"1\" class=\"dataframe\">\n",
              "  <thead>\n",
              "    <tr style=\"text-align: right;\">\n",
              "      <th></th>\n",
              "      <th>name</th>\n",
              "      <th>platform</th>\n",
              "      <th>year_of_release</th>\n",
              "      <th>genre</th>\n",
              "      <th>na_sales</th>\n",
              "      <th>eu_sales</th>\n",
              "      <th>jp_sales</th>\n",
              "      <th>other_sales</th>\n",
              "      <th>critic_score</th>\n",
              "      <th>user_score</th>\n",
              "      <th>rating</th>\n",
              "    </tr>\n",
              "  </thead>\n",
              "  <tbody>\n",
              "    <tr>\n",
              "      <th>600</th>\n",
              "      <td>Madden NFL 13</td>\n",
              "      <td>PS3</td>\n",
              "      <td>2012</td>\n",
              "      <td>Sports</td>\n",
              "      <td>2.11</td>\n",
              "      <td>0.22</td>\n",
              "      <td>0.00</td>\n",
              "      <td>0.23</td>\n",
              "      <td>83.0</td>\n",
              "      <td>5.5</td>\n",
              "      <td>E</td>\n",
              "    </tr>\n",
              "    <tr>\n",
              "      <th>1177</th>\n",
              "      <td>Need for Speed: Most Wanted</td>\n",
              "      <td>X360</td>\n",
              "      <td>2012</td>\n",
              "      <td>Racing</td>\n",
              "      <td>0.62</td>\n",
              "      <td>0.78</td>\n",
              "      <td>0.01</td>\n",
              "      <td>0.15</td>\n",
              "      <td>83.0</td>\n",
              "      <td>8.5</td>\n",
              "      <td>T</td>\n",
              "    </tr>\n",
              "    <tr>\n",
              "      <th>1574</th>\n",
              "      <td>Need for Speed: Most Wanted</td>\n",
              "      <td>X360</td>\n",
              "      <td>2005</td>\n",
              "      <td>Racing</td>\n",
              "      <td>1.00</td>\n",
              "      <td>0.13</td>\n",
              "      <td>0.02</td>\n",
              "      <td>0.10</td>\n",
              "      <td>83.0</td>\n",
              "      <td>8.5</td>\n",
              "      <td>T</td>\n",
              "    </tr>\n",
              "    <tr>\n",
              "      <th>5883</th>\n",
              "      <td>Need for Speed: Most Wanted</td>\n",
              "      <td>PC</td>\n",
              "      <td>2005</td>\n",
              "      <td>Racing</td>\n",
              "      <td>0.02</td>\n",
              "      <td>0.23</td>\n",
              "      <td>0.00</td>\n",
              "      <td>0.04</td>\n",
              "      <td>82.0</td>\n",
              "      <td>8.5</td>\n",
              "      <td>T</td>\n",
              "    </tr>\n",
              "    <tr>\n",
              "      <th>11534</th>\n",
              "      <td>Need for Speed: Most Wanted</td>\n",
              "      <td>PC</td>\n",
              "      <td>2012</td>\n",
              "      <td>Racing</td>\n",
              "      <td>0.00</td>\n",
              "      <td>0.06</td>\n",
              "      <td>0.00</td>\n",
              "      <td>0.02</td>\n",
              "      <td>82.0</td>\n",
              "      <td>8.5</td>\n",
              "      <td>T</td>\n",
              "    </tr>\n",
              "    <tr>\n",
              "      <th>15969</th>\n",
              "      <td>Madden NFL 13</td>\n",
              "      <td>PS3</td>\n",
              "      <td>2012</td>\n",
              "      <td>Sports</td>\n",
              "      <td>0.00</td>\n",
              "      <td>0.01</td>\n",
              "      <td>0.00</td>\n",
              "      <td>0.00</td>\n",
              "      <td>83.0</td>\n",
              "      <td>5.5</td>\n",
              "      <td>E</td>\n",
              "    </tr>\n",
              "  </tbody>\n",
              "</table>\n",
              "</div>"
            ],
            "text/plain": [
              "                              name platform  year_of_release   genre  \\\n",
              "600                  Madden NFL 13      PS3             2012  Sports   \n",
              "1177   Need for Speed: Most Wanted     X360             2012  Racing   \n",
              "1574   Need for Speed: Most Wanted     X360             2005  Racing   \n",
              "5883   Need for Speed: Most Wanted       PC             2005  Racing   \n",
              "11534  Need for Speed: Most Wanted       PC             2012  Racing   \n",
              "15969                Madden NFL 13      PS3             2012  Sports   \n",
              "\n",
              "       na_sales  eu_sales  jp_sales  other_sales  critic_score  user_score  \\\n",
              "600        2.11      0.22      0.00         0.23          83.0         5.5   \n",
              "1177       0.62      0.78      0.01         0.15          83.0         8.5   \n",
              "1574       1.00      0.13      0.02         0.10          83.0         8.5   \n",
              "5883       0.02      0.23      0.00         0.04          82.0         8.5   \n",
              "11534      0.00      0.06      0.00         0.02          82.0         8.5   \n",
              "15969      0.00      0.01      0.00         0.00          83.0         5.5   \n",
              "\n",
              "      rating  \n",
              "600        E  \n",
              "1177       T  \n",
              "1574       T  \n",
              "5883       T  \n",
              "11534      T  \n",
              "15969      E  "
            ]
          },
          "execution_count": 23,
          "metadata": {},
          "output_type": "execute_result"
        }
      ],
      "source": [
        "strim[strim[['name','platform']].duplicated(keep=False)]"
      ]
    },
    {
      "cell_type": "markdown",
      "metadata": {
        "id": "nSK3BDC3pHCK"
      },
      "source": [
        "Строки с Need for Speed: Most Wanted не явлются дубликатами, т.к. имеется 2 версии этой игры 2005 и 2012 годов. Вторую запись Madden NFL 13\tследует удалить, т.к. она является копией и в отличии от первой записи имеет меньше информации по оценкам."
      ]
    },
    {
      "cell_type": "markdown",
      "metadata": {
        "id": "U7_lUygEpHCK"
      },
      "source": [
        "Удаление дубликатов:"
      ]
    },
    {
      "cell_type": "code",
      "execution_count": null,
      "metadata": {
        "id": "-8v9EGzHpHCK"
      },
      "outputs": [],
      "source": [
        "strim = strim.drop(index=15969)"
      ]
    },
    {
      "cell_type": "markdown",
      "metadata": {
        "id": "lse1ybaIpHCK"
      },
      "source": [
        "<a id='section2_4'></a>\n",
        "### Добавление столбца с суммарными продажами."
      ]
    },
    {
      "cell_type": "code",
      "execution_count": null,
      "metadata": {
        "id": "v3L5ZRmmpHCK"
      },
      "outputs": [],
      "source": [
        "strim['total_sale'] = strim['na_sales'] + strim['eu_sales'] + strim['jp_sales'] + strim['other_sales']"
      ]
    },
    {
      "cell_type": "markdown",
      "metadata": {
        "id": "PjboRrt8pHCK"
      },
      "source": [
        "Заменен тип столбца year_of_release на int, т.к год содержит только целочисленные значения и user_score с object на flaot64, т.к. в нём числовые значения. Также заполнены пропуски значением - 'пусто' в столбце rating и critic_score, user_score на медианные значения для удобства при анализе."
      ]
    },
    {
      "cell_type": "markdown",
      "metadata": {
        "id": "-2Mw5gDNpHCK"
      },
      "source": [
        "## Шаг. Проведение исследовательского анализа данных"
      ]
    },
    {
      "cell_type": "markdown",
      "metadata": {
        "id": "iWPqycrfpHCL"
      },
      "source": [
        "<a id='section3_1'></a>\n",
        "### Сколько игр выпускалось в разные годы. Важность данных по периодам."
      ]
    },
    {
      "cell_type": "markdown",
      "metadata": {
        "id": "c-G2KDpwpHCL"
      },
      "source": [
        "Создание датафрейма с релизом каждой игры только на одной платформе, для подсчёта игр по годам."
      ]
    },
    {
      "cell_type": "code",
      "execution_count": null,
      "metadata": {
        "id": "sJsF9-zcpHCL"
      },
      "outputs": [],
      "source": [
        "per_year = strim.drop_duplicates(subset = ['name','year_of_release'])"
      ]
    },
    {
      "cell_type": "markdown",
      "metadata": {
        "id": "mAnGp28qpHCL"
      },
      "source": [
        "Вывод информации по кол-ву игр по годам."
      ]
    },
    {
      "cell_type": "code",
      "execution_count": null,
      "metadata": {
        "id": "3kPN2HBfpHCL",
        "outputId": "157f1dc7-812b-4990-8159-597062ef1885"
      },
      "outputs": [
        {
          "data": {
            "text/plain": [
              "year_of_release\n",
              "1980       9\n",
              "1981      46\n",
              "1982      36\n",
              "1983      17\n",
              "1984      14\n",
              "1985      14\n",
              "1986      21\n",
              "1987      16\n",
              "1988      15\n",
              "1989      17\n",
              "1990      16\n",
              "1991      40\n",
              "1992      41\n",
              "1993      59\n",
              "1994     117\n",
              "1995     215\n",
              "1996     258\n",
              "1997     282\n",
              "1998     364\n",
              "1999     326\n",
              "2000     325\n",
              "2001     428\n",
              "2002     631\n",
              "2003     546\n",
              "2004     550\n",
              "2005     657\n",
              "2006     773\n",
              "2007     884\n",
              "2008    1039\n",
              "2009    1001\n",
              "2010     900\n",
              "2011     779\n",
              "2012     446\n",
              "2013     335\n",
              "2014     319\n",
              "2015     362\n",
              "2016     297\n",
              "Name: year_of_release, dtype: int64"
            ]
          },
          "execution_count": 68,
          "metadata": {},
          "output_type": "execute_result"
        }
      ],
      "source": [
        "per_year.groupby('year_of_release')['year_of_release'].count()"
      ]
    },
    {
      "cell_type": "markdown",
      "metadata": {
        "id": "LN1xQfeDpHCL"
      },
      "source": [
        "Проверка теории дубликатов по годам."
      ]
    },
    {
      "cell_type": "code",
      "execution_count": null,
      "metadata": {
        "id": "SCglmpG_pHCL",
        "outputId": "3612ea75-e883-457b-ee6a-f013c4997f68"
      },
      "outputs": [
        {
          "data": {
            "text/html": [
              "<div>\n",
              "<style scoped>\n",
              "    .dataframe tbody tr th:only-of-type {\n",
              "        vertical-align: middle;\n",
              "    }\n",
              "\n",
              "    .dataframe tbody tr th {\n",
              "        vertical-align: top;\n",
              "    }\n",
              "\n",
              "    .dataframe thead th {\n",
              "        text-align: right;\n",
              "    }\n",
              "</style>\n",
              "<table border=\"1\" class=\"dataframe\">\n",
              "  <thead>\n",
              "    <tr style=\"text-align: right;\">\n",
              "      <th></th>\n",
              "      <th>name</th>\n",
              "      <th>platform</th>\n",
              "      <th>year_of_release</th>\n",
              "      <th>genre</th>\n",
              "      <th>na_sales</th>\n",
              "      <th>eu_sales</th>\n",
              "      <th>jp_sales</th>\n",
              "      <th>other_sales</th>\n",
              "      <th>critic_score</th>\n",
              "      <th>user_score</th>\n",
              "      <th>rating</th>\n",
              "      <th>total_sale</th>\n",
              "    </tr>\n",
              "  </thead>\n",
              "  <tbody>\n",
              "  </tbody>\n",
              "</table>\n",
              "</div>"
            ],
            "text/plain": [
              "Empty DataFrame\n",
              "Columns: [name, platform, year_of_release, genre, na_sales, eu_sales, jp_sales, other_sales, critic_score, user_score, rating, total_sale]\n",
              "Index: []"
            ]
          },
          "execution_count": 27,
          "metadata": {},
          "output_type": "execute_result"
        }
      ],
      "source": [
        "per_year[per_year[['name','year_of_release']].duplicated()]"
      ]
    },
    {
      "cell_type": "markdown",
      "metadata": {
        "id": "vm4FxCvPpHCL"
      },
      "source": [
        "<a id='section3_2'></a>\n",
        "### Платформы с наибольшими суммарными продажами и их распределение по годам."
      ]
    },
    {
      "cell_type": "markdown",
      "metadata": {
        "id": "fCpdyQnXpHCL"
      },
      "source": [
        "Продажи по платформам."
      ]
    },
    {
      "cell_type": "code",
      "execution_count": null,
      "metadata": {
        "id": "w85Me89wpHCL",
        "outputId": "38e8bc96-3bb5-4b21-b5a7-77748bbbb5e9"
      },
      "outputs": [
        {
          "data": {
            "text/plain": [
              "platform\n",
              "PCFX       0.03\n",
              "GG         0.04\n",
              "3DO        0.10\n",
              "TG16       0.16\n",
              "WS         1.42\n",
              "NG         1.44\n",
              "SCD        1.86\n",
              "DC        15.95\n",
              "GEN       28.35\n",
              "SAT       33.59\n",
              "PSV       53.81\n",
              "WiiU      82.19\n",
              "2600      86.48\n",
              "XOne     159.32\n",
              "GC       196.73\n",
              "SNES     200.04\n",
              "N64      218.01\n",
              "NES      251.05\n",
              "XB       251.57\n",
              "GB       254.43\n",
              "PC       255.76\n",
              "3DS      257.81\n",
              "PSP      289.53\n",
              "GBA      312.88\n",
              "PS4      314.14\n",
              "PS       727.58\n",
              "DS       802.78\n",
              "Wii      891.18\n",
              "PS3      931.33\n",
              "X360     961.24\n",
              "PS2     1233.56\n",
              "Name: total_sale, dtype: float64"
            ]
          },
          "execution_count": 28,
          "metadata": {},
          "output_type": "execute_result"
        }
      ],
      "source": [
        "strim.groupby('platform')['total_sale'].sum().sort_values()"
      ]
    },
    {
      "cell_type": "markdown",
      "metadata": {
        "id": "vYtN7-QxpHCL"
      },
      "source": [
        "Функция для графика платформ с наибольшими суммарными продажами и распределение по годам."
      ]
    },
    {
      "cell_type": "code",
      "execution_count": null,
      "metadata": {
        "id": "_B56OsOmpHCL"
      },
      "outputs": [],
      "source": [
        "def paltf_year(platf):\n",
        "    strim[strim['platform'] == platf].groupby('year_of_release')['total_sale'].sum().plot();"
      ]
    },
    {
      "cell_type": "code",
      "execution_count": null,
      "metadata": {
        "id": "g60J4bQnpHCM",
        "outputId": "4d307b21-cdd0-43a4-ec79-6e2ba842f16e"
      },
      "outputs": [
        {
          "data": {
            "image/png": "[encoded data removed]",
            "text/plain": [
              "<Figure size 432x288 with 1 Axes>"
            ]
          },
          "metadata": {
            "needs_background": "light"
          },
          "output_type": "display_data"
        }
      ],
      "source": [
        "paltf_year('PS2')"
      ]
    },
    {
      "cell_type": "markdown",
      "metadata": {
        "id": "68ewSojPpHCM"
      },
      "source": [
        "По графику видно, что пик продаж/популярности платформы PS2 был с 2001 по 2005 год."
      ]
    },
    {
      "cell_type": "code",
      "execution_count": null,
      "metadata": {
        "id": "YrhCeN0epHCM",
        "outputId": "dab8565e-4b00-4d40-cf84-66cb5f8fcf8e"
      },
      "outputs": [
        {
          "data": {
            "image/png": "[encoded data removed]",
            "text/plain": [
              "<Figure size 432x288 with 1 Axes>"
            ]
          },
          "metadata": {
            "needs_background": "light"
          },
          "output_type": "display_data"
        }
      ],
      "source": [
        "paltf_year('X360')"
      ]
    },
    {
      "cell_type": "markdown",
      "metadata": {
        "id": "6X47N4H1pHCM"
      },
      "source": [
        "По графику видно, что пик продаж/популярности платформы X360 был с 2008 по 2012 год."
      ]
    },
    {
      "cell_type": "code",
      "execution_count": null,
      "metadata": {
        "id": "c44ZoHcrpHCM",
        "outputId": "a347073f-f024-464d-a65c-0ce7214c40bd"
      },
      "outputs": [
        {
          "data": {
            "image/png": "[encoded data removed]",
            "text/plain": [
              "<Figure size 432x288 with 1 Axes>"
            ]
          },
          "metadata": {
            "needs_background": "light"
          },
          "output_type": "display_data"
        }
      ],
      "source": [
        "paltf_year('PS3')"
      ]
    },
    {
      "cell_type": "markdown",
      "metadata": {
        "id": "kBR02jXhpHCM"
      },
      "source": [
        "По графику видно, что пик продаж/популярности платформы PS3 был с 2008 по 2013 год."
      ]
    },
    {
      "cell_type": "code",
      "execution_count": null,
      "metadata": {
        "id": "UcoyoPYDpHCM",
        "outputId": "0deaf266-2608-4b14-b01f-3c7a81f859e8"
      },
      "outputs": [
        {
          "data": {
            "image/png": "[encoded data removed]",
            "text/plain": [
              "<Figure size 432x288 with 1 Axes>"
            ]
          },
          "metadata": {
            "needs_background": "light"
          },
          "output_type": "display_data"
        }
      ],
      "source": [
        "paltf_year('Wii')"
      ]
    },
    {
      "cell_type": "markdown",
      "metadata": {
        "id": "BZ99emvVpHCM"
      },
      "source": [
        "По графику видно, что пик продаж/популярности платформы Wii был в 2009 году."
      ]
    },
    {
      "cell_type": "code",
      "execution_count": null,
      "metadata": {
        "id": "q9r6vxmLpHCM",
        "outputId": "d636e4a7-78d3-4913-ea2c-6c1d16bd3f1f"
      },
      "outputs": [
        {
          "data": {
            "image/png": "[encoded data removed]",
            "text/plain": [
              "<Figure size 432x288 with 1 Axes>"
            ]
          },
          "metadata": {
            "needs_background": "light"
          },
          "output_type": "display_data"
        }
      ],
      "source": [
        "paltf_year('DS')"
      ]
    },
    {
      "cell_type": "markdown",
      "metadata": {
        "id": "jjvGMi1_pHCM"
      },
      "source": [
        "По графику видно, что пик продаж/популярности платформы DS был с 2005 по 2010 год."
      ]
    },
    {
      "cell_type": "code",
      "execution_count": null,
      "metadata": {
        "id": "XXih4OS5pHCM",
        "outputId": "44f4b578-c87d-4789-c5c0-adbcc9169c59"
      },
      "outputs": [
        {
          "data": {
            "image/png": "[encoded data removed]",
            "text/plain": [
              "<Figure size 432x288 with 1 Axes>"
            ]
          },
          "metadata": {
            "needs_background": "light"
          },
          "output_type": "display_data"
        }
      ],
      "source": [
        "paltf_year('PS')"
      ]
    },
    {
      "cell_type": "markdown",
      "metadata": {
        "id": "gtjnVwgdpHCM"
      },
      "source": [
        "По графику видно, что пик продаж/популярности платформы PS был в 1998 году."
      ]
    },
    {
      "cell_type": "markdown",
      "metadata": {
        "id": "Il0IKjBXpHCM"
      },
      "source": [
        "Важность даных за период до 1993 года ниже, т.к. мало выпущенных игр."
      ]
    },
    {
      "cell_type": "markdown",
      "metadata": {
        "id": "4rvf_-3lpHCM"
      },
      "source": [
        "<a id='section3_3'></a>\n",
        "### Данные за актуальный период определенные самостоятельно в результате исследования предыдущих вопросов."
      ]
    },
    {
      "cell_type": "markdown",
      "metadata": {
        "id": "Ypw1UpYqpHCM"
      },
      "source": [
        "Оставляем только актуальные года"
      ]
    },
    {
      "cell_type": "code",
      "execution_count": null,
      "metadata": {
        "id": "7NMgQtPmpHCN"
      },
      "outputs": [],
      "source": [
        "actual = strim.query('year_of_release >= 2015')"
      ]
    },
    {
      "cell_type": "markdown",
      "metadata": {
        "id": "M_NEWIX1pHCN"
      },
      "source": [
        "График распределения по годам:"
      ]
    },
    {
      "cell_type": "code",
      "execution_count": null,
      "metadata": {
        "scrolled": true,
        "id": "i2Eqvg4DpHCN",
        "outputId": "dcb84bc6-e689-40dc-ea58-bfe49aa4ac0d"
      },
      "outputs": [
        {
          "data": {
            "text/plain": [
              "<matplotlib.legend.Legend at 0x7f89290eec70>"
            ]
          },
          "execution_count": 37,
          "metadata": {},
          "output_type": "execute_result"
        },
        {
          "data": {
            "image/png": "[encoded data removed]",
            "text/plain": [
              "<Figure size 432x288 with 1 Axes>"
            ]
          },
          "metadata": {
            "needs_background": "light"
          },
          "output_type": "display_data"
        }
      ],
      "source": [
        "actual.pivot_table(index='year_of_release', columns = 'platform', values='total_sale', aggfunc='sum').plot(grid=True);\n",
        "plt.legend(bbox_to_anchor=(1, 1))"
      ]
    },
    {
      "cell_type": "markdown",
      "metadata": {
        "id": "V2chWp8PpHCN"
      },
      "source": [
        "Положительно среди платформ выделяются PS4,XOne и 3DS, продажи по остальным платформам приближаются к нулю."
      ]
    },
    {
      "cell_type": "markdown",
      "metadata": {
        "id": "unCHVxp4pHCN"
      },
      "source": [
        "Как менялись продажи по платформам."
      ]
    },
    {
      "cell_type": "code",
      "execution_count": null,
      "metadata": {
        "id": "iNtyrTrLpHCN",
        "outputId": "02b440d4-2f5f-46e4-a97b-0798fb036ad6"
      },
      "outputs": [
        {
          "data": {
            "text/plain": [
              "platform\n",
              "3DS      42.92\n",
              "PC       13.77\n",
              "PS3      20.42\n",
              "PS4     188.15\n",
              "PSP       0.12\n",
              "PSV      10.50\n",
              "Wii       1.32\n",
              "WiiU     20.95\n",
              "X360     13.48\n",
              "XOne     86.29\n",
              "Name: total_sale, dtype: float64"
            ]
          },
          "execution_count": 38,
          "metadata": {},
          "output_type": "execute_result"
        }
      ],
      "source": [
        "actual.groupby('platform')['total_sale'].sum()"
      ]
    },
    {
      "cell_type": "markdown",
      "metadata": {
        "id": "2dv17znDpHCN"
      },
      "source": [
        "Выделяются по объему продаж XOne и PS4"
      ]
    },
    {
      "cell_type": "markdown",
      "metadata": {
        "id": "RkB_iVwjpHCN"
      },
      "source": [
        "<a id='section3_4'></a>\n",
        "### Выделение платформ лидирующих по продажам."
      ]
    },
    {
      "cell_type": "markdown",
      "metadata": {
        "id": "zof1zmCVpHCN"
      },
      "source": [
        "Датафрейм с выделяющемися по продажам платформами"
      ]
    },
    {
      "cell_type": "code",
      "execution_count": null,
      "metadata": {
        "id": "UwBqTcjhpHCO"
      },
      "outputs": [],
      "source": [
        "perspective = actual.query('platform == [\"XOne\",\"PS4\"]')"
      ]
    },
    {
      "cell_type": "markdown",
      "metadata": {
        "id": "mlNsrpE9pHCO"
      },
      "source": [
        "Платформы с наибольшими суммарными продажами и распределение по годам."
      ]
    },
    {
      "cell_type": "code",
      "execution_count": null,
      "metadata": {
        "scrolled": true,
        "id": "L1K-Y-mUpHCO",
        "outputId": "eab7dcae-c2ce-4d0b-c69a-7d1002abc1dc"
      },
      "outputs": [
        {
          "data": {
            "image/png": "[encoded data removed]",
            "text/plain": [
              "<Figure size 432x288 with 1 Axes>"
            ]
          },
          "metadata": {
            "needs_background": "light"
          },
          "output_type": "display_data"
        }
      ],
      "source": [
        "perspective.pivot_table(index='year_of_release', columns = 'platform', values='total_sale', aggfunc='sum').plot(grid=True);"
      ]
    },
    {
      "cell_type": "markdown",
      "metadata": {
        "id": "gjdH8V1FpHCO"
      },
      "source": [
        "PS4 и XOne можно считать прибыльными платформами, т.к. их продажи хоть и снижаются, но имеют больший размер в сравнении с другими."
      ]
    },
    {
      "cell_type": "markdown",
      "metadata": {
        "id": "774kd_Q9pHCO"
      },
      "source": [
        "Создание функции для построения диаграммы распределения продаж по годам."
      ]
    },
    {
      "cell_type": "code",
      "execution_count": null,
      "metadata": {
        "id": "Q2V2kIdTpHCO"
      },
      "outputs": [],
      "source": [
        "def sale(plat):\n",
        "    perspective[perspective['platform'] == plat].groupby('year_of_release')['total_sale'].sum().plot()\n",
        "    plt.ylabel(plat);\n",
        "    plt.ylim(0,140);\n",
        "    return plt.show()"
      ]
    },
    {
      "cell_type": "code",
      "execution_count": null,
      "metadata": {
        "id": "JcpOpa5HpHCO",
        "outputId": "42322aa5-41e4-460b-f6c9-c4f44a4f79a2"
      },
      "outputs": [
        {
          "data": {
            "image/png": "[encoded data removed]",
            "text/plain": [
              "<Figure size 432x288 with 1 Axes>"
            ]
          },
          "metadata": {
            "needs_background": "light"
          },
          "output_type": "display_data"
        }
      ],
      "source": [
        "sale('PS4')"
      ]
    },
    {
      "cell_type": "code",
      "execution_count": null,
      "metadata": {
        "id": "tq9JbGTzpHCO",
        "outputId": "09d64b01-983c-48b6-c60f-04dbe008a907"
      },
      "outputs": [
        {
          "data": {
            "image/png": "[encoded data removed]",
            "text/plain": [
              "<Figure size 432x288 with 1 Axes>"
            ]
          },
          "metadata": {
            "needs_background": "light"
          },
          "output_type": "display_data"
        }
      ],
      "source": [
        "sale('XOne')"
      ]
    },
    {
      "cell_type": "markdown",
      "metadata": {
        "id": "9bBuKTOjpHCO"
      },
      "source": [
        "По графику видно, что продажи PS4 и XOne снижаются к 2016 году."
      ]
    },
    {
      "cell_type": "markdown",
      "metadata": {
        "id": "PG6YAuTupHCO"
      },
      "source": [
        "Новые платформы выходят на свой пик в срок, который равен 2-4 годам, столько же держаться на пике, затем начинается снижение продаж. Полный цикл жизни составляет около 10 лет."
      ]
    },
    {
      "cell_type": "markdown",
      "metadata": {
        "id": "10Oam6zopHCO"
      },
      "source": [
        "Данные за соответствующий актуальный период. Актуальный период определён в результате исследования предыдущих вопросов и равен 2 годам."
      ]
    },
    {
      "cell_type": "markdown",
      "metadata": {
        "id": "j_hKHbS6pHCP"
      },
      "source": [
        "<a id='section3_5'></a>\n",
        "### «Ящик с усами» по глобальным продажам игр в разбивке по платформам."
      ]
    },
    {
      "cell_type": "code",
      "execution_count": null,
      "metadata": {
        "scrolled": true,
        "id": "T8mAy6KmpHCP",
        "outputId": "9a8ae10a-0ec7-4292-ffc4-25506b08cbbd"
      },
      "outputs": [
        {
          "data": {
            "image/png": "[encoded data removed]",
            "text/plain": [
              "<Figure size 432x288 with 1 Axes>"
            ]
          },
          "metadata": {
            "needs_background": "light"
          },
          "output_type": "display_data"
        }
      ],
      "source": [
        "perspective.boxplot(column = 'total_sale', by='platform');"
      ]
    },
    {
      "cell_type": "markdown",
      "metadata": {
        "id": "-UJy5Sv_pHCP"
      },
      "source": [
        "Ещё один график для изучения квартилей."
      ]
    },
    {
      "cell_type": "code",
      "execution_count": null,
      "metadata": {
        "id": "qjuky_4hpHCP",
        "outputId": "223487d5-939e-47db-e1c9-ed213568c0f2"
      },
      "outputs": [
        {
          "data": {
            "image/png": "[encoded data removed]",
            "text/plain": [
              "<Figure size 432x288 with 1 Axes>"
            ]
          },
          "metadata": {
            "needs_background": "light"
          },
          "output_type": "display_data"
        }
      ],
      "source": [
        "perspective.boxplot(column = 'total_sale', by='platform').set(ylim=(0,0.85));"
      ]
    },
    {
      "cell_type": "markdown",
      "metadata": {
        "id": "k50s7EKapHCP"
      },
      "source": [
        "По графику видно, что большинство значений расположены до 600 тысяч продаж. Первый квартиль на уровне ниже 50 тысяч, згачит есть большое кол-во проектов с маленькими продажами. Медианное значение чуть выше уровня в 100 тысяч, что говорит о редкости проектов с большими продажами. В целом ситуация на обеих платформах схожая."
      ]
    },
    {
      "cell_type": "markdown",
      "metadata": {
        "id": "B8qAM9AopHCP"
      },
      "source": [
        "<a id='section3_6'></a>\n",
        "### Влияние на продажи внутри одной популярной платформы отзывы пользователей и критиков. Диаграмма рассеяния и корреляция между отзывами и продажами."
      ]
    },
    {
      "cell_type": "code",
      "execution_count": null,
      "metadata": {
        "id": "TxJPcw-4pHCP",
        "outputId": "298ffda7-df7c-48f9-d6db-048f8fcd86e9"
      },
      "outputs": [
        {
          "data": {
            "image/png": "[encoded data removed]",
            "text/plain": [
              "<Figure size 432x288 with 1 Axes>"
            ]
          },
          "metadata": {
            "needs_background": "light"
          },
          "output_type": "display_data"
        },
        {
          "data": {
            "image/png": "[encoded data removed]",
            "text/plain": [
              "<Figure size 432x288 with 1 Axes>"
            ]
          },
          "metadata": {
            "needs_background": "light"
          },
          "output_type": "display_data"
        }
      ],
      "source": [
        "perspective[perspective['platform'] == 'PS4'].plot(x='user_score',y='total_sale',kind='scatter');\n",
        "perspective[perspective['platform'] == 'PS4'].plot(x='critic_score',y='total_sale',kind='scatter');"
      ]
    },
    {
      "cell_type": "code",
      "execution_count": null,
      "metadata": {
        "id": "zV9WkxStpHCP",
        "outputId": "a90b8cc6-741d-415d-b6c7-833394dcaddc"
      },
      "outputs": [
        {
          "name": "stdout",
          "output_type": "stream",
          "text": [
            "Корреляция по оценкам пользователей равна:  -0.05973845712638215\n",
            "Корреляция по оценкам критиков равна:  0.3928485555130601\n"
          ]
        }
      ],
      "source": [
        "corr_user = perspective[perspective['platform'] == 'PS4']['user_score'] \\\n",
        "    .corr(perspective[perspective['platform'] == 'PS4']['total_sale'])\n",
        "corr_crit = perspective[perspective['platform'] == 'PS4']['critic_score'] \\\n",
        "    .corr(perspective[perspective['platform'] == 'PS4']['total_sale'])\n",
        "print('Корреляция по оценкам пользователей равна: ',corr_user)\n",
        "print('Корреляция по оценкам критиков равна: ',corr_crit)"
      ]
    },
    {
      "cell_type": "markdown",
      "metadata": {
        "id": "_i1jrwdApHCR"
      },
      "source": [
        "На платформе PS4 слабая отрицательная корреляция по оценкам пользователей и слабая положительная корреляция по оценкам критиков. Большая часть оценок являются положительными."
      ]
    },
    {
      "cell_type": "markdown",
      "metadata": {
        "id": "rJXFQgiapHCR"
      },
      "source": [
        "<a id='section3_7'></a>\n",
        "### Соотношение выводов с продажами игр на других платформах."
      ]
    },
    {
      "cell_type": "markdown",
      "metadata": {
        "id": "Lk4XhQMKpHCR"
      },
      "source": [
        "Влияние на продажи внутри платформы XOne отзывов пользователей и критиков. Диаграмма рассеяния и корреляция между отзывами и продажами."
      ]
    },
    {
      "cell_type": "code",
      "execution_count": null,
      "metadata": {
        "id": "Kk7qbjx9pHCR",
        "outputId": "e5964840-224d-4e1e-bb78-713eed9cd52c"
      },
      "outputs": [
        {
          "data": {
            "image/png": "[encoded data removed]",
            "text/plain": [
              "<Figure size 432x288 with 1 Axes>"
            ]
          },
          "metadata": {
            "needs_background": "light"
          },
          "output_type": "display_data"
        },
        {
          "data": {
            "image/png": "[encoded data removed]",
            "text/plain": [
              "<Figure size 432x288 with 1 Axes>"
            ]
          },
          "metadata": {
            "needs_background": "light"
          },
          "output_type": "display_data"
        }
      ],
      "source": [
        "perspective[perspective['platform'] == 'XOne'].plot(x='user_score',y='total_sale',kind='scatter');\n",
        "perspective[perspective['platform'] == 'XOne'].plot(x='critic_score',y='total_sale',kind='scatter');"
      ]
    },
    {
      "cell_type": "code",
      "execution_count": null,
      "metadata": {
        "id": "cwO5yKk6pHCR",
        "outputId": "62de57dc-40a3-4d7c-c345-53f27b5499aa"
      },
      "outputs": [
        {
          "name": "stdout",
          "output_type": "stream",
          "text": [
            "Корреляция по оценкам пользователей равна:  -0.04146733387366271\n",
            "Корреляция по оценкам критиков равна:  0.43088874582136805\n"
          ]
        }
      ],
      "source": [
        "corr_user = perspective[perspective['platform'] == 'XOne']['user_score'] \\\n",
        "    .corr(perspective[perspective['platform'] == 'XOne']['total_sale'])\n",
        "corr_crit = perspective[perspective['platform'] == 'XOne']['critic_score'] \\\n",
        "    .corr(perspective[perspective['platform'] == 'XOne']['total_sale'])\n",
        "print('Корреляция по оценкам пользователей равна: ',corr_user)\n",
        "print('Корреляция по оценкам критиков равна: ',corr_crit)"
      ]
    },
    {
      "cell_type": "markdown",
      "metadata": {
        "id": "FB4vZAx4pHCR"
      },
      "source": [
        "На платформе XOne слабая отрицательная корреляция по оценкам пользователей и слабая положительная корреляция по оценкам критиков. Большая часть оценок являются положительными."
      ]
    },
    {
      "cell_type": "markdown",
      "metadata": {
        "id": "kPpv34-UpHCR"
      },
      "source": [
        "Влияние на продажи внутри платформы 3DS отзывов пользователей и критиков. Диаграмма рассеяния и корреляция между отзывами и продажами."
      ]
    },
    {
      "cell_type": "code",
      "execution_count": null,
      "metadata": {
        "id": "j7A9P_zypHCR",
        "outputId": "c269c0b2-6869-4c76-b2ff-fcda8d1ab815"
      },
      "outputs": [
        {
          "data": {
            "image/png": "[encoded data removed]",
            "text/plain": [
              "<Figure size 432x288 with 1 Axes>"
            ]
          },
          "metadata": {
            "needs_background": "light"
          },
          "output_type": "display_data"
        },
        {
          "data": {
            "image/png": "[encoded data removed]",
            "text/plain": [
              "<Figure size 432x288 with 1 Axes>"
            ]
          },
          "metadata": {
            "needs_background": "light"
          },
          "output_type": "display_data"
        }
      ],
      "source": [
        "actual[actual['platform'] == '3DS'].plot(x='user_score',y='total_sale',kind='scatter');\n",
        "actual[actual['platform'] == '3DS'].plot(x='critic_score',y='total_sale',kind='scatter');"
      ]
    },
    {
      "cell_type": "code",
      "execution_count": null,
      "metadata": {
        "id": "RZeK1G6OpHCR",
        "outputId": "b54e1b1e-f949-4d04-f4c6-15b6914d2ead"
      },
      "outputs": [
        {
          "name": "stdout",
          "output_type": "stream",
          "text": [
            "Корреляция по оценкам пользователей равна:  0.19879627008102982\n",
            "Корреляция по оценкам критиков равна:  0.17757455046092874\n"
          ]
        }
      ],
      "source": [
        "corr_user = actual[actual['platform'] == '3DS']['user_score'] \\\n",
        "    .corr(actual[actual['platform'] == '3DS']['total_sale'])\n",
        "corr_crit = actual[actual['platform'] == '3DS']['critic_score'] \\\n",
        "    .corr(actual[actual['platform'] == '3DS']['total_sale'])\n",
        "print('Корреляция по оценкам пользователей равна: ',corr_user)\n",
        "print('Корреляция по оценкам критиков равна: ',corr_crit)"
      ]
    },
    {
      "cell_type": "markdown",
      "metadata": {
        "id": "N7BrplZfpHCR"
      },
      "source": [
        "На платформе 3DS слабая положительная корреляция по оценкам пользователей и слабая положительная корреляция по оценкам критиков. Большая часть оценок являются положительными."
      ]
    },
    {
      "cell_type": "markdown",
      "metadata": {
        "id": "NdqsOIkkpHCR"
      },
      "source": [
        "На платформе XOne значения очень похожи на PS4 имеется слабая отрицательная корреляция по оценкам пользователей и слабая положительная корреляция по оценкам критиков. 3DS имеет слабую положительную корреляцию по оценкам пользователей и слабую положительную корреляцию по оценкам критиков."
      ]
    },
    {
      "cell_type": "markdown",
      "metadata": {
        "id": "jwCLzCWdpHCR"
      },
      "source": [
        "<a id='section3_8'></a>\n",
        "### Общее распределение игр по жанрам."
      ]
    },
    {
      "cell_type": "code",
      "execution_count": null,
      "metadata": {
        "scrolled": true,
        "id": "QODiaOBUpHCS",
        "outputId": "ff2f2c4f-ce5f-456d-8137-a20f6a03fa5a"
      },
      "outputs": [
        {
          "data": {
            "image/png": "[encoded data removed]",
            "text/plain": [
              "<Figure size 432x288 with 1 Axes>"
            ]
          },
          "metadata": {
            "needs_background": "light"
          },
          "output_type": "display_data"
        }
      ],
      "source": [
        "actual.pivot_table(index='genre', values='total_sale', aggfunc='median').plot(grid=True);"
      ]
    },
    {
      "cell_type": "markdown",
      "metadata": {
        "id": "haUTXtaMpHCS"
      },
      "source": [
        "На гистограмме видно, что основная масса выпущенных игр в жанре Shooter."
      ]
    },
    {
      "cell_type": "markdown",
      "metadata": {
        "id": "SSE8M04npHCS"
      },
      "source": [
        "Распределение по жанрам для PS4 и XOne за актуальный период:"
      ]
    },
    {
      "cell_type": "code",
      "execution_count": null,
      "metadata": {
        "id": "kzt0uJdcpHCS",
        "outputId": "72bc3481-fb74-439a-e5e9-ec52253badb7"
      },
      "outputs": [
        {
          "data": {
            "image/png": "[encoded data removed]",
            "text/plain": [
              "<Figure size 432x288 with 1 Axes>"
            ]
          },
          "metadata": {
            "needs_background": "light"
          },
          "output_type": "display_data"
        }
      ],
      "source": [
        "perspective.pivot_table(index='genre', values='total_sale', aggfunc='median').plot(grid=True);"
      ]
    },
    {
      "cell_type": "markdown",
      "metadata": {
        "id": "K38jspoupHCS"
      },
      "source": [
        "На гистограмме видно, что основная масса выпущенных игр в жанре Shotter."
      ]
    },
    {
      "cell_type": "markdown",
      "metadata": {
        "id": "fY-lucswpHCS"
      },
      "source": [
        "Важность даных за период до 1993 года ниже, т.к. мало выпущенных игр. Выявлены платформы с максимальными продажами. Построены графики зависимости продаж от платформы, выявлены переспективные компании PS4, XOne.\n",
        "Построен ящик с усами:\n",
        "PS4 имеет большое кол-во выбросов выше отметки в 1,75 млн. XOne также имеет немногор выбросов выше отметки 1,6 млн.\n",
        "На платформе PS4 по диаграмме рассеяния и значению корреляции видна слабая отрицательная зависимость продаж от оценок пользователей и слабая положительная от отценок критиков. Самым популярным жанром является Shotter. \\\n",
        "Лидирующая платформа - PS4. \\\n",
        "Актыальный период для прогноза на 2017 год: 2006 - 2016."
      ]
    },
    {
      "cell_type": "markdown",
      "metadata": {
        "id": "vK6dWSajpHCS"
      },
      "source": [
        "## Шаг. Составление портрета пользователя каждого региона"
      ]
    },
    {
      "cell_type": "markdown",
      "metadata": {
        "id": "ifoXX65RpHCS"
      },
      "source": [
        "**Определение для пользователя каждого региона (NA, EU, JP):**"
      ]
    },
    {
      "cell_type": "markdown",
      "metadata": {
        "id": "2yq0tlYGpHCS"
      },
      "source": [
        "<a id='section4_1'></a>\n",
        "### Самые популярные платформы (топ-5)."
      ]
    },
    {
      "cell_type": "code",
      "execution_count": null,
      "metadata": {
        "id": "tu055-KNpHCT",
        "outputId": "77872f8c-5eb9-402f-c789-0c68c3e18f16"
      },
      "outputs": [
        {
          "data": {
            "image/png": "[encoded data removed]",
            "text/plain": [
              "<Figure size 432x288 with 1 Axes>"
            ]
          },
          "metadata": {
            "needs_background": "light"
          },
          "output_type": "display_data"
        }
      ],
      "source": [
        "persp_na = actual.groupby('platform')['na_sales'].sum().sort_values(ascending=False).head(5)\n",
        "persp_na.plot(x='platform', y='na_sales', kind='bar');"
      ]
    },
    {
      "cell_type": "markdown",
      "metadata": {
        "id": "5h4g3ZLupHCT"
      },
      "source": [
        "В северной Америке преобладают PS4 и XOne имея по более 50 млн продаж. Затем с долей менее 10 млн продаж 3DS, WiiU, X360."
      ]
    },
    {
      "cell_type": "code",
      "execution_count": null,
      "metadata": {
        "id": "HJCfk9_SpHCT",
        "outputId": "e442589d-bb02-41b9-aedc-5cfbde5abca7"
      },
      "outputs": [
        {
          "data": {
            "image/png": "[encoded data removed]",
            "text/plain": [
              "<Figure size 432x288 with 1 Axes>"
            ]
          },
          "metadata": {
            "needs_background": "light"
          },
          "output_type": "display_data"
        }
      ],
      "source": [
        "persp_eu = actual.groupby('platform')['eu_sales'].sum().sort_values(ascending=False).head(5)\n",
        "persp_eu.plot(x='platform', y='eu_sales', kind='bar');"
      ]
    },
    {
      "cell_type": "markdown",
      "metadata": {
        "id": "ygbbPct4pHCT"
      },
      "source": [
        "В Европе лидирующую позицию занимает PS4 с продажами более 80 млн. Меньшая доля у XOne 30 млн. Затем с долей менее 10 млн продаж PC, 3DS, PS3."
      ]
    },
    {
      "cell_type": "code",
      "execution_count": null,
      "metadata": {
        "id": "H0BMyt_spHCT",
        "outputId": "c94a3e79-b406-48d3-80a5-3081bfbffe05"
      },
      "outputs": [
        {
          "data": {
            "image/png": "[encoded data removed]",
            "text/plain": [
              "<Figure size 432x288 with 1 Axes>"
            ]
          },
          "metadata": {
            "needs_background": "light"
          },
          "output_type": "display_data"
        }
      ],
      "source": [
        "persp_jp = actual.groupby('platform')['jp_sales'].sum().sort_values(ascending=False).head(5)\n",
        "persp_jp.plot(x='platform', y='jp_sales', kind='bar');"
      ]
    },
    {
      "cell_type": "markdown",
      "metadata": {
        "id": "LFHTsdx0pHCT"
      },
      "source": [
        "В Японии лидирующую позицию занимает 3DS. Затем с долей около 10 млн. идут PS4 и PSV. По 5 млн продаж у PS3 и WiiU."
      ]
    },
    {
      "cell_type": "markdown",
      "metadata": {
        "id": "XKIuDIDwpHCT"
      },
      "source": [
        "<a id='section4_2'></a>\n",
        "### Самые популярные жанры (топ-5)."
      ]
    },
    {
      "cell_type": "code",
      "execution_count": null,
      "metadata": {
        "id": "LzBb7CYKpHCT",
        "outputId": "fec9c2fe-96f6-436c-bc6d-c99a1b9b5cec"
      },
      "outputs": [
        {
          "data": {
            "image/png": "[encoded data removed]",
            "text/plain": [
              "<Figure size 432x288 with 1 Axes>"
            ]
          },
          "metadata": {
            "needs_background": "light"
          },
          "output_type": "display_data"
        }
      ],
      "source": [
        "genre_persp_na = actual.groupby('genre')['na_sales'].sum().sort_values(ascending=False).head(5)\n",
        "genre_persp_na.plot(x='genre', y='na_sales', kind ='bar');"
      ]
    },
    {
      "cell_type": "markdown",
      "metadata": {
        "id": "yz1qFz8QpHCT"
      },
      "source": [
        "В северной Америке самым популярным является жанр Shooter с почти 50 млн. продаж, Затем с 35 млн. Action, чуть менее 30 млн. Sports, с 20 млн. Role-Playing и 5 млн. у Misc."
      ]
    },
    {
      "cell_type": "code",
      "execution_count": null,
      "metadata": {
        "id": "HEvWiOBHpHCT",
        "outputId": "f4ef3085-44ca-49b7-c286-8523e3dd23a1"
      },
      "outputs": [
        {
          "data": {
            "image/png": "[encoded data removed]",
            "text/plain": [
              "<Figure size 432x288 with 1 Axes>"
            ]
          },
          "metadata": {
            "needs_background": "light"
          },
          "output_type": "display_data"
        }
      ],
      "source": [
        "genre_persp_eu = actual.groupby('genre')['eu_sales'].sum().sort_values(ascending=False).head(5)\n",
        "genre_persp_eu.plot(x='genre', y='eu_sales', kind ='bar');"
      ]
    },
    {
      "cell_type": "markdown",
      "metadata": {
        "id": "SYPhEt2RpHCT"
      },
      "source": [
        "В Европе самыми популярными явлются жанры Shooter с +-40 млн. продаж, Action с чуть менее 35 млн. и Sports с продажами немногим менее 30 млн. Role-playing занимает менее 20 млн., Racing менее 10 млн. продаж."
      ]
    },
    {
      "cell_type": "code",
      "execution_count": null,
      "metadata": {
        "id": "hyXFS2g6pHCU",
        "outputId": "56bc68f5-498d-4312-d133-b246ac5ac368"
      },
      "outputs": [
        {
          "data": {
            "image/png": "[encoded data removed]",
            "text/plain": [
              "<Figure size 432x288 with 1 Axes>"
            ]
          },
          "metadata": {
            "needs_background": "light"
          },
          "output_type": "display_data"
        }
      ],
      "source": [
        "genre_persp_jp = actual.groupby('genre')['jp_sales'].sum().sort_values(ascending=False).head(5)\n",
        "genre_persp_jp.plot(x='genre', y='jp_sales', kind ='bar');"
      ]
    },
    {
      "cell_type": "markdown",
      "metadata": {
        "id": "XBygeGv5pHCU"
      },
      "source": [
        "В Японии самыми популярными явлются жанры Action с более 20 млн. продаж и Role-playing с долей менее 25 млн. Shooter, Misc и Adventure занимают по менее 5 млн. продаж."
      ]
    },
    {
      "cell_type": "markdown",
      "metadata": {
        "id": "ez_IMwarpHCU"
      },
      "source": [
        "<a id='section4_3'></a>\n",
        "### Влияние рейтинга ESRB на продажи в отдельном регионе."
      ]
    },
    {
      "cell_type": "code",
      "execution_count": null,
      "metadata": {
        "id": "obc732EJpHCU",
        "outputId": "cc37fcfe-cae3-4a38-d54a-b59a88be0c94"
      },
      "outputs": [
        {
          "data": {
            "image/png": "[encoded data removed]",
            "text/plain": [
              "<Figure size 432x288 with 1 Axes>"
            ]
          },
          "metadata": {
            "needs_background": "light"
          },
          "output_type": "display_data"
        }
      ],
      "source": [
        "na_rating_persp = actual.groupby('rating')['na_sales'].sum().sort_values(ascending=False)\n",
        "na_rating_persp.plot(x = 'rating', y = 'na_sales', kind = 'bar');"
      ]
    },
    {
      "cell_type": "markdown",
      "metadata": {
        "id": "aV0CMqtOpHCU"
      },
      "source": [
        "Категория M занимает лидирующую позицию и более 40 млн. продаж в Северной Америке, немногим менее 40 млн. продаж у игр без категории. Категория E получила менее 30 млн. продаж, T в районе 25 млн, у E10+ немногим менее 20 млн. продаж."
      ]
    },
    {
      "cell_type": "code",
      "execution_count": null,
      "metadata": {
        "id": "6Rt7Gx2ApHCU",
        "outputId": "45ce0c66-a86a-4854-92c3-126b53bba95a"
      },
      "outputs": [
        {
          "data": {
            "image/png": "[encoded data removed]",
            "text/plain": [
              "<Figure size 432x288 with 1 Axes>"
            ]
          },
          "metadata": {
            "needs_background": "light"
          },
          "output_type": "display_data"
        }
      ],
      "source": [
        "eu_rating_persp = actual.groupby('rating')['eu_sales'].sum().sort_values(ascending=False)\n",
        "eu_rating_persp.plot(x = 'rating', y = 'eu_sales', kind = 'bar');"
      ]
    },
    {
      "cell_type": "markdown",
      "metadata": {
        "id": "T6Mj2Ou9pHCU"
      },
      "source": [
        "Категория M занимает лидирующую позицию и более 40 млн. продаж в Европе, немногим менее 40 млн. продаж у игр без категории и категории E, T в районе 20 млн, у E10+ немногим более 10 млн. продаж."
      ]
    },
    {
      "cell_type": "code",
      "execution_count": null,
      "metadata": {
        "id": "ynevDSdfpHCU",
        "outputId": "d2b2fcd1-20ab-4268-a0ee-bacbba2a5882"
      },
      "outputs": [
        {
          "data": {
            "image/png": "[encoded data removed]",
            "text/plain": [
              "<Figure size 432x288 with 1 Axes>"
            ]
          },
          "metadata": {
            "needs_background": "light"
          },
          "output_type": "display_data"
        }
      ],
      "source": [
        "jp_rating_persp = actual.groupby('rating')['jp_sales'].sum().sort_values(ascending=False)\n",
        "jp_rating_persp.plot(x = 'rating', y = 'jp_sales', kind = 'bar');"
      ]
    },
    {
      "cell_type": "markdown",
      "metadata": {
        "id": "4tnne0oCpHCU"
      },
      "source": [
        "В японии более 30 млн. проданных игр -  без категории. Немного менее 10 млн. продаж у категории T. Менее 5 млн. у E, M и E10+."
      ]
    },
    {
      "cell_type": "markdown",
      "metadata": {
        "id": "mGNotQIgpHCU"
      },
      "source": [
        "В японии много проданных игр без рейтинга ESRB, это связано с тем, что возрастные рейтинги в Японии выдаются компанией CERO. На европейских проектах PEGI. Это объясняет наличие пустых значений в Европе и Северной Америке."
      ]
    },
    {
      "cell_type": "markdown",
      "metadata": {
        "id": "PrJx2DmrpHCV"
      },
      "source": [
        "## Шаг. Проверка гипотез"
      ]
    },
    {
      "cell_type": "markdown",
      "metadata": {
        "id": "m9olm4uIpHCV"
      },
      "source": [
        "<a id='section5_1'></a>\n",
        "### Гипотеза - Средние пользовательские рейтинги платформ Xbox One и PC одинаковые"
      ]
    },
    {
      "cell_type": "markdown",
      "metadata": {
        "id": "P8uN7yDPpHCV"
      },
      "source": [
        "H_0: Средние пользовательские рейтинги платформы Xbox One = Средние пользовательские рейтинги платформы PC \\\n",
        "H_a: Средние пользовательские рейтинги платформы Xbox One ≠ Средние пользовательские рейтинги платформы PC \\\n",
        "alpha = 0.05"
      ]
    },
    {
      "cell_type": "markdown",
      "metadata": {
        "id": "eRS4DSg8pHCV"
      },
      "source": [
        "Удаление значений, которые были пропусками"
      ]
    },
    {
      "cell_type": "code",
      "execution_count": null,
      "metadata": {
        "id": "YIPJAtUApHCV"
      },
      "outputs": [],
      "source": [
        "new = actual.dropna(subset = ['user_score'])"
      ]
    },
    {
      "cell_type": "code",
      "execution_count": null,
      "metadata": {
        "id": "2tWXoplCpHCV",
        "outputId": "3141b9cb-fd42-4a64-92a1-172c5b769d6d"
      },
      "outputs": [
        {
          "name": "stdout",
          "output_type": "stream",
          "text": [
            "0.2778542084733835\n",
            "Не получилось отвергнуть нулевую гипотезу\n"
          ]
        }
      ],
      "source": [
        "xb = new[new['platform'] == 'XOne']\n",
        "pca = new[new['platform'] == 'PC']\n",
        "results = st.ttest_ind(\n",
        "    xb['user_score'],\n",
        "    pca['user_score']\n",
        ")\n",
        "alpha = 0.05\n",
        "print(results.pvalue)\n",
        "if results.pvalue < alpha:\n",
        "    print(\"Отвергаем нулевую гипотезу\")\n",
        "else:\n",
        "    print(\"Не получилось отвергнуть нулевую гипотезу\")"
      ]
    },
    {
      "cell_type": "markdown",
      "metadata": {
        "id": "5v0HyMzMpHCW"
      },
      "source": [
        "<a id='section5_2'></a>\n",
        "### Гипотеза - средние пользовательские рейтинги жанров Action (англ. «действие», экшен-игры) и Sports (англ. «спортивные соревнования») разные"
      ]
    },
    {
      "cell_type": "markdown",
      "metadata": {
        "id": "PpZNX_b3pHCW"
      },
      "source": [
        "H_0: Средние пользовательские рейтинги жанров Action = средние пользовательские рейтинги жанров Sports \\\n",
        "H_a: Средние пользовательские рейтинги жанров Action ≠ средние пользовательские рейтинги жанров Sports  \\\n",
        "alpha = 0.05"
      ]
    },
    {
      "cell_type": "code",
      "execution_count": null,
      "metadata": {
        "id": "YIiG7KOtpHCW",
        "outputId": "5f3e7391-fc8d-4f5e-8165-314be1e20922"
      },
      "outputs": [
        {
          "name": "stdout",
          "output_type": "stream",
          "text": [
            "1.0012846807938657e-13\n",
            "Отвергаем нулевую гипотезу\n"
          ]
        }
      ],
      "source": [
        "action = new[new['genre'] == 'Action']\n",
        "sports = new[new['genre'] == 'Sports']\n",
        "results = st.ttest_ind(\n",
        "    action['user_score'],\n",
        "    sports['user_score']\n",
        ")\n",
        "alpha = 0.05\n",
        "print(results.pvalue)\n",
        "if results.pvalue < alpha:\n",
        "    print(\"Отвергаем нулевую гипотезу\")\n",
        "else:\n",
        "    print(\"Не получилось отвергнуть нулевую гипотезу\")"
      ]
    },
    {
      "cell_type": "markdown",
      "metadata": {
        "id": "7F08mTVvpHCX"
      },
      "source": [
        "Нулевая и альтернативная гипотезы сформулированы исходя из задачи, где требуется проверить равенство средних значений отзывов 2 платформ и 2 жанров. \\\n",
        "Выбран метод ttest_ind, т.к. он подходит для  для проверки гипотезы о равенстве среднего двух генеральных совокупностей по взятым из них выборкам.\n",
        "Средние пользовательские рейтинги платформы Xbox One = Средние пользовательские рейтинги платформы PC. \\\n",
        "Средние пользовательские рейтинги жанров Action ≠ средние пользовательские рейтинги жанров Sports."
      ]
    },
    {
      "cell_type": "markdown",
      "metadata": {
        "id": "UOU3i5QmpHCY"
      },
      "source": [
        "## Шаг. Общий вывод"
      ]
    },
    {
      "cell_type": "markdown",
      "metadata": {
        "id": "JOHscqVypHCY"
      },
      "source": [
        "<a id='section6_1'></a>\n",
        "### Формулирование общего вывода"
      ]
    },
    {
      "cell_type": "markdown",
      "metadata": {
        "id": "utxS39u0pHCY"
      },
      "source": [
        "Сначала был изучен датасет, его значения и параметры, затем построена гистограмма. \\\n",
        "Исходя из первичного изучения данных, можно сделать вывод, что столбцы с оценками пользователей и критиков, а также с рейтингом имеют много пропусков. При изучении гистограмм сделан вывод, что самыми популярными платформами являются PS2 и PS3. Больше всего игр выпущено в 2010 году. Самым популярным жанром за все годы является Action. Самая популярная оценка критиков - 70. Самая популярная оценка пользователей в диапазоне 7.7 - 8.3. В категории E - больше всего игр. \\\n",
        "Удалены строки с пропусками в столбцах с именем, годом выпуска и жанром. Обработаны значения tbd в столбце user_score. Данные в столбцах приведены к нужному виды. Найдены и удалены дубликаты. Добавлен столбец с суммарными продажами. \\\n",
        "В ходе исследовательского анализа данных выявлены года, в которые выпущено больше всего игр - 2008, 2009. Лидирующей платформой по рпродажам за всё время является PS2. Построены <a href='#section3_2'>графики распределения продаж по годам</a> для самых популярных платформ. Выбран актуальный период для анализа: 2015-2016 года. Построен график распределения продаж по годам для  платформам за актуальный период. Выделены лидирующие по продажам платформы - PS4 И XOne. Построен <a href='#section3_5'>«Ящик с усами»</a> по глобальным продажам игр в разбивке по платформам. На платформе PS4 слабая отрицательная корреляция по оценкам пользователей и слабая положительная корреляция по оценкам критиков. Большая часть оценок являются положительными. На платформе XOne значения очень похожи на PS4 имеется слабая отрицательная корреляция по оценкам пользователей и слабая положительная корреляция по оценкам критиков. 3DS имеет слабую положительную корреляцию по оценкам пользователей и слабую положительную корреляцию по оценкам критиков. Построены <a href='#section3_8'>графики общего распределения игр по жанрам</a>. Основная масса выпущенных игр в жанре Shooter. \\\n",
        "Составлен портрет пользователя для каждого региона: \\\n",
        "В северной Америке преобладают PS4 и XOne имея по более 50 млн продаж. Затем с долей менее 10 млн продаж 3DS, WiiU, X360. \\\n",
        "В северной Америке самым популярным является жанр Shooter с почти 50 млн. продаж, Затем с 35 млн. Action, чуть менее 30 млн. Sports, с 20 млн. Role-Playing и 5 млн. у Misc. \\\n",
        "Категория M занимает лидирующую позицию и более 40 млн. продаж в Северной Америке, немногим менее 40 млн. продаж у игр без категории. Категория E получила менее 30 млн. продаж, T в районе 25 млн, у E10+ немногим менее 20 млн. продаж. \\\n",
        "В Европе лидирующую позицию занимает PS4 с продажами более 80 млн. Меньшая доля у XOne 30 млн. Затем с долей менее 10 млн продаж PC, 3DS, PS3. \\\n",
        "В Европе самыми популярными явлются жанры Shooter с +-40 млн. продаж, Action с чуть менее 35 млн. и Sports с продажами немногим менее 30 млн. Role-playing занимает менее 20 млн., Racing менее 10 млн. продаж. \\\n",
        "Категория M занимает лидирующую позицию и более 40 млн. продаж в Европе, немногим менее 40 млн. продаж у игр без категории и категории E, T в районе 20 млн, у E10+ немногим более 10 млн. продаж. \\\n",
        "В Японии лидирующую позицию занимает 3DS. Затем с долей около 10 млн. идут PS4 и PSV. По 5 млн продаж у PS3 и WiiU. \\\n",
        "В Японии самыми популярными явлются жанры Action с более 20 млн. продаж и Role-playing с долей менее 25 млн. Shooter, Misc и Adventure занимают по менее 5 млн. продаж. \\\n",
        "В японии более 30 млн. проданных игр - без категории. Немного менее 10 млн. продаж у категории T. Менее 5 млн. у E, M и E10+. \\\n",
        "В японии много проданных игр без рейтинга ESRB, это связано с тем, что возрастные рейтинги в Японии выдаются компанией CERO. На европейских проектах PEGI. Это объясняет наличие пустых значений в Европе и Северной Америке. \\\n",
        "Были проанализированы игры, в актуальном периоде. Следует проводить рекламные компании на PS4 и XOne, в Северной Америке и Европе, в жанре Shooter, Action, с рейтингом от ESRB - M. Причиной следует объём продаж на этих платформах и регионах, популярность жанров и кол-во продаж игр с рейтингом M."
      ]
    },
    {
      "cell_type": "code",
      "execution_count": null,
      "metadata": {
        "id": "XxEi1fhapHCY"
      },
      "outputs": [],
      "source": []
    }
  ],
  "metadata": {
    "ExecuteTimeLog": [
      {
        "duration": 79,
        "start_time": "2022-12-26T15:45:25.146Z"
      },
      {
        "duration": 92,
        "start_time": "2022-12-26T15:48:11.613Z"
      },
      {
        "duration": 554,
        "start_time": "2022-12-26T17:15:13.680Z"
      },
      {
        "duration": 62,
        "start_time": "2022-12-26T17:17:28.903Z"
      },
      {
        "duration": 908,
        "start_time": "2022-12-26T17:42:41.341Z"
      },
      {
        "duration": 559,
        "start_time": "2022-12-26T17:43:28.182Z"
      },
      {
        "duration": 68,
        "start_time": "2022-12-26T17:44:55.089Z"
      },
      {
        "duration": 3,
        "start_time": "2022-12-26T17:49:07.011Z"
      },
      {
        "duration": 95,
        "start_time": "2022-12-26T17:49:08.218Z"
      },
      {
        "duration": 773,
        "start_time": "2022-12-26T17:58:32.461Z"
      },
      {
        "duration": 708,
        "start_time": "2022-12-26T17:58:37.555Z"
      },
      {
        "duration": 74,
        "start_time": "2022-12-26T18:05:41.297Z"
      },
      {
        "duration": 2,
        "start_time": "2022-12-26T18:06:43.666Z"
      },
      {
        "duration": 71,
        "start_time": "2022-12-26T18:06:44.727Z"
      },
      {
        "duration": 169,
        "start_time": "2022-12-26T18:06:46.257Z"
      },
      {
        "duration": 255,
        "start_time": "2022-12-26T18:07:07.555Z"
      },
      {
        "duration": 380,
        "start_time": "2022-12-26T18:10:17.675Z"
      },
      {
        "duration": 95,
        "start_time": "2022-12-26T18:10:18.057Z"
      },
      {
        "duration": 399,
        "start_time": "2022-12-26T18:10:18.154Z"
      },
      {
        "duration": 126,
        "start_time": "2022-12-26T18:10:49.894Z"
      },
      {
        "duration": 168,
        "start_time": "2022-12-26T18:10:55.313Z"
      },
      {
        "duration": 158,
        "start_time": "2022-12-26T18:11:02.854Z"
      },
      {
        "duration": 327,
        "start_time": "2022-12-26T18:11:10.871Z"
      },
      {
        "duration": 323,
        "start_time": "2022-12-26T18:20:56.624Z"
      },
      {
        "duration": 157,
        "start_time": "2022-12-26T18:25:58.178Z"
      },
      {
        "duration": 275,
        "start_time": "2022-12-26T18:26:22.515Z"
      },
      {
        "duration": 191,
        "start_time": "2022-12-26T18:26:46.011Z"
      },
      {
        "duration": 240,
        "start_time": "2022-12-26T18:27:03.195Z"
      },
      {
        "duration": 72,
        "start_time": "2022-12-26T18:31:02.822Z"
      },
      {
        "duration": 19,
        "start_time": "2022-12-26T18:31:38.495Z"
      },
      {
        "duration": 15,
        "start_time": "2022-12-26T18:31:49.518Z"
      },
      {
        "duration": 3,
        "start_time": "2022-12-26T18:32:25.727Z"
      },
      {
        "duration": 14,
        "start_time": "2022-12-26T18:32:32.063Z"
      },
      {
        "duration": 232,
        "start_time": "2022-12-26T18:33:19.496Z"
      },
      {
        "duration": 95,
        "start_time": "2022-12-26T18:42:10.216Z"
      },
      {
        "duration": 83,
        "start_time": "2022-12-26T18:42:40.759Z"
      },
      {
        "duration": 175,
        "start_time": "2022-12-26T18:43:12.584Z"
      },
      {
        "duration": 222,
        "start_time": "2022-12-26T18:43:45.521Z"
      },
      {
        "duration": 165,
        "start_time": "2022-12-26T18:56:02.050Z"
      },
      {
        "duration": 175,
        "start_time": "2022-12-26T18:58:21.086Z"
      },
      {
        "duration": 228,
        "start_time": "2022-12-26T18:59:05.805Z"
      },
      {
        "duration": 154,
        "start_time": "2022-12-26T19:00:32.078Z"
      },
      {
        "duration": 177,
        "start_time": "2022-12-26T19:00:32.496Z"
      },
      {
        "duration": 141,
        "start_time": "2022-12-26T19:00:33.175Z"
      },
      {
        "duration": 114,
        "start_time": "2022-12-26T19:02:28.535Z"
      },
      {
        "duration": 142,
        "start_time": "2022-12-26T19:02:46.479Z"
      },
      {
        "duration": 1098,
        "start_time": "2022-12-26T19:03:13.641Z"
      },
      {
        "duration": 1035,
        "start_time": "2022-12-26T19:03:37.272Z"
      },
      {
        "duration": 1115,
        "start_time": "2022-12-26T19:03:42.896Z"
      },
      {
        "duration": 1279,
        "start_time": "2022-12-26T19:04:10.027Z"
      },
      {
        "duration": 1153,
        "start_time": "2022-12-26T19:04:43.737Z"
      },
      {
        "duration": 1128,
        "start_time": "2022-12-26T19:04:56.465Z"
      },
      {
        "duration": 1131,
        "start_time": "2022-12-26T19:05:05.962Z"
      },
      {
        "duration": 1229,
        "start_time": "2022-12-26T19:05:15.090Z"
      },
      {
        "duration": 132,
        "start_time": "2022-12-26T19:05:51.522Z"
      },
      {
        "duration": 146,
        "start_time": "2022-12-26T19:06:06.563Z"
      },
      {
        "duration": 793,
        "start_time": "2022-12-27T14:50:36.480Z"
      },
      {
        "duration": 133,
        "start_time": "2022-12-27T14:50:37.277Z"
      },
      {
        "duration": 251,
        "start_time": "2022-12-27T14:50:37.412Z"
      },
      {
        "duration": 141,
        "start_time": "2022-12-27T14:50:37.664Z"
      },
      {
        "duration": 168,
        "start_time": "2022-12-27T14:50:37.807Z"
      },
      {
        "duration": 133,
        "start_time": "2022-12-27T14:50:37.977Z"
      },
      {
        "duration": 193,
        "start_time": "2022-12-27T14:50:38.112Z"
      },
      {
        "duration": 146,
        "start_time": "2022-12-27T14:50:38.306Z"
      },
      {
        "duration": 150,
        "start_time": "2022-12-27T14:50:38.454Z"
      },
      {
        "duration": 142,
        "start_time": "2022-12-27T14:50:38.607Z"
      },
      {
        "duration": 1059,
        "start_time": "2022-12-27T14:50:38.750Z"
      },
      {
        "duration": 136,
        "start_time": "2022-12-27T14:50:39.811Z"
      },
      {
        "duration": 15,
        "start_time": "2022-12-27T14:50:45.887Z"
      },
      {
        "duration": 6,
        "start_time": "2022-12-27T14:58:52.054Z"
      },
      {
        "duration": 87,
        "start_time": "2022-12-27T14:59:13.967Z"
      },
      {
        "duration": 19,
        "start_time": "2022-12-27T15:00:38.583Z"
      },
      {
        "duration": 6,
        "start_time": "2022-12-27T15:00:42.824Z"
      },
      {
        "duration": 13,
        "start_time": "2022-12-27T15:12:42.040Z"
      },
      {
        "duration": 22,
        "start_time": "2022-12-27T15:12:48.713Z"
      },
      {
        "duration": 34,
        "start_time": "2022-12-27T15:34:16.025Z"
      },
      {
        "duration": 29,
        "start_time": "2022-12-27T15:34:35.975Z"
      },
      {
        "duration": 48,
        "start_time": "2022-12-27T15:34:43.418Z"
      },
      {
        "duration": 832,
        "start_time": "2022-12-27T15:35:38.832Z"
      },
      {
        "duration": 103,
        "start_time": "2022-12-27T15:35:39.667Z"
      },
      {
        "duration": 294,
        "start_time": "2022-12-27T15:35:39.772Z"
      },
      {
        "duration": 164,
        "start_time": "2022-12-27T15:35:40.069Z"
      },
      {
        "duration": 186,
        "start_time": "2022-12-27T15:35:40.235Z"
      },
      {
        "duration": 155,
        "start_time": "2022-12-27T15:35:40.423Z"
      },
      {
        "duration": 204,
        "start_time": "2022-12-27T15:35:40.580Z"
      },
      {
        "duration": 152,
        "start_time": "2022-12-27T15:35:40.786Z"
      },
      {
        "duration": 150,
        "start_time": "2022-12-27T15:35:40.940Z"
      },
      {
        "duration": 169,
        "start_time": "2022-12-27T15:35:41.093Z"
      },
      {
        "duration": 1157,
        "start_time": "2022-12-27T15:35:41.263Z"
      },
      {
        "duration": 161,
        "start_time": "2022-12-27T15:35:42.422Z"
      },
      {
        "duration": 22,
        "start_time": "2022-12-27T15:35:42.586Z"
      },
      {
        "duration": 118,
        "start_time": "2022-12-27T15:35:42.610Z"
      },
      {
        "duration": 0,
        "start_time": "2022-12-27T15:35:42.731Z"
      },
      {
        "duration": 21,
        "start_time": "2022-12-27T15:38:24.389Z"
      },
      {
        "duration": 18,
        "start_time": "2022-12-27T16:06:29.674Z"
      },
      {
        "duration": 8,
        "start_time": "2022-12-27T16:06:48.201Z"
      },
      {
        "duration": 13,
        "start_time": "2022-12-27T16:07:05.514Z"
      },
      {
        "duration": 11,
        "start_time": "2022-12-27T16:07:40.953Z"
      },
      {
        "duration": 12,
        "start_time": "2022-12-27T16:08:22.514Z"
      },
      {
        "duration": 590,
        "start_time": "2022-12-27T16:08:50.010Z"
      },
      {
        "duration": 93,
        "start_time": "2022-12-27T16:08:50.602Z"
      },
      {
        "duration": 231,
        "start_time": "2022-12-27T16:08:50.697Z"
      },
      {
        "duration": 164,
        "start_time": "2022-12-27T16:08:50.930Z"
      },
      {
        "duration": 168,
        "start_time": "2022-12-27T16:08:51.095Z"
      },
      {
        "duration": 142,
        "start_time": "2022-12-27T16:08:51.265Z"
      },
      {
        "duration": 214,
        "start_time": "2022-12-27T16:08:51.408Z"
      },
      {
        "duration": 144,
        "start_time": "2022-12-27T16:08:51.624Z"
      },
      {
        "duration": 157,
        "start_time": "2022-12-27T16:08:51.769Z"
      },
      {
        "duration": 137,
        "start_time": "2022-12-27T16:08:51.928Z"
      },
      {
        "duration": 1183,
        "start_time": "2022-12-27T16:08:52.066Z"
      },
      {
        "duration": 162,
        "start_time": "2022-12-27T16:08:53.251Z"
      },
      {
        "duration": 17,
        "start_time": "2022-12-27T16:08:53.415Z"
      },
      {
        "duration": 109,
        "start_time": "2022-12-27T16:08:53.433Z"
      },
      {
        "duration": 0,
        "start_time": "2022-12-27T16:08:53.545Z"
      },
      {
        "duration": 3,
        "start_time": "2022-12-27T16:09:19.055Z"
      },
      {
        "duration": 19,
        "start_time": "2022-12-27T16:09:21.611Z"
      },
      {
        "duration": 5,
        "start_time": "2022-12-27T16:09:48.053Z"
      },
      {
        "duration": 14,
        "start_time": "2022-12-27T16:09:49.652Z"
      },
      {
        "duration": 7,
        "start_time": "2022-12-27T16:24:56.144Z"
      },
      {
        "duration": 21,
        "start_time": "2022-12-27T16:24:57.376Z"
      },
      {
        "duration": 145,
        "start_time": "2022-12-27T16:57:34.275Z"
      },
      {
        "duration": 33,
        "start_time": "2022-12-27T16:57:49.061Z"
      },
      {
        "duration": 14,
        "start_time": "2022-12-27T16:58:04.001Z"
      },
      {
        "duration": 5,
        "start_time": "2022-12-27T16:58:46.593Z"
      },
      {
        "duration": 5,
        "start_time": "2022-12-27T16:58:50.812Z"
      },
      {
        "duration": 24,
        "start_time": "2022-12-27T17:02:45.175Z"
      },
      {
        "duration": 6,
        "start_time": "2022-12-27T17:02:52.579Z"
      },
      {
        "duration": 10,
        "start_time": "2022-12-27T17:05:14.944Z"
      },
      {
        "duration": 22,
        "start_time": "2022-12-27T17:05:21.146Z"
      },
      {
        "duration": 25,
        "start_time": "2022-12-27T17:05:51.577Z"
      },
      {
        "duration": 209,
        "start_time": "2022-12-27T17:06:04.417Z"
      },
      {
        "duration": 12,
        "start_time": "2022-12-27T17:06:25.966Z"
      },
      {
        "duration": 5,
        "start_time": "2022-12-27T17:17:12.298Z"
      },
      {
        "duration": 7,
        "start_time": "2022-12-27T17:24:27.320Z"
      },
      {
        "duration": 30,
        "start_time": "2022-12-27T17:42:10.701Z"
      },
      {
        "duration": 15,
        "start_time": "2022-12-27T17:42:49.408Z"
      },
      {
        "duration": 10,
        "start_time": "2022-12-27T17:56:33.770Z"
      },
      {
        "duration": 122,
        "start_time": "2022-12-27T18:25:56.203Z"
      },
      {
        "duration": 8,
        "start_time": "2022-12-27T18:26:04.420Z"
      },
      {
        "duration": 9,
        "start_time": "2022-12-27T18:34:31.038Z"
      },
      {
        "duration": 7,
        "start_time": "2022-12-27T18:35:32.934Z"
      },
      {
        "duration": 9,
        "start_time": "2022-12-27T18:36:03.222Z"
      },
      {
        "duration": 199,
        "start_time": "2022-12-27T18:55:20.819Z"
      },
      {
        "duration": 132,
        "start_time": "2022-12-27T18:55:30.694Z"
      },
      {
        "duration": 160,
        "start_time": "2022-12-27T18:58:22.557Z"
      },
      {
        "duration": 8,
        "start_time": "2022-12-27T19:38:43.304Z"
      },
      {
        "duration": 809,
        "start_time": "2022-12-30T17:48:53.964Z"
      },
      {
        "duration": 133,
        "start_time": "2022-12-30T17:48:54.776Z"
      },
      {
        "duration": 270,
        "start_time": "2022-12-30T17:48:55.323Z"
      },
      {
        "duration": 159,
        "start_time": "2022-12-30T17:48:55.907Z"
      },
      {
        "duration": 196,
        "start_time": "2022-12-30T17:48:56.802Z"
      },
      {
        "duration": 144,
        "start_time": "2022-12-30T17:48:57.403Z"
      },
      {
        "duration": 204,
        "start_time": "2022-12-30T17:48:58.090Z"
      },
      {
        "duration": 141,
        "start_time": "2022-12-30T17:48:58.762Z"
      },
      {
        "duration": 163,
        "start_time": "2022-12-30T17:48:59.730Z"
      },
      {
        "duration": 151,
        "start_time": "2022-12-30T17:49:00.707Z"
      },
      {
        "duration": 1260,
        "start_time": "2022-12-30T17:49:02.491Z"
      },
      {
        "duration": 3,
        "start_time": "2022-12-30T18:25:34.725Z"
      },
      {
        "duration": 71,
        "start_time": "2022-12-30T18:25:35.429Z"
      },
      {
        "duration": 746,
        "start_time": "2022-12-30T18:25:42.396Z"
      },
      {
        "duration": 4,
        "start_time": "2022-12-30T18:26:02.682Z"
      },
      {
        "duration": 706,
        "start_time": "2022-12-30T18:26:03.185Z"
      },
      {
        "duration": 4,
        "start_time": "2022-12-30T18:26:51.138Z"
      },
      {
        "duration": 743,
        "start_time": "2022-12-30T18:26:51.554Z"
      },
      {
        "duration": 2,
        "start_time": "2022-12-30T18:27:07.634Z"
      },
      {
        "duration": 98,
        "start_time": "2022-12-30T18:27:08.152Z"
      },
      {
        "duration": 238,
        "start_time": "2022-12-30T18:27:08.674Z"
      },
      {
        "duration": 165,
        "start_time": "2022-12-30T18:27:09.112Z"
      },
      {
        "duration": 187,
        "start_time": "2022-12-30T18:27:09.524Z"
      },
      {
        "duration": 146,
        "start_time": "2022-12-30T18:27:09.920Z"
      },
      {
        "duration": 212,
        "start_time": "2022-12-30T18:27:10.330Z"
      },
      {
        "duration": 145,
        "start_time": "2022-12-30T18:27:10.722Z"
      },
      {
        "duration": 139,
        "start_time": "2022-12-30T18:27:11.610Z"
      },
      {
        "duration": 145,
        "start_time": "2022-12-30T18:27:11.985Z"
      },
      {
        "duration": 1258,
        "start_time": "2022-12-30T18:27:12.385Z"
      },
      {
        "duration": 146,
        "start_time": "2022-12-30T18:27:13.645Z"
      },
      {
        "duration": 17,
        "start_time": "2022-12-30T18:27:14.954Z"
      },
      {
        "duration": 9,
        "start_time": "2022-12-30T18:27:15.866Z"
      },
      {
        "duration": 29,
        "start_time": "2022-12-30T18:27:17.057Z"
      },
      {
        "duration": 8,
        "start_time": "2022-12-30T18:27:18.707Z"
      },
      {
        "duration": 6,
        "start_time": "2022-12-30T18:27:20.562Z"
      },
      {
        "duration": 8,
        "start_time": "2022-12-30T18:27:21.290Z"
      },
      {
        "duration": 3,
        "start_time": "2022-12-30T18:27:22.090Z"
      },
      {
        "duration": 123,
        "start_time": "2022-12-30T18:27:23.010Z"
      },
      {
        "duration": 124,
        "start_time": "2022-12-30T18:29:31.404Z"
      },
      {
        "duration": 121,
        "start_time": "2022-12-30T18:31:40.854Z"
      },
      {
        "duration": 207,
        "start_time": "2022-12-30T18:31:41.452Z"
      },
      {
        "duration": 150,
        "start_time": "2022-12-30T18:31:42.037Z"
      },
      {
        "duration": 118,
        "start_time": "2022-12-30T18:31:42.957Z"
      },
      {
        "duration": 3,
        "start_time": "2022-12-30T18:32:22.878Z"
      },
      {
        "duration": 131,
        "start_time": "2022-12-30T18:32:23.298Z"
      },
      {
        "duration": 159,
        "start_time": "2022-12-30T18:32:24.381Z"
      },
      {
        "duration": 133,
        "start_time": "2022-12-30T18:32:24.757Z"
      },
      {
        "duration": 173,
        "start_time": "2022-12-30T18:32:25.110Z"
      },
      {
        "duration": 145,
        "start_time": "2022-12-30T18:32:25.490Z"
      },
      {
        "duration": 130,
        "start_time": "2022-12-30T18:32:25.870Z"
      },
      {
        "duration": 32,
        "start_time": "2022-12-30T18:36:04.608Z"
      },
      {
        "duration": 9,
        "start_time": "2022-12-30T18:36:18.035Z"
      },
      {
        "duration": 4,
        "start_time": "2022-12-30T18:39:46.397Z"
      },
      {
        "duration": 174,
        "start_time": "2022-12-30T18:39:46.604Z"
      },
      {
        "duration": 161,
        "start_time": "2022-12-30T18:39:46.965Z"
      },
      {
        "duration": 213,
        "start_time": "2022-12-30T18:39:47.353Z"
      },
      {
        "duration": 164,
        "start_time": "2022-12-30T18:39:47.700Z"
      },
      {
        "duration": 161,
        "start_time": "2022-12-30T18:39:48.059Z"
      },
      {
        "duration": 170,
        "start_time": "2022-12-30T18:39:48.454Z"
      },
      {
        "duration": 155,
        "start_time": "2022-12-30T18:39:48.822Z"
      },
      {
        "duration": 170,
        "start_time": "2022-12-30T18:39:49.211Z"
      },
      {
        "duration": 166,
        "start_time": "2022-12-30T18:39:49.612Z"
      },
      {
        "duration": 171,
        "start_time": "2022-12-30T18:39:49.995Z"
      },
      {
        "duration": 166,
        "start_time": "2022-12-30T18:39:50.395Z"
      },
      {
        "duration": 171,
        "start_time": "2022-12-30T18:39:50.826Z"
      },
      {
        "duration": 33,
        "start_time": "2022-12-30T19:39:28.228Z"
      },
      {
        "duration": 31,
        "start_time": "2022-12-30T19:39:34.028Z"
      },
      {
        "duration": 50,
        "start_time": "2022-12-30T19:43:24.655Z"
      },
      {
        "duration": 54,
        "start_time": "2022-12-30T19:46:32.337Z"
      },
      {
        "duration": 11,
        "start_time": "2022-12-30T19:46:39.929Z"
      },
      {
        "duration": 199,
        "start_time": "2022-12-30T19:48:33.923Z"
      },
      {
        "duration": 7,
        "start_time": "2022-12-30T19:50:02.956Z"
      },
      {
        "duration": 10,
        "start_time": "2022-12-30T19:51:26.830Z"
      },
      {
        "duration": 9,
        "start_time": "2022-12-30T19:51:45.225Z"
      },
      {
        "duration": 123,
        "start_time": "2022-12-30T19:53:24.934Z"
      },
      {
        "duration": 183,
        "start_time": "2022-12-30T19:54:00.368Z"
      },
      {
        "duration": 13,
        "start_time": "2022-12-30T19:54:06.647Z"
      },
      {
        "duration": 128,
        "start_time": "2022-12-30T19:54:07.839Z"
      },
      {
        "duration": 36,
        "start_time": "2022-12-30T19:54:42.417Z"
      },
      {
        "duration": 227,
        "start_time": "2022-12-30T19:54:52.320Z"
      },
      {
        "duration": 49,
        "start_time": "2022-12-31T08:29:40.378Z"
      },
      {
        "duration": 782,
        "start_time": "2022-12-31T09:03:23.195Z"
      },
      {
        "duration": 127,
        "start_time": "2022-12-31T09:03:23.979Z"
      },
      {
        "duration": 270,
        "start_time": "2022-12-31T09:03:24.747Z"
      },
      {
        "duration": 150,
        "start_time": "2022-12-31T09:03:25.130Z"
      },
      {
        "duration": 178,
        "start_time": "2022-12-31T09:03:25.523Z"
      },
      {
        "duration": 145,
        "start_time": "2022-12-31T09:03:25.908Z"
      },
      {
        "duration": 267,
        "start_time": "2022-12-31T09:03:26.333Z"
      },
      {
        "duration": 139,
        "start_time": "2022-12-31T09:03:26.731Z"
      },
      {
        "duration": 142,
        "start_time": "2022-12-31T09:03:27.115Z"
      },
      {
        "duration": 143,
        "start_time": "2022-12-31T09:03:27.531Z"
      },
      {
        "duration": 1142,
        "start_time": "2022-12-31T09:03:27.939Z"
      },
      {
        "duration": 168,
        "start_time": "2022-12-31T09:03:29.083Z"
      },
      {
        "duration": 17,
        "start_time": "2022-12-31T09:03:29.253Z"
      },
      {
        "duration": 12,
        "start_time": "2022-12-31T09:03:29.628Z"
      },
      {
        "duration": 31,
        "start_time": "2022-12-31T09:03:30.083Z"
      },
      {
        "duration": 7,
        "start_time": "2022-12-31T09:03:30.950Z"
      },
      {
        "duration": 7,
        "start_time": "2022-12-31T09:03:31.562Z"
      },
      {
        "duration": 9,
        "start_time": "2022-12-31T09:03:31.994Z"
      },
      {
        "duration": 4,
        "start_time": "2022-12-31T09:03:32.611Z"
      },
      {
        "duration": 160,
        "start_time": "2022-12-31T09:03:32.812Z"
      },
      {
        "duration": 134,
        "start_time": "2022-12-31T09:03:33.227Z"
      },
      {
        "duration": 137,
        "start_time": "2022-12-31T09:03:33.651Z"
      },
      {
        "duration": 241,
        "start_time": "2022-12-31T09:03:34.091Z"
      },
      {
        "duration": 129,
        "start_time": "2022-12-31T09:03:34.508Z"
      },
      {
        "duration": 112,
        "start_time": "2022-12-31T09:03:34.930Z"
      },
      {
        "duration": 38,
        "start_time": "2022-12-31T09:03:36.507Z"
      },
      {
        "duration": 8,
        "start_time": "2022-12-31T09:03:37.331Z"
      },
      {
        "duration": 4,
        "start_time": "2022-12-31T09:03:42.868Z"
      },
      {
        "duration": 145,
        "start_time": "2022-12-31T09:03:43.347Z"
      },
      {
        "duration": 140,
        "start_time": "2022-12-31T09:03:43.795Z"
      },
      {
        "duration": 126,
        "start_time": "2022-12-31T09:03:44.242Z"
      },
      {
        "duration": 127,
        "start_time": "2022-12-31T09:03:44.635Z"
      },
      {
        "duration": 135,
        "start_time": "2022-12-31T09:03:45.059Z"
      },
      {
        "duration": 127,
        "start_time": "2022-12-31T09:03:45.475Z"
      },
      {
        "duration": 137,
        "start_time": "2022-12-31T09:03:45.907Z"
      },
      {
        "duration": 173,
        "start_time": "2022-12-31T09:03:46.347Z"
      },
      {
        "duration": 199,
        "start_time": "2022-12-31T09:03:46.779Z"
      },
      {
        "duration": 129,
        "start_time": "2022-12-31T09:03:47.203Z"
      },
      {
        "duration": 139,
        "start_time": "2022-12-31T09:03:47.699Z"
      },
      {
        "duration": 148,
        "start_time": "2022-12-31T09:03:48.123Z"
      },
      {
        "duration": 7,
        "start_time": "2022-12-31T09:03:51.201Z"
      },
      {
        "duration": 168,
        "start_time": "2022-12-31T09:03:53.164Z"
      },
      {
        "duration": 35,
        "start_time": "2022-12-31T09:04:55.563Z"
      },
      {
        "duration": 142,
        "start_time": "2022-12-31T09:05:00.861Z"
      },
      {
        "duration": 142,
        "start_time": "2022-12-31T09:06:30.814Z"
      },
      {
        "duration": 117,
        "start_time": "2022-12-31T09:07:07.742Z"
      },
      {
        "duration": 167,
        "start_time": "2022-12-31T09:07:34.927Z"
      },
      {
        "duration": 16,
        "start_time": "2022-12-31T09:07:52.055Z"
      },
      {
        "duration": 23,
        "start_time": "2022-12-31T09:08:33.495Z"
      },
      {
        "duration": 115,
        "start_time": "2022-12-31T09:08:53.888Z"
      },
      {
        "duration": 12,
        "start_time": "2022-12-31T09:09:01.095Z"
      },
      {
        "duration": 3,
        "start_time": "2022-12-31T09:09:06.496Z"
      },
      {
        "duration": 74,
        "start_time": "2022-12-31T09:09:06.869Z"
      },
      {
        "duration": 219,
        "start_time": "2022-12-31T09:09:07.223Z"
      },
      {
        "duration": 204,
        "start_time": "2022-12-31T09:09:07.576Z"
      },
      {
        "duration": 155,
        "start_time": "2022-12-31T09:09:07.967Z"
      },
      {
        "duration": 133,
        "start_time": "2022-12-31T09:09:08.383Z"
      },
      {
        "duration": 140,
        "start_time": "2022-12-31T09:09:08.759Z"
      },
      {
        "duration": 134,
        "start_time": "2022-12-31T09:09:09.167Z"
      },
      {
        "duration": 124,
        "start_time": "2022-12-31T09:09:09.583Z"
      },
      {
        "duration": 129,
        "start_time": "2022-12-31T09:09:09.975Z"
      },
      {
        "duration": 1053,
        "start_time": "2022-12-31T09:09:10.368Z"
      },
      {
        "duration": 139,
        "start_time": "2022-12-31T09:09:11.423Z"
      },
      {
        "duration": 14,
        "start_time": "2022-12-31T09:09:11.564Z"
      },
      {
        "duration": 10,
        "start_time": "2022-12-31T09:09:11.967Z"
      },
      {
        "duration": 29,
        "start_time": "2022-12-31T09:09:12.368Z"
      },
      {
        "duration": 8,
        "start_time": "2022-12-31T09:09:13.191Z"
      },
      {
        "duration": 5,
        "start_time": "2022-12-31T09:09:13.807Z"
      },
      {
        "duration": 10,
        "start_time": "2022-12-31T09:09:14.190Z"
      },
      {
        "duration": 3,
        "start_time": "2022-12-31T09:09:14.743Z"
      },
      {
        "duration": 118,
        "start_time": "2022-12-31T09:09:14.937Z"
      },
      {
        "duration": 217,
        "start_time": "2022-12-31T09:09:15.319Z"
      },
      {
        "duration": 113,
        "start_time": "2022-12-31T09:09:15.711Z"
      },
      {
        "duration": 144,
        "start_time": "2022-12-31T09:09:16.111Z"
      },
      {
        "duration": 135,
        "start_time": "2022-12-31T09:09:16.495Z"
      },
      {
        "duration": 106,
        "start_time": "2022-12-31T09:09:16.927Z"
      },
      {
        "duration": 23,
        "start_time": "2022-12-31T09:09:17.776Z"
      },
      {
        "duration": 7,
        "start_time": "2022-12-31T09:09:18.216Z"
      },
      {
        "duration": 3,
        "start_time": "2022-12-31T09:09:18.872Z"
      },
      {
        "duration": 161,
        "start_time": "2022-12-31T09:09:19.079Z"
      },
      {
        "duration": 131,
        "start_time": "2022-12-31T09:09:19.520Z"
      },
      {
        "duration": 137,
        "start_time": "2022-12-31T09:09:20.064Z"
      },
      {
        "duration": 127,
        "start_time": "2022-12-31T09:09:20.520Z"
      },
      {
        "duration": 134,
        "start_time": "2022-12-31T09:09:20.967Z"
      },
      {
        "duration": 126,
        "start_time": "2022-12-31T09:09:21.392Z"
      },
      {
        "duration": 199,
        "start_time": "2022-12-31T09:09:21.855Z"
      },
      {
        "duration": 125,
        "start_time": "2022-12-31T09:09:22.336Z"
      },
      {
        "duration": 125,
        "start_time": "2022-12-31T09:09:22.751Z"
      },
      {
        "duration": 115,
        "start_time": "2022-12-31T09:09:23.176Z"
      },
      {
        "duration": 138,
        "start_time": "2022-12-31T09:09:23.623Z"
      },
      {
        "duration": 143,
        "start_time": "2022-12-31T09:09:24.135Z"
      },
      {
        "duration": 8,
        "start_time": "2022-12-31T09:09:25.167Z"
      },
      {
        "duration": 174,
        "start_time": "2022-12-31T09:09:25.975Z"
      },
      {
        "duration": 11,
        "start_time": "2022-12-31T09:09:27.503Z"
      },
      {
        "duration": 134,
        "start_time": "2022-12-31T09:09:28.817Z"
      },
      {
        "duration": 139,
        "start_time": "2022-12-31T09:16:51.221Z"
      },
      {
        "duration": 144,
        "start_time": "2022-12-31T09:17:17.894Z"
      },
      {
        "duration": 148,
        "start_time": "2022-12-31T09:17:27.902Z"
      },
      {
        "duration": 207,
        "start_time": "2022-12-31T09:17:54.528Z"
      },
      {
        "duration": 57,
        "start_time": "2022-12-31T09:18:05.671Z"
      },
      {
        "duration": 136,
        "start_time": "2022-12-31T09:18:13.879Z"
      },
      {
        "duration": 3,
        "start_time": "2022-12-31T09:18:41.329Z"
      },
      {
        "duration": 3,
        "start_time": "2022-12-31T09:19:27.576Z"
      },
      {
        "duration": 131,
        "start_time": "2022-12-31T09:19:27.848Z"
      },
      {
        "duration": 150,
        "start_time": "2022-12-31T09:19:40.776Z"
      },
      {
        "duration": 142,
        "start_time": "2022-12-31T09:20:25.393Z"
      },
      {
        "duration": 173,
        "start_time": "2022-12-31T09:21:30.707Z"
      },
      {
        "duration": 164,
        "start_time": "2022-12-31T09:26:57.078Z"
      },
      {
        "duration": 141,
        "start_time": "2022-12-31T09:26:57.655Z"
      },
      {
        "duration": 147,
        "start_time": "2022-12-31T09:26:58.331Z"
      },
      {
        "duration": 152,
        "start_time": "2022-12-31T09:27:00.270Z"
      },
      {
        "duration": 148,
        "start_time": "2022-12-31T09:35:03.564Z"
      },
      {
        "duration": 6,
        "start_time": "2022-12-31T10:44:23.584Z"
      },
      {
        "duration": 206,
        "start_time": "2022-12-31T10:45:26.360Z"
      },
      {
        "duration": 100,
        "start_time": "2022-12-31T10:45:49.001Z"
      },
      {
        "duration": 100,
        "start_time": "2022-12-31T10:46:19.651Z"
      },
      {
        "duration": 103,
        "start_time": "2022-12-31T10:46:20.305Z"
      },
      {
        "duration": 97,
        "start_time": "2022-12-31T11:00:16.901Z"
      },
      {
        "duration": 94,
        "start_time": "2022-12-31T11:00:54.430Z"
      },
      {
        "duration": 6,
        "start_time": "2022-12-31T11:05:29.905Z"
      },
      {
        "duration": 7,
        "start_time": "2022-12-31T11:05:40.488Z"
      },
      {
        "duration": 9,
        "start_time": "2022-12-31T11:05:52.345Z"
      },
      {
        "duration": 8,
        "start_time": "2022-12-31T11:07:03.370Z"
      },
      {
        "duration": 9,
        "start_time": "2022-12-31T11:07:29.243Z"
      },
      {
        "duration": 11,
        "start_time": "2022-12-31T11:07:36.706Z"
      },
      {
        "duration": 7,
        "start_time": "2022-12-31T11:08:26.195Z"
      },
      {
        "duration": 7,
        "start_time": "2022-12-31T11:08:33.347Z"
      },
      {
        "duration": 7,
        "start_time": "2022-12-31T11:08:44.443Z"
      },
      {
        "duration": 9,
        "start_time": "2022-12-31T11:08:49.379Z"
      },
      {
        "duration": 8,
        "start_time": "2022-12-31T11:09:12.851Z"
      },
      {
        "duration": 79,
        "start_time": "2022-12-31T11:09:25.364Z"
      },
      {
        "duration": 91,
        "start_time": "2022-12-31T11:11:14.157Z"
      },
      {
        "duration": 93,
        "start_time": "2022-12-31T11:11:16.908Z"
      },
      {
        "duration": 79,
        "start_time": "2022-12-31T11:15:51.769Z"
      },
      {
        "duration": 74,
        "start_time": "2022-12-31T11:35:20.978Z"
      },
      {
        "duration": 80,
        "start_time": "2022-12-31T12:18:13.047Z"
      },
      {
        "duration": 142,
        "start_time": "2022-12-31T12:18:15.631Z"
      },
      {
        "duration": 6,
        "start_time": "2022-12-31T12:40:57.642Z"
      },
      {
        "duration": 9,
        "start_time": "2022-12-31T12:42:04.339Z"
      },
      {
        "duration": 16,
        "start_time": "2022-12-31T12:44:57.342Z"
      },
      {
        "duration": 15,
        "start_time": "2022-12-31T12:46:01.167Z"
      },
      {
        "duration": 6,
        "start_time": "2022-12-31T12:46:36.952Z"
      },
      {
        "duration": 26,
        "start_time": "2022-12-31T12:47:19.704Z"
      },
      {
        "duration": 414,
        "start_time": "2022-12-31T13:07:06.384Z"
      },
      {
        "duration": 3,
        "start_time": "2022-12-31T13:07:08.256Z"
      },
      {
        "duration": 15,
        "start_time": "2022-12-31T13:23:36.208Z"
      },
      {
        "duration": 188,
        "start_time": "2022-12-31T13:23:37.543Z"
      },
      {
        "duration": 148,
        "start_time": "2022-12-31T13:25:05.300Z"
      },
      {
        "duration": 179,
        "start_time": "2022-12-31T13:25:23.770Z"
      },
      {
        "duration": 92,
        "start_time": "2022-12-31T13:25:39.753Z"
      },
      {
        "duration": 170,
        "start_time": "2022-12-31T13:27:40.268Z"
      },
      {
        "duration": 89,
        "start_time": "2022-12-31T13:28:29.959Z"
      },
      {
        "duration": 105,
        "start_time": "2022-12-31T13:28:37.404Z"
      },
      {
        "duration": 79,
        "start_time": "2022-12-31T13:28:49.788Z"
      },
      {
        "duration": 86,
        "start_time": "2022-12-31T13:28:51.725Z"
      },
      {
        "duration": 99,
        "start_time": "2022-12-31T13:29:22.133Z"
      },
      {
        "duration": 82,
        "start_time": "2022-12-31T13:29:26.860Z"
      },
      {
        "duration": 85,
        "start_time": "2022-12-31T13:29:27.949Z"
      },
      {
        "duration": 91,
        "start_time": "2022-12-31T13:29:29.669Z"
      },
      {
        "duration": 94,
        "start_time": "2022-12-31T13:30:17.158Z"
      },
      {
        "duration": 109,
        "start_time": "2022-12-31T13:30:56.559Z"
      },
      {
        "duration": 21,
        "start_time": "2022-12-31T13:35:11.659Z"
      },
      {
        "duration": 54,
        "start_time": "2022-12-31T13:38:02.547Z"
      },
      {
        "duration": 999,
        "start_time": "2022-12-31T13:38:46.351Z"
      },
      {
        "duration": 92,
        "start_time": "2022-12-31T13:38:47.352Z"
      },
      {
        "duration": 239,
        "start_time": "2022-12-31T13:38:47.446Z"
      },
      {
        "duration": 161,
        "start_time": "2022-12-31T13:38:47.686Z"
      },
      {
        "duration": 182,
        "start_time": "2022-12-31T13:38:47.849Z"
      },
      {
        "duration": 136,
        "start_time": "2022-12-31T13:38:48.035Z"
      },
      {
        "duration": 167,
        "start_time": "2022-12-31T13:38:48.173Z"
      },
      {
        "duration": 145,
        "start_time": "2022-12-31T13:38:48.342Z"
      },
      {
        "duration": 147,
        "start_time": "2022-12-31T13:38:48.488Z"
      },
      {
        "duration": 141,
        "start_time": "2022-12-31T13:38:48.637Z"
      },
      {
        "duration": 1211,
        "start_time": "2022-12-31T13:38:48.780Z"
      },
      {
        "duration": 145,
        "start_time": "2022-12-31T13:38:49.993Z"
      },
      {
        "duration": 12,
        "start_time": "2022-12-31T13:38:50.140Z"
      },
      {
        "duration": 8,
        "start_time": "2022-12-31T13:38:50.155Z"
      },
      {
        "duration": 57,
        "start_time": "2022-12-31T13:38:50.165Z"
      },
      {
        "duration": 25,
        "start_time": "2022-12-31T13:38:50.223Z"
      },
      {
        "duration": 6,
        "start_time": "2022-12-31T13:38:50.250Z"
      },
      {
        "duration": 8,
        "start_time": "2022-12-31T13:38:50.258Z"
      },
      {
        "duration": 17,
        "start_time": "2022-12-31T13:38:50.267Z"
      },
      {
        "duration": 3,
        "start_time": "2022-12-31T13:38:50.286Z"
      },
      {
        "duration": 143,
        "start_time": "2022-12-31T13:38:50.313Z"
      },
      {
        "duration": 132,
        "start_time": "2022-12-31T13:38:50.459Z"
      },
      {
        "duration": 136,
        "start_time": "2022-12-31T13:38:50.593Z"
      },
      {
        "duration": 132,
        "start_time": "2022-12-31T13:38:50.731Z"
      },
      {
        "duration": 133,
        "start_time": "2022-12-31T13:38:50.865Z"
      },
      {
        "duration": 130,
        "start_time": "2022-12-31T13:38:50.999Z"
      },
      {
        "duration": 23,
        "start_time": "2022-12-31T13:38:51.131Z"
      },
      {
        "duration": 7,
        "start_time": "2022-12-31T13:38:51.155Z"
      },
      {
        "duration": 3,
        "start_time": "2022-12-31T13:38:51.164Z"
      },
      {
        "duration": 156,
        "start_time": "2022-12-31T13:38:51.169Z"
      },
      {
        "duration": 138,
        "start_time": "2022-12-31T13:38:51.328Z"
      },
      {
        "duration": 222,
        "start_time": "2022-12-31T13:38:51.467Z"
      },
      {
        "duration": 152,
        "start_time": "2022-12-31T13:38:51.691Z"
      },
      {
        "duration": 134,
        "start_time": "2022-12-31T13:38:51.845Z"
      },
      {
        "duration": 149,
        "start_time": "2022-12-31T13:38:51.981Z"
      },
      {
        "duration": 125,
        "start_time": "2022-12-31T13:38:52.131Z"
      },
      {
        "duration": 128,
        "start_time": "2022-12-31T13:38:52.258Z"
      },
      {
        "duration": 144,
        "start_time": "2022-12-31T13:38:52.388Z"
      },
      {
        "duration": 138,
        "start_time": "2022-12-31T13:38:52.533Z"
      },
      {
        "duration": 153,
        "start_time": "2022-12-31T13:38:52.673Z"
      },
      {
        "duration": 149,
        "start_time": "2022-12-31T13:38:52.833Z"
      },
      {
        "duration": 9,
        "start_time": "2022-12-31T13:38:52.983Z"
      },
      {
        "duration": 192,
        "start_time": "2022-12-31T13:38:52.994Z"
      },
      {
        "duration": 5,
        "start_time": "2022-12-31T13:38:53.188Z"
      },
      {
        "duration": 240,
        "start_time": "2022-12-31T13:38:53.195Z"
      },
      {
        "duration": 135,
        "start_time": "2022-12-31T13:38:53.436Z"
      },
      {
        "duration": 155,
        "start_time": "2022-12-31T13:38:53.572Z"
      },
      {
        "duration": 120,
        "start_time": "2022-12-31T13:38:53.729Z"
      },
      {
        "duration": 143,
        "start_time": "2022-12-31T13:38:53.851Z"
      },
      {
        "duration": 152,
        "start_time": "2022-12-31T13:38:53.996Z"
      },
      {
        "duration": 180,
        "start_time": "2022-12-31T13:38:54.150Z"
      },
      {
        "duration": 94,
        "start_time": "2022-12-31T13:38:54.332Z"
      },
      {
        "duration": 85,
        "start_time": "2022-12-31T13:38:54.428Z"
      },
      {
        "duration": 91,
        "start_time": "2022-12-31T13:38:54.522Z"
      },
      {
        "duration": 107,
        "start_time": "2022-12-31T13:38:54.619Z"
      },
      {
        "duration": 79,
        "start_time": "2022-12-31T13:38:54.728Z"
      },
      {
        "duration": 177,
        "start_time": "2022-12-31T13:38:54.809Z"
      },
      {
        "duration": 96,
        "start_time": "2022-12-31T13:38:54.988Z"
      },
      {
        "duration": 113,
        "start_time": "2022-12-31T13:38:55.085Z"
      },
      {
        "duration": 103,
        "start_time": "2022-12-31T13:38:55.199Z"
      },
      {
        "duration": 126,
        "start_time": "2022-12-31T13:38:55.304Z"
      },
      {
        "duration": 4,
        "start_time": "2022-12-31T13:39:35.894Z"
      },
      {
        "duration": 8,
        "start_time": "2022-12-31T13:48:43.053Z"
      },
      {
        "duration": 9,
        "start_time": "2022-12-31T13:49:26.223Z"
      },
      {
        "duration": 6,
        "start_time": "2022-12-31T13:51:51.056Z"
      },
      {
        "duration": 20,
        "start_time": "2022-12-31T13:51:52.279Z"
      },
      {
        "duration": 19,
        "start_time": "2022-12-31T13:51:59.407Z"
      },
      {
        "duration": 5,
        "start_time": "2022-12-31T13:52:35.704Z"
      },
      {
        "duration": 6,
        "start_time": "2022-12-31T13:53:59.058Z"
      },
      {
        "duration": 9,
        "start_time": "2022-12-31T13:54:23.250Z"
      },
      {
        "duration": 8,
        "start_time": "2022-12-31T13:54:27.803Z"
      },
      {
        "duration": 5,
        "start_time": "2022-12-31T13:54:30.267Z"
      },
      {
        "duration": 1147,
        "start_time": "2022-12-31T13:55:29.782Z"
      },
      {
        "duration": 91,
        "start_time": "2022-12-31T13:55:30.931Z"
      },
      {
        "duration": 252,
        "start_time": "2022-12-31T13:55:31.023Z"
      },
      {
        "duration": 164,
        "start_time": "2022-12-31T13:55:31.276Z"
      },
      {
        "duration": 190,
        "start_time": "2022-12-31T13:55:31.442Z"
      },
      {
        "duration": 142,
        "start_time": "2022-12-31T13:55:31.634Z"
      },
      {
        "duration": 161,
        "start_time": "2022-12-31T13:55:31.778Z"
      },
      {
        "duration": 162,
        "start_time": "2022-12-31T13:55:31.941Z"
      },
      {
        "duration": 159,
        "start_time": "2022-12-31T13:55:32.105Z"
      },
      {
        "duration": 160,
        "start_time": "2022-12-31T13:55:32.266Z"
      },
      {
        "duration": 1230,
        "start_time": "2022-12-31T13:55:32.428Z"
      },
      {
        "duration": 167,
        "start_time": "2022-12-31T13:55:33.660Z"
      },
      {
        "duration": 16,
        "start_time": "2022-12-31T13:55:33.831Z"
      },
      {
        "duration": 13,
        "start_time": "2022-12-31T13:55:33.851Z"
      },
      {
        "duration": 27,
        "start_time": "2022-12-31T13:55:33.865Z"
      },
      {
        "duration": 42,
        "start_time": "2022-12-31T13:55:33.894Z"
      },
      {
        "duration": 7,
        "start_time": "2022-12-31T13:55:33.938Z"
      },
      {
        "duration": 6,
        "start_time": "2022-12-31T13:55:33.946Z"
      },
      {
        "duration": 12,
        "start_time": "2022-12-31T13:55:33.954Z"
      },
      {
        "duration": 3,
        "start_time": "2022-12-31T13:55:33.968Z"
      },
      {
        "duration": 159,
        "start_time": "2022-12-31T13:55:33.973Z"
      },
      {
        "duration": 148,
        "start_time": "2022-12-31T13:55:34.134Z"
      },
      {
        "duration": 125,
        "start_time": "2022-12-31T13:55:34.284Z"
      },
      {
        "duration": 141,
        "start_time": "2022-12-31T13:55:34.412Z"
      },
      {
        "duration": 135,
        "start_time": "2022-12-31T13:55:34.555Z"
      },
      {
        "duration": 141,
        "start_time": "2022-12-31T13:55:34.693Z"
      },
      {
        "duration": 40,
        "start_time": "2022-12-31T13:55:34.837Z"
      },
      {
        "duration": 8,
        "start_time": "2022-12-31T13:55:34.879Z"
      },
      {
        "duration": 30,
        "start_time": "2022-12-31T13:55:34.889Z"
      },
      {
        "duration": 159,
        "start_time": "2022-12-31T13:55:34.921Z"
      },
      {
        "duration": 161,
        "start_time": "2022-12-31T13:55:35.082Z"
      },
      {
        "duration": 238,
        "start_time": "2022-12-31T13:55:35.244Z"
      },
      {
        "duration": 157,
        "start_time": "2022-12-31T13:55:35.484Z"
      },
      {
        "duration": 147,
        "start_time": "2022-12-31T13:55:35.642Z"
      },
      {
        "duration": 153,
        "start_time": "2022-12-31T13:55:35.791Z"
      },
      {
        "duration": 140,
        "start_time": "2022-12-31T13:55:35.946Z"
      },
      {
        "duration": 153,
        "start_time": "2022-12-31T13:55:36.087Z"
      },
      {
        "duration": 177,
        "start_time": "2022-12-31T13:55:36.242Z"
      },
      {
        "duration": 167,
        "start_time": "2022-12-31T13:55:36.426Z"
      },
      {
        "duration": 174,
        "start_time": "2022-12-31T13:55:36.596Z"
      },
      {
        "duration": 166,
        "start_time": "2022-12-31T13:55:36.774Z"
      },
      {
        "duration": 9,
        "start_time": "2022-12-31T13:55:36.942Z"
      },
      {
        "duration": 193,
        "start_time": "2022-12-31T13:55:36.952Z"
      },
      {
        "duration": 4,
        "start_time": "2022-12-31T13:55:37.147Z"
      },
      {
        "duration": 230,
        "start_time": "2022-12-31T13:55:37.153Z"
      },
      {
        "duration": 147,
        "start_time": "2022-12-31T13:55:37.384Z"
      },
      {
        "duration": 131,
        "start_time": "2022-12-31T13:55:37.532Z"
      },
      {
        "duration": 145,
        "start_time": "2022-12-31T13:55:37.664Z"
      },
      {
        "duration": 137,
        "start_time": "2022-12-31T13:55:37.813Z"
      },
      {
        "duration": 135,
        "start_time": "2022-12-31T13:55:37.952Z"
      },
      {
        "duration": 228,
        "start_time": "2022-12-31T13:55:38.088Z"
      },
      {
        "duration": 82,
        "start_time": "2022-12-31T13:55:38.318Z"
      },
      {
        "duration": 97,
        "start_time": "2022-12-31T13:55:38.401Z"
      },
      {
        "duration": 93,
        "start_time": "2022-12-31T13:55:38.500Z"
      },
      {
        "duration": 102,
        "start_time": "2022-12-31T13:55:38.595Z"
      },
      {
        "duration": 96,
        "start_time": "2022-12-31T13:55:38.698Z"
      },
      {
        "duration": 97,
        "start_time": "2022-12-31T13:55:38.797Z"
      },
      {
        "duration": 199,
        "start_time": "2022-12-31T13:55:38.895Z"
      },
      {
        "duration": 92,
        "start_time": "2022-12-31T13:55:39.096Z"
      },
      {
        "duration": 112,
        "start_time": "2022-12-31T13:55:39.189Z"
      },
      {
        "duration": 20,
        "start_time": "2022-12-31T13:55:39.303Z"
      },
      {
        "duration": 20,
        "start_time": "2022-12-31T13:55:39.328Z"
      },
      {
        "duration": 8,
        "start_time": "2022-12-31T13:58:35.735Z"
      },
      {
        "duration": 1127,
        "start_time": "2022-12-31T13:58:45.730Z"
      },
      {
        "duration": 85,
        "start_time": "2022-12-31T13:58:46.859Z"
      },
      {
        "duration": 249,
        "start_time": "2022-12-31T13:58:46.945Z"
      },
      {
        "duration": 150,
        "start_time": "2022-12-31T13:58:47.195Z"
      },
      {
        "duration": 159,
        "start_time": "2022-12-31T13:58:47.348Z"
      },
      {
        "duration": 134,
        "start_time": "2022-12-31T13:58:47.508Z"
      },
      {
        "duration": 141,
        "start_time": "2022-12-31T13:58:47.644Z"
      },
      {
        "duration": 167,
        "start_time": "2022-12-31T13:58:47.788Z"
      },
      {
        "duration": 152,
        "start_time": "2022-12-31T13:58:47.957Z"
      },
      {
        "duration": 151,
        "start_time": "2022-12-31T13:58:48.111Z"
      },
      {
        "duration": 1245,
        "start_time": "2022-12-31T13:58:48.263Z"
      },
      {
        "duration": 155,
        "start_time": "2022-12-31T13:58:49.512Z"
      },
      {
        "duration": 13,
        "start_time": "2022-12-31T13:58:49.668Z"
      },
      {
        "duration": 9,
        "start_time": "2022-12-31T13:58:49.684Z"
      },
      {
        "duration": 46,
        "start_time": "2022-12-31T13:58:49.694Z"
      },
      {
        "duration": 22,
        "start_time": "2022-12-31T13:58:49.742Z"
      },
      {
        "duration": 6,
        "start_time": "2022-12-31T13:58:49.766Z"
      },
      {
        "duration": 6,
        "start_time": "2022-12-31T13:58:49.773Z"
      },
      {
        "duration": 32,
        "start_time": "2022-12-31T13:58:49.781Z"
      },
      {
        "duration": 5,
        "start_time": "2022-12-31T13:58:49.817Z"
      },
      {
        "duration": 137,
        "start_time": "2022-12-31T13:58:49.823Z"
      },
      {
        "duration": 131,
        "start_time": "2022-12-31T13:58:49.961Z"
      },
      {
        "duration": 134,
        "start_time": "2022-12-31T13:58:50.094Z"
      },
      {
        "duration": 178,
        "start_time": "2022-12-31T13:58:50.234Z"
      },
      {
        "duration": 143,
        "start_time": "2022-12-31T13:58:50.415Z"
      },
      {
        "duration": 120,
        "start_time": "2022-12-31T13:58:50.560Z"
      },
      {
        "duration": 48,
        "start_time": "2022-12-31T13:58:50.681Z"
      },
      {
        "duration": 8,
        "start_time": "2022-12-31T13:58:50.731Z"
      },
      {
        "duration": 7,
        "start_time": "2022-12-31T13:58:50.741Z"
      },
      {
        "duration": 135,
        "start_time": "2022-12-31T13:58:50.749Z"
      },
      {
        "duration": 148,
        "start_time": "2022-12-31T13:58:50.886Z"
      },
      {
        "duration": 220,
        "start_time": "2022-12-31T13:58:51.036Z"
      },
      {
        "duration": 139,
        "start_time": "2022-12-31T13:58:51.258Z"
      },
      {
        "duration": 152,
        "start_time": "2022-12-31T13:58:51.399Z"
      },
      {
        "duration": 136,
        "start_time": "2022-12-31T13:58:51.552Z"
      },
      {
        "duration": 140,
        "start_time": "2022-12-31T13:58:51.690Z"
      },
      {
        "duration": 137,
        "start_time": "2022-12-31T13:58:51.831Z"
      },
      {
        "duration": 159,
        "start_time": "2022-12-31T13:58:51.970Z"
      },
      {
        "duration": 153,
        "start_time": "2022-12-31T13:58:52.130Z"
      },
      {
        "duration": 164,
        "start_time": "2022-12-31T13:58:52.285Z"
      },
      {
        "duration": 147,
        "start_time": "2022-12-31T13:58:52.454Z"
      },
      {
        "duration": 28,
        "start_time": "2022-12-31T13:58:52.603Z"
      },
      {
        "duration": 184,
        "start_time": "2022-12-31T13:58:52.633Z"
      },
      {
        "duration": 8,
        "start_time": "2022-12-31T13:58:52.819Z"
      },
      {
        "duration": 240,
        "start_time": "2022-12-31T13:58:52.829Z"
      },
      {
        "duration": 162,
        "start_time": "2022-12-31T13:58:53.071Z"
      },
      {
        "duration": 140,
        "start_time": "2022-12-31T13:58:53.235Z"
      },
      {
        "duration": 150,
        "start_time": "2022-12-31T13:58:53.376Z"
      },
      {
        "duration": 131,
        "start_time": "2022-12-31T13:58:53.528Z"
      },
      {
        "duration": 144,
        "start_time": "2022-12-31T13:58:53.660Z"
      },
      {
        "duration": 177,
        "start_time": "2022-12-31T13:58:53.805Z"
      },
      {
        "duration": 99,
        "start_time": "2022-12-31T13:58:53.983Z"
      },
      {
        "duration": 107,
        "start_time": "2022-12-31T13:58:54.084Z"
      },
      {
        "duration": 102,
        "start_time": "2022-12-31T13:58:54.193Z"
      },
      {
        "duration": 93,
        "start_time": "2022-12-31T13:58:54.297Z"
      },
      {
        "duration": 88,
        "start_time": "2022-12-31T13:58:54.392Z"
      },
      {
        "duration": 182,
        "start_time": "2022-12-31T13:58:54.481Z"
      },
      {
        "duration": 95,
        "start_time": "2022-12-31T13:58:54.665Z"
      },
      {
        "duration": 102,
        "start_time": "2022-12-31T13:58:54.761Z"
      },
      {
        "duration": 105,
        "start_time": "2022-12-31T13:58:54.865Z"
      },
      {
        "duration": 8,
        "start_time": "2022-12-31T13:58:54.971Z"
      },
      {
        "duration": 9,
        "start_time": "2022-12-31T13:58:54.980Z"
      },
      {
        "duration": 8,
        "start_time": "2022-12-31T14:02:20.630Z"
      },
      {
        "duration": 19,
        "start_time": "2022-12-31T14:02:21.857Z"
      },
      {
        "duration": 1150,
        "start_time": "2022-12-31T14:03:04.468Z"
      },
      {
        "duration": 88,
        "start_time": "2022-12-31T14:03:05.620Z"
      },
      {
        "duration": 259,
        "start_time": "2022-12-31T14:03:05.709Z"
      },
      {
        "duration": 165,
        "start_time": "2022-12-31T14:03:05.971Z"
      },
      {
        "duration": 192,
        "start_time": "2022-12-31T14:03:06.138Z"
      },
      {
        "duration": 139,
        "start_time": "2022-12-31T14:03:06.331Z"
      },
      {
        "duration": 187,
        "start_time": "2022-12-31T14:03:06.472Z"
      },
      {
        "duration": 173,
        "start_time": "2022-12-31T14:03:06.664Z"
      },
      {
        "duration": 150,
        "start_time": "2022-12-31T14:03:06.839Z"
      },
      {
        "duration": 149,
        "start_time": "2022-12-31T14:03:06.993Z"
      },
      {
        "duration": 1205,
        "start_time": "2022-12-31T14:03:07.143Z"
      },
      {
        "duration": 146,
        "start_time": "2022-12-31T14:03:08.350Z"
      },
      {
        "duration": 28,
        "start_time": "2022-12-31T14:03:08.498Z"
      },
      {
        "duration": 10,
        "start_time": "2022-12-31T14:03:08.528Z"
      },
      {
        "duration": 22,
        "start_time": "2022-12-31T14:03:08.540Z"
      },
      {
        "duration": 22,
        "start_time": "2022-12-31T14:03:08.564Z"
      },
      {
        "duration": 39,
        "start_time": "2022-12-31T14:03:08.588Z"
      },
      {
        "duration": 6,
        "start_time": "2022-12-31T14:03:08.629Z"
      },
      {
        "duration": 10,
        "start_time": "2022-12-31T14:03:08.636Z"
      },
      {
        "duration": 3,
        "start_time": "2022-12-31T14:03:08.648Z"
      },
      {
        "duration": 138,
        "start_time": "2022-12-31T14:03:08.652Z"
      },
      {
        "duration": 140,
        "start_time": "2022-12-31T14:03:08.792Z"
      },
      {
        "duration": 124,
        "start_time": "2022-12-31T14:03:08.934Z"
      },
      {
        "duration": 200,
        "start_time": "2022-12-31T14:03:09.060Z"
      },
      {
        "duration": 175,
        "start_time": "2022-12-31T14:03:09.262Z"
      },
      {
        "duration": 128,
        "start_time": "2022-12-31T14:03:09.438Z"
      },
      {
        "duration": 25,
        "start_time": "2022-12-31T14:03:09.567Z"
      },
      {
        "duration": 30,
        "start_time": "2022-12-31T14:03:09.595Z"
      },
      {
        "duration": 6,
        "start_time": "2022-12-31T14:03:09.627Z"
      },
      {
        "duration": 136,
        "start_time": "2022-12-31T14:03:09.635Z"
      },
      {
        "duration": 159,
        "start_time": "2022-12-31T14:03:09.772Z"
      },
      {
        "duration": 238,
        "start_time": "2022-12-31T14:03:09.932Z"
      },
      {
        "duration": 166,
        "start_time": "2022-12-31T14:03:10.172Z"
      },
      {
        "duration": 144,
        "start_time": "2022-12-31T14:03:10.340Z"
      },
      {
        "duration": 156,
        "start_time": "2022-12-31T14:03:10.486Z"
      },
      {
        "duration": 136,
        "start_time": "2022-12-31T14:03:10.643Z"
      },
      {
        "duration": 148,
        "start_time": "2022-12-31T14:03:10.781Z"
      },
      {
        "duration": 142,
        "start_time": "2022-12-31T14:03:10.931Z"
      },
      {
        "duration": 154,
        "start_time": "2022-12-31T14:03:11.076Z"
      },
      {
        "duration": 141,
        "start_time": "2022-12-31T14:03:11.232Z"
      },
      {
        "duration": 158,
        "start_time": "2022-12-31T14:03:11.375Z"
      },
      {
        "duration": 9,
        "start_time": "2022-12-31T14:03:11.535Z"
      },
      {
        "duration": 207,
        "start_time": "2022-12-31T14:03:11.546Z"
      },
      {
        "duration": 4,
        "start_time": "2022-12-31T14:03:11.755Z"
      },
      {
        "duration": 213,
        "start_time": "2022-12-31T14:03:11.761Z"
      },
      {
        "duration": 130,
        "start_time": "2022-12-31T14:03:11.976Z"
      },
      {
        "duration": 155,
        "start_time": "2022-12-31T14:03:12.112Z"
      },
      {
        "duration": 138,
        "start_time": "2022-12-31T14:03:12.268Z"
      },
      {
        "duration": 127,
        "start_time": "2022-12-31T14:03:12.408Z"
      },
      {
        "duration": 137,
        "start_time": "2022-12-31T14:03:12.536Z"
      },
      {
        "duration": 185,
        "start_time": "2022-12-31T14:03:12.675Z"
      },
      {
        "duration": 97,
        "start_time": "2022-12-31T14:03:12.862Z"
      },
      {
        "duration": 99,
        "start_time": "2022-12-31T14:03:12.960Z"
      },
      {
        "duration": 105,
        "start_time": "2022-12-31T14:03:13.061Z"
      },
      {
        "duration": 103,
        "start_time": "2022-12-31T14:03:13.169Z"
      },
      {
        "duration": 103,
        "start_time": "2022-12-31T14:03:13.274Z"
      },
      {
        "duration": 99,
        "start_time": "2022-12-31T14:03:13.379Z"
      },
      {
        "duration": 187,
        "start_time": "2022-12-31T14:03:13.479Z"
      },
      {
        "duration": 95,
        "start_time": "2022-12-31T14:03:13.667Z"
      },
      {
        "duration": 103,
        "start_time": "2022-12-31T14:03:13.764Z"
      },
      {
        "duration": 9,
        "start_time": "2022-12-31T14:03:13.869Z"
      },
      {
        "duration": 8,
        "start_time": "2022-12-31T14:03:13.879Z"
      },
      {
        "duration": 6,
        "start_time": "2022-12-31T14:04:43.867Z"
      },
      {
        "duration": 19,
        "start_time": "2022-12-31T14:04:45.259Z"
      },
      {
        "duration": 1101,
        "start_time": "2022-12-31T14:04:50.589Z"
      },
      {
        "duration": 92,
        "start_time": "2022-12-31T14:04:51.692Z"
      },
      {
        "duration": 247,
        "start_time": "2022-12-31T14:04:51.785Z"
      },
      {
        "duration": 155,
        "start_time": "2022-12-31T14:04:52.035Z"
      },
      {
        "duration": 177,
        "start_time": "2022-12-31T14:04:52.192Z"
      },
      {
        "duration": 171,
        "start_time": "2022-12-31T14:04:52.370Z"
      },
      {
        "duration": 156,
        "start_time": "2022-12-31T14:04:52.543Z"
      },
      {
        "duration": 151,
        "start_time": "2022-12-31T14:04:52.701Z"
      },
      {
        "duration": 143,
        "start_time": "2022-12-31T14:04:52.854Z"
      },
      {
        "duration": 158,
        "start_time": "2022-12-31T14:04:53.000Z"
      },
      {
        "duration": 1231,
        "start_time": "2022-12-31T14:04:53.160Z"
      },
      {
        "duration": 166,
        "start_time": "2022-12-31T14:04:54.393Z"
      },
      {
        "duration": 15,
        "start_time": "2022-12-31T14:04:54.560Z"
      },
      {
        "duration": 9,
        "start_time": "2022-12-31T14:04:54.577Z"
      },
      {
        "duration": 54,
        "start_time": "2022-12-31T14:04:54.587Z"
      },
      {
        "duration": 29,
        "start_time": "2022-12-31T14:04:54.643Z"
      },
      {
        "duration": 11,
        "start_time": "2022-12-31T14:04:54.674Z"
      },
      {
        "duration": 20,
        "start_time": "2022-12-31T14:04:54.687Z"
      },
      {
        "duration": 28,
        "start_time": "2022-12-31T14:04:54.709Z"
      },
      {
        "duration": 27,
        "start_time": "2022-12-31T14:04:54.738Z"
      },
      {
        "duration": 181,
        "start_time": "2022-12-31T14:04:54.767Z"
      },
      {
        "duration": 137,
        "start_time": "2022-12-31T14:04:54.952Z"
      },
      {
        "duration": 142,
        "start_time": "2022-12-31T14:04:55.091Z"
      },
      {
        "duration": 152,
        "start_time": "2022-12-31T14:04:55.235Z"
      },
      {
        "duration": 155,
        "start_time": "2022-12-31T14:04:55.389Z"
      },
      {
        "duration": 145,
        "start_time": "2022-12-31T14:04:55.547Z"
      },
      {
        "duration": 36,
        "start_time": "2022-12-31T14:04:55.694Z"
      },
      {
        "duration": 8,
        "start_time": "2022-12-31T14:04:55.734Z"
      },
      {
        "duration": 5,
        "start_time": "2022-12-31T14:04:55.744Z"
      },
      {
        "duration": 190,
        "start_time": "2022-12-31T14:04:55.751Z"
      },
      {
        "duration": 161,
        "start_time": "2022-12-31T14:04:55.943Z"
      },
      {
        "duration": 248,
        "start_time": "2022-12-31T14:04:56.106Z"
      },
      {
        "duration": 178,
        "start_time": "2022-12-31T14:04:56.356Z"
      },
      {
        "duration": 170,
        "start_time": "2022-12-31T14:04:56.537Z"
      },
      {
        "duration": 133,
        "start_time": "2022-12-31T14:04:56.709Z"
      },
      {
        "duration": 134,
        "start_time": "2022-12-31T14:04:56.844Z"
      },
      {
        "duration": 129,
        "start_time": "2022-12-31T14:04:56.979Z"
      },
      {
        "duration": 153,
        "start_time": "2022-12-31T14:04:57.113Z"
      },
      {
        "duration": 143,
        "start_time": "2022-12-31T14:04:57.268Z"
      },
      {
        "duration": 164,
        "start_time": "2022-12-31T14:04:57.413Z"
      },
      {
        "duration": 157,
        "start_time": "2022-12-31T14:04:57.579Z"
      },
      {
        "duration": 8,
        "start_time": "2022-12-31T14:04:57.738Z"
      },
      {
        "duration": 201,
        "start_time": "2022-12-31T14:04:57.748Z"
      },
      {
        "duration": 4,
        "start_time": "2022-12-31T14:04:57.951Z"
      },
      {
        "duration": 230,
        "start_time": "2022-12-31T14:04:57.956Z"
      },
      {
        "duration": 145,
        "start_time": "2022-12-31T14:04:58.188Z"
      },
      {
        "duration": 129,
        "start_time": "2022-12-31T14:04:58.334Z"
      },
      {
        "duration": 132,
        "start_time": "2022-12-31T14:04:58.464Z"
      },
      {
        "duration": 134,
        "start_time": "2022-12-31T14:04:58.597Z"
      },
      {
        "duration": 131,
        "start_time": "2022-12-31T14:04:58.732Z"
      },
      {
        "duration": 181,
        "start_time": "2022-12-31T14:04:58.865Z"
      },
      {
        "duration": 96,
        "start_time": "2022-12-31T14:04:59.048Z"
      },
      {
        "duration": 98,
        "start_time": "2022-12-31T14:04:59.146Z"
      },
      {
        "duration": 109,
        "start_time": "2022-12-31T14:04:59.246Z"
      },
      {
        "duration": 98,
        "start_time": "2022-12-31T14:04:59.357Z"
      },
      {
        "duration": 93,
        "start_time": "2022-12-31T14:04:59.457Z"
      },
      {
        "duration": 101,
        "start_time": "2022-12-31T14:04:59.551Z"
      },
      {
        "duration": 182,
        "start_time": "2022-12-31T14:04:59.653Z"
      },
      {
        "duration": 105,
        "start_time": "2022-12-31T14:04:59.836Z"
      },
      {
        "duration": 103,
        "start_time": "2022-12-31T14:04:59.942Z"
      },
      {
        "duration": 9,
        "start_time": "2022-12-31T14:05:00.048Z"
      },
      {
        "duration": 6,
        "start_time": "2022-12-31T14:05:00.059Z"
      },
      {
        "duration": 24,
        "start_time": "2022-12-31T14:06:30.540Z"
      },
      {
        "duration": 105,
        "start_time": "2022-12-31T14:10:33.048Z"
      },
      {
        "duration": 16,
        "start_time": "2022-12-31T14:10:53.532Z"
      },
      {
        "duration": 1049,
        "start_time": "2022-12-31T14:13:04.952Z"
      },
      {
        "duration": 88,
        "start_time": "2022-12-31T14:13:06.081Z"
      },
      {
        "duration": 254,
        "start_time": "2022-12-31T14:13:07.210Z"
      },
      {
        "duration": 160,
        "start_time": "2022-12-31T14:13:07.897Z"
      },
      {
        "duration": 177,
        "start_time": "2022-12-31T14:13:10.024Z"
      },
      {
        "duration": 131,
        "start_time": "2022-12-31T14:13:10.528Z"
      },
      {
        "duration": 152,
        "start_time": "2022-12-31T14:13:10.976Z"
      },
      {
        "duration": 135,
        "start_time": "2022-12-31T14:13:11.427Z"
      },
      {
        "duration": 152,
        "start_time": "2022-12-31T14:13:11.881Z"
      },
      {
        "duration": 145,
        "start_time": "2022-12-31T14:13:12.321Z"
      },
      {
        "duration": 1184,
        "start_time": "2022-12-31T14:13:13.064Z"
      },
      {
        "duration": 146,
        "start_time": "2022-12-31T14:13:14.250Z"
      },
      {
        "duration": 16,
        "start_time": "2022-12-31T14:13:20.033Z"
      },
      {
        "duration": 6,
        "start_time": "2022-12-31T14:14:57.122Z"
      },
      {
        "duration": 8,
        "start_time": "2022-12-31T14:15:14.987Z"
      },
      {
        "duration": 5,
        "start_time": "2022-12-31T14:19:35.527Z"
      },
      {
        "duration": 12,
        "start_time": "2022-12-31T14:38:38.486Z"
      },
      {
        "duration": 15,
        "start_time": "2022-12-31T14:39:23.789Z"
      },
      {
        "duration": 7,
        "start_time": "2022-12-31T14:50:10.654Z"
      },
      {
        "duration": 6,
        "start_time": "2022-12-31T14:50:12.624Z"
      },
      {
        "duration": 17,
        "start_time": "2022-12-31T14:50:13.110Z"
      },
      {
        "duration": 11,
        "start_time": "2022-12-31T14:50:18.942Z"
      },
      {
        "duration": 18,
        "start_time": "2022-12-31T14:51:51.728Z"
      },
      {
        "duration": 5,
        "start_time": "2022-12-31T14:58:11.589Z"
      },
      {
        "duration": 6,
        "start_time": "2022-12-31T14:58:45.886Z"
      },
      {
        "duration": 12,
        "start_time": "2022-12-31T14:58:52.558Z"
      },
      {
        "duration": 10,
        "start_time": "2022-12-31T14:59:08.790Z"
      },
      {
        "duration": 18,
        "start_time": "2022-12-31T14:59:09.997Z"
      },
      {
        "duration": 6,
        "start_time": "2022-12-31T14:59:13.981Z"
      },
      {
        "duration": 18,
        "start_time": "2022-12-31T14:59:15.815Z"
      },
      {
        "duration": 11,
        "start_time": "2022-12-31T15:00:00.790Z"
      },
      {
        "duration": 16,
        "start_time": "2022-12-31T15:00:01.591Z"
      },
      {
        "duration": 7,
        "start_time": "2022-12-31T15:00:03.758Z"
      },
      {
        "duration": 23,
        "start_time": "2022-12-31T15:00:04.502Z"
      },
      {
        "duration": 7,
        "start_time": "2022-12-31T15:02:35.704Z"
      },
      {
        "duration": 5,
        "start_time": "2022-12-31T15:02:42.064Z"
      },
      {
        "duration": 10,
        "start_time": "2022-12-31T15:02:46.533Z"
      },
      {
        "duration": 8,
        "start_time": "2022-12-31T15:40:56.455Z"
      },
      {
        "duration": 11,
        "start_time": "2022-12-31T15:42:54.782Z"
      },
      {
        "duration": 8,
        "start_time": "2022-12-31T15:58:49.643Z"
      },
      {
        "duration": 4,
        "start_time": "2022-12-31T15:59:39.762Z"
      },
      {
        "duration": 121,
        "start_time": "2022-12-31T15:59:45.325Z"
      },
      {
        "duration": 264,
        "start_time": "2022-12-31T15:59:58.180Z"
      },
      {
        "duration": 6,
        "start_time": "2022-12-31T16:03:39.039Z"
      },
      {
        "duration": 21,
        "start_time": "2022-12-31T16:03:54.287Z"
      },
      {
        "duration": 19,
        "start_time": "2022-12-31T16:04:18.479Z"
      },
      {
        "duration": 8,
        "start_time": "2022-12-31T16:05:33.442Z"
      },
      {
        "duration": 7,
        "start_time": "2022-12-31T16:09:06.338Z"
      },
      {
        "duration": 258,
        "start_time": "2022-12-31T16:09:08.602Z"
      },
      {
        "duration": 13,
        "start_time": "2022-12-31T16:09:21.624Z"
      },
      {
        "duration": 57,
        "start_time": "2022-12-31T16:13:29.900Z"
      },
      {
        "duration": 9,
        "start_time": "2022-12-31T16:13:53.956Z"
      },
      {
        "duration": 1245,
        "start_time": "2022-12-31T16:18:28.608Z"
      },
      {
        "duration": 118,
        "start_time": "2022-12-31T16:18:29.855Z"
      },
      {
        "duration": 299,
        "start_time": "2022-12-31T16:18:29.975Z"
      },
      {
        "duration": 170,
        "start_time": "2022-12-31T16:18:30.275Z"
      },
      {
        "duration": 197,
        "start_time": "2022-12-31T16:18:30.447Z"
      },
      {
        "duration": 177,
        "start_time": "2022-12-31T16:18:34.376Z"
      },
      {
        "duration": 154,
        "start_time": "2022-12-31T16:18:35.752Z"
      },
      {
        "duration": 135,
        "start_time": "2022-12-31T16:18:37.435Z"
      },
      {
        "duration": 138,
        "start_time": "2022-12-31T16:18:38.544Z"
      },
      {
        "duration": 139,
        "start_time": "2022-12-31T16:18:39.544Z"
      },
      {
        "duration": 1444,
        "start_time": "2022-12-31T16:18:40.792Z"
      },
      {
        "duration": 183,
        "start_time": "2022-12-31T16:18:43.064Z"
      },
      {
        "duration": 10,
        "start_time": "2022-12-31T16:18:45.872Z"
      },
      {
        "duration": 9,
        "start_time": "2022-12-31T16:18:46.735Z"
      },
      {
        "duration": 9,
        "start_time": "2022-12-31T16:19:33.608Z"
      },
      {
        "duration": 14,
        "start_time": "2022-12-31T16:19:33.941Z"
      },
      {
        "duration": 12,
        "start_time": "2022-12-31T16:19:34.947Z"
      },
      {
        "duration": 28,
        "start_time": "2022-12-31T16:19:36.097Z"
      },
      {
        "duration": 8,
        "start_time": "2022-12-31T16:19:37.272Z"
      },
      {
        "duration": 17,
        "start_time": "2022-12-31T16:19:37.735Z"
      },
      {
        "duration": 7,
        "start_time": "2022-12-31T16:19:39.743Z"
      },
      {
        "duration": 8,
        "start_time": "2022-12-31T16:19:41.021Z"
      },
      {
        "duration": 12,
        "start_time": "2022-12-31T16:19:41.531Z"
      },
      {
        "duration": 287,
        "start_time": "2022-12-31T16:19:42.176Z"
      },
      {
        "duration": 7,
        "start_time": "2022-12-31T16:19:45.498Z"
      },
      {
        "duration": 68,
        "start_time": "2022-12-31T16:23:09.596Z"
      },
      {
        "duration": 101,
        "start_time": "2022-12-31T16:23:18.099Z"
      },
      {
        "duration": 11,
        "start_time": "2022-12-31T16:23:37.741Z"
      },
      {
        "duration": 8,
        "start_time": "2022-12-31T16:23:38.164Z"
      },
      {
        "duration": 3,
        "start_time": "2022-12-31T16:23:38.796Z"
      },
      {
        "duration": 18,
        "start_time": "2022-12-31T16:23:39.035Z"
      },
      {
        "duration": 13,
        "start_time": "2022-12-31T16:23:39.444Z"
      },
      {
        "duration": 22,
        "start_time": "2022-12-31T16:23:39.868Z"
      },
      {
        "duration": 7,
        "start_time": "2022-12-31T16:23:40.284Z"
      },
      {
        "duration": 17,
        "start_time": "2022-12-31T16:23:40.475Z"
      },
      {
        "duration": 7,
        "start_time": "2022-12-31T16:23:41.356Z"
      },
      {
        "duration": 5,
        "start_time": "2022-12-31T16:23:42.235Z"
      },
      {
        "duration": 6,
        "start_time": "2022-12-31T16:23:42.660Z"
      },
      {
        "duration": 289,
        "start_time": "2022-12-31T16:23:43.099Z"
      },
      {
        "duration": 8,
        "start_time": "2022-12-31T16:23:43.755Z"
      },
      {
        "duration": 5,
        "start_time": "2022-12-31T16:23:44.388Z"
      },
      {
        "duration": 178,
        "start_time": "2022-12-31T16:23:44.827Z"
      },
      {
        "duration": 3,
        "start_time": "2022-12-31T16:23:45.248Z"
      },
      {
        "duration": 41,
        "start_time": "2022-12-31T16:25:01.039Z"
      },
      {
        "duration": 141,
        "start_time": "2022-12-31T16:25:03.141Z"
      },
      {
        "duration": 255,
        "start_time": "2022-12-31T16:25:09.045Z"
      },
      {
        "duration": 148,
        "start_time": "2022-12-31T16:29:28.384Z"
      },
      {
        "duration": 132,
        "start_time": "2022-12-31T16:29:50.137Z"
      },
      {
        "duration": 10,
        "start_time": "2022-12-31T16:35:47.269Z"
      },
      {
        "duration": 4,
        "start_time": "2022-12-31T16:38:37.409Z"
      },
      {
        "duration": 246,
        "start_time": "2022-12-31T16:38:38.686Z"
      },
      {
        "duration": 5,
        "start_time": "2022-12-31T16:58:49.997Z"
      },
      {
        "duration": 274,
        "start_time": "2022-12-31T16:58:50.628Z"
      },
      {
        "duration": 4,
        "start_time": "2022-12-31T17:01:40.399Z"
      },
      {
        "duration": 275,
        "start_time": "2022-12-31T17:01:40.870Z"
      },
      {
        "duration": 5,
        "start_time": "2022-12-31T17:05:30.986Z"
      },
      {
        "duration": 291,
        "start_time": "2022-12-31T17:05:31.729Z"
      },
      {
        "duration": 4,
        "start_time": "2022-12-31T17:05:43.482Z"
      },
      {
        "duration": 280,
        "start_time": "2022-12-31T17:05:43.914Z"
      },
      {
        "duration": 15,
        "start_time": "2022-12-31T17:08:52.148Z"
      },
      {
        "duration": 132,
        "start_time": "2022-12-31T17:09:29.924Z"
      },
      {
        "duration": 11,
        "start_time": "2022-12-31T17:09:32.492Z"
      },
      {
        "duration": 1022,
        "start_time": "2022-12-31T17:10:22.726Z"
      },
      {
        "duration": 85,
        "start_time": "2022-12-31T17:10:23.750Z"
      },
      {
        "duration": 232,
        "start_time": "2022-12-31T17:10:23.836Z"
      },
      {
        "duration": 158,
        "start_time": "2022-12-31T17:10:24.075Z"
      },
      {
        "duration": 162,
        "start_time": "2022-12-31T17:10:24.235Z"
      },
      {
        "duration": 133,
        "start_time": "2022-12-31T17:10:24.621Z"
      },
      {
        "duration": 149,
        "start_time": "2022-12-31T17:10:25.036Z"
      },
      {
        "duration": 133,
        "start_time": "2022-12-31T17:10:25.444Z"
      },
      {
        "duration": 130,
        "start_time": "2022-12-31T17:10:25.853Z"
      },
      {
        "duration": 195,
        "start_time": "2022-12-31T17:10:26.285Z"
      },
      {
        "duration": 1171,
        "start_time": "2022-12-31T17:10:26.724Z"
      },
      {
        "duration": 163,
        "start_time": "2022-12-31T17:10:27.897Z"
      },
      {
        "duration": 10,
        "start_time": "2022-12-31T17:10:28.197Z"
      },
      {
        "duration": 7,
        "start_time": "2022-12-31T17:10:28.638Z"
      },
      {
        "duration": 4,
        "start_time": "2022-12-31T17:10:29.393Z"
      },
      {
        "duration": 16,
        "start_time": "2022-12-31T17:10:29.509Z"
      },
      {
        "duration": 11,
        "start_time": "2022-12-31T17:10:29.957Z"
      },
      {
        "duration": 24,
        "start_time": "2022-12-31T17:10:30.429Z"
      },
      {
        "duration": 9,
        "start_time": "2022-12-31T17:10:30.837Z"
      },
      {
        "duration": 16,
        "start_time": "2022-12-31T17:10:31.070Z"
      },
      {
        "duration": 6,
        "start_time": "2022-12-31T17:10:31.933Z"
      },
      {
        "duration": 5,
        "start_time": "2022-12-31T17:10:32.780Z"
      },
      {
        "duration": 9,
        "start_time": "2022-12-31T17:10:33.453Z"
      },
      {
        "duration": 225,
        "start_time": "2022-12-31T17:10:33.909Z"
      },
      {
        "duration": 7,
        "start_time": "2022-12-31T17:10:34.566Z"
      },
      {
        "duration": 6,
        "start_time": "2022-12-31T17:10:35.219Z"
      },
      {
        "duration": 139,
        "start_time": "2022-12-31T17:10:35.637Z"
      },
      {
        "duration": 4,
        "start_time": "2022-12-31T17:10:36.327Z"
      },
      {
        "duration": 116,
        "start_time": "2022-12-31T17:10:36.548Z"
      },
      {
        "duration": 126,
        "start_time": "2022-12-31T17:10:37.013Z"
      },
      {
        "duration": 110,
        "start_time": "2022-12-31T17:10:37.445Z"
      },
      {
        "duration": 119,
        "start_time": "2022-12-31T17:10:37.877Z"
      },
      {
        "duration": 124,
        "start_time": "2022-12-31T17:10:38.293Z"
      },
      {
        "duration": 111,
        "start_time": "2022-12-31T17:10:38.728Z"
      },
      {
        "duration": 219,
        "start_time": "2022-12-31T17:10:44.877Z"
      },
      {
        "duration": 96,
        "start_time": "2022-12-31T17:10:48.254Z"
      },
      {
        "duration": 9,
        "start_time": "2022-12-31T17:12:12.431Z"
      },
      {
        "duration": 275,
        "start_time": "2022-12-31T17:12:31.343Z"
      },
      {
        "duration": 8,
        "start_time": "2022-12-31T17:18:25.267Z"
      },
      {
        "duration": 69,
        "start_time": "2022-12-31T17:18:39.427Z"
      },
      {
        "duration": 67,
        "start_time": "2022-12-31T17:19:41.162Z"
      },
      {
        "duration": 438,
        "start_time": "2022-12-31T17:21:25.511Z"
      },
      {
        "duration": 500,
        "start_time": "2022-12-31T17:21:47.334Z"
      },
      {
        "duration": 576,
        "start_time": "2022-12-31T17:21:54.382Z"
      },
      {
        "duration": 509,
        "start_time": "2022-12-31T17:23:55.904Z"
      },
      {
        "duration": 139,
        "start_time": "2022-12-31T17:29:02.013Z"
      },
      {
        "duration": 127,
        "start_time": "2022-12-31T17:29:08.756Z"
      },
      {
        "duration": 148,
        "start_time": "2022-12-31T17:38:04.130Z"
      },
      {
        "duration": 16,
        "start_time": "2022-12-31T17:43:03.510Z"
      },
      {
        "duration": 219,
        "start_time": "2022-12-31T17:43:39.054Z"
      },
      {
        "duration": 200,
        "start_time": "2022-12-31T17:43:49.478Z"
      },
      {
        "duration": 68,
        "start_time": "2022-12-31T17:45:03.095Z"
      },
      {
        "duration": 70,
        "start_time": "2022-12-31T17:45:13.088Z"
      },
      {
        "duration": 75,
        "start_time": "2022-12-31T17:45:28.760Z"
      },
      {
        "duration": 75,
        "start_time": "2022-12-31T17:47:07.177Z"
      },
      {
        "duration": 73,
        "start_time": "2022-12-31T17:50:39.996Z"
      },
      {
        "duration": 95,
        "start_time": "2022-12-31T17:54:50.125Z"
      },
      {
        "duration": 83,
        "start_time": "2022-12-31T17:54:56.944Z"
      },
      {
        "duration": 85,
        "start_time": "2022-12-31T17:54:59.991Z"
      },
      {
        "duration": 68,
        "start_time": "2022-12-31T17:55:00.942Z"
      },
      {
        "duration": 72,
        "start_time": "2022-12-31T17:55:05.125Z"
      },
      {
        "duration": 69,
        "start_time": "2022-12-31T17:56:27.728Z"
      },
      {
        "duration": 78,
        "start_time": "2022-12-31T17:57:38.673Z"
      },
      {
        "duration": 72,
        "start_time": "2022-12-31T17:58:19.410Z"
      },
      {
        "duration": 82,
        "start_time": "2022-12-31T18:05:15.863Z"
      },
      {
        "duration": 73,
        "start_time": "2022-12-31T18:07:08.736Z"
      },
      {
        "duration": 78,
        "start_time": "2022-12-31T18:08:24.066Z"
      },
      {
        "duration": 168,
        "start_time": "2022-12-31T18:16:37.583Z"
      },
      {
        "duration": 76,
        "start_time": "2022-12-31T18:17:22.328Z"
      },
      {
        "duration": 77,
        "start_time": "2022-12-31T18:20:10.518Z"
      },
      {
        "duration": 86,
        "start_time": "2022-12-31T18:20:32.554Z"
      },
      {
        "duration": 88,
        "start_time": "2022-12-31T18:23:50.412Z"
      },
      {
        "duration": 76,
        "start_time": "2022-12-31T18:25:03.254Z"
      },
      {
        "duration": 98,
        "start_time": "2022-12-31T18:27:57.879Z"
      },
      {
        "duration": 85,
        "start_time": "2022-12-31T18:28:51.577Z"
      },
      {
        "duration": 17,
        "start_time": "2022-12-31T18:29:45.210Z"
      },
      {
        "duration": 95,
        "start_time": "2022-12-31T18:29:55.498Z"
      },
      {
        "duration": 89,
        "start_time": "2022-12-31T18:33:08.580Z"
      },
      {
        "duration": 79,
        "start_time": "2022-12-31T18:33:08.907Z"
      },
      {
        "duration": 82,
        "start_time": "2022-12-31T18:35:20.462Z"
      },
      {
        "duration": 9,
        "start_time": "2022-12-31T18:40:14.737Z"
      },
      {
        "duration": 9,
        "start_time": "2022-12-31T18:44:54.415Z"
      },
      {
        "duration": 11,
        "start_time": "2022-12-31T18:45:49.702Z"
      },
      {
        "duration": 14,
        "start_time": "2022-12-31T18:45:56.214Z"
      },
      {
        "duration": 10,
        "start_time": "2022-12-31T18:45:57.166Z"
      },
      {
        "duration": 1067,
        "start_time": "2022-12-31T18:47:03.028Z"
      },
      {
        "duration": 89,
        "start_time": "2022-12-31T18:47:04.098Z"
      },
      {
        "duration": 243,
        "start_time": "2022-12-31T18:47:04.191Z"
      },
      {
        "duration": 150,
        "start_time": "2022-12-31T18:47:04.437Z"
      },
      {
        "duration": 170,
        "start_time": "2022-12-31T18:47:04.588Z"
      },
      {
        "duration": 146,
        "start_time": "2022-12-31T18:47:04.760Z"
      },
      {
        "duration": 158,
        "start_time": "2022-12-31T18:47:04.912Z"
      },
      {
        "duration": 136,
        "start_time": "2022-12-31T18:47:05.072Z"
      },
      {
        "duration": 132,
        "start_time": "2022-12-31T18:47:05.213Z"
      },
      {
        "duration": 145,
        "start_time": "2022-12-31T18:47:05.347Z"
      },
      {
        "duration": 1212,
        "start_time": "2022-12-31T18:47:05.493Z"
      },
      {
        "duration": 130,
        "start_time": "2022-12-31T18:47:06.722Z"
      },
      {
        "duration": 9,
        "start_time": "2022-12-31T18:47:06.855Z"
      },
      {
        "duration": 27,
        "start_time": "2022-12-31T18:47:06.865Z"
      },
      {
        "duration": 12,
        "start_time": "2022-12-31T18:47:06.893Z"
      },
      {
        "duration": 39,
        "start_time": "2022-12-31T18:47:06.907Z"
      },
      {
        "duration": 12,
        "start_time": "2022-12-31T18:47:06.948Z"
      },
      {
        "duration": 37,
        "start_time": "2022-12-31T18:47:06.961Z"
      },
      {
        "duration": 32,
        "start_time": "2022-12-31T18:47:07.000Z"
      },
      {
        "duration": 16,
        "start_time": "2022-12-31T18:47:07.033Z"
      },
      {
        "duration": 9,
        "start_time": "2022-12-31T18:47:07.050Z"
      },
      {
        "duration": 7,
        "start_time": "2022-12-31T18:47:07.061Z"
      },
      {
        "duration": 14,
        "start_time": "2022-12-31T18:47:07.069Z"
      },
      {
        "duration": 253,
        "start_time": "2022-12-31T18:47:07.085Z"
      },
      {
        "duration": 7,
        "start_time": "2022-12-31T18:47:07.339Z"
      },
      {
        "duration": 8,
        "start_time": "2022-12-31T18:47:07.347Z"
      },
      {
        "duration": 170,
        "start_time": "2022-12-31T18:47:07.356Z"
      },
      {
        "duration": 3,
        "start_time": "2022-12-31T18:47:07.528Z"
      },
      {
        "duration": 123,
        "start_time": "2022-12-31T18:47:07.533Z"
      },
      {
        "duration": 126,
        "start_time": "2022-12-31T18:47:07.658Z"
      },
      {
        "duration": 116,
        "start_time": "2022-12-31T18:47:07.786Z"
      },
      {
        "duration": 143,
        "start_time": "2022-12-31T18:47:07.904Z"
      },
      {
        "duration": 165,
        "start_time": "2022-12-31T18:47:08.049Z"
      },
      {
        "duration": 209,
        "start_time": "2022-12-31T18:47:08.217Z"
      },
      {
        "duration": 126,
        "start_time": "2022-12-31T18:47:08.428Z"
      },
      {
        "duration": 287,
        "start_time": "2022-12-31T18:47:08.555Z"
      },
      {
        "duration": 93,
        "start_time": "2022-12-31T18:47:08.844Z"
      },
      {
        "duration": 564,
        "start_time": "2022-12-31T18:47:08.939Z"
      },
      {
        "duration": 132,
        "start_time": "2022-12-31T18:47:09.505Z"
      },
      {
        "duration": 144,
        "start_time": "2022-12-31T18:47:09.641Z"
      },
      {
        "duration": 85,
        "start_time": "2022-12-31T18:47:09.787Z"
      },
      {
        "duration": 79,
        "start_time": "2022-12-31T18:47:09.874Z"
      },
      {
        "duration": 172,
        "start_time": "2022-12-31T18:47:09.955Z"
      },
      {
        "duration": 64,
        "start_time": "2022-12-31T18:47:10.128Z"
      },
      {
        "duration": 89,
        "start_time": "2022-12-31T18:47:10.193Z"
      },
      {
        "duration": 83,
        "start_time": "2022-12-31T18:47:10.284Z"
      },
      {
        "duration": 88,
        "start_time": "2022-12-31T18:47:10.368Z"
      },
      {
        "duration": 97,
        "start_time": "2022-12-31T18:47:10.458Z"
      },
      {
        "duration": 81,
        "start_time": "2022-12-31T18:47:10.556Z"
      },
      {
        "duration": 90,
        "start_time": "2022-12-31T18:47:10.639Z"
      },
      {
        "duration": 110,
        "start_time": "2022-12-31T18:47:10.731Z"
      },
      {
        "duration": 87,
        "start_time": "2022-12-31T18:47:10.842Z"
      },
      {
        "duration": 98,
        "start_time": "2022-12-31T18:47:10.931Z"
      },
      {
        "duration": 97,
        "start_time": "2022-12-31T18:47:11.031Z"
      },
      {
        "duration": 101,
        "start_time": "2022-12-31T18:47:11.130Z"
      },
      {
        "duration": 71,
        "start_time": "2022-12-31T18:47:11.233Z"
      },
      {
        "duration": 181,
        "start_time": "2022-12-31T18:47:11.312Z"
      },
      {
        "duration": 79,
        "start_time": "2022-12-31T18:47:11.495Z"
      },
      {
        "duration": 5,
        "start_time": "2022-12-31T18:47:11.576Z"
      },
      {
        "duration": 75,
        "start_time": "2022-12-31T18:47:11.582Z"
      },
      {
        "duration": 19,
        "start_time": "2022-12-31T18:48:24.007Z"
      },
      {
        "duration": 9,
        "start_time": "2022-12-31T18:54:32.988Z"
      },
      {
        "duration": 53,
        "start_time": "2022-12-31T18:59:47.120Z"
      },
      {
        "duration": 48,
        "start_time": "2022-12-31T18:59:57.008Z"
      },
      {
        "duration": 49,
        "start_time": "2022-12-31T19:00:04.992Z"
      },
      {
        "duration": 60,
        "start_time": "2022-12-31T19:00:24.896Z"
      },
      {
        "duration": 10,
        "start_time": "2022-12-31T19:00:33.200Z"
      },
      {
        "duration": 11,
        "start_time": "2022-12-31T19:00:49.848Z"
      },
      {
        "duration": 11,
        "start_time": "2022-12-31T19:02:47.578Z"
      },
      {
        "duration": 9,
        "start_time": "2022-12-31T19:03:01.227Z"
      },
      {
        "duration": 9,
        "start_time": "2022-12-31T19:03:04.201Z"
      },
      {
        "duration": 89,
        "start_time": "2022-12-31T19:10:14.013Z"
      },
      {
        "duration": 1148,
        "start_time": "2022-12-31T19:39:16.703Z"
      },
      {
        "duration": 121,
        "start_time": "2022-12-31T19:39:17.853Z"
      },
      {
        "duration": 223,
        "start_time": "2022-12-31T19:39:17.975Z"
      },
      {
        "duration": 138,
        "start_time": "2022-12-31T19:39:18.199Z"
      },
      {
        "duration": 148,
        "start_time": "2022-12-31T19:39:18.338Z"
      },
      {
        "duration": 131,
        "start_time": "2022-12-31T19:39:18.487Z"
      },
      {
        "duration": 134,
        "start_time": "2022-12-31T19:39:18.619Z"
      },
      {
        "duration": 125,
        "start_time": "2022-12-31T19:39:18.754Z"
      },
      {
        "duration": 136,
        "start_time": "2022-12-31T19:39:18.881Z"
      },
      {
        "duration": 137,
        "start_time": "2022-12-31T19:39:19.020Z"
      },
      {
        "duration": 1091,
        "start_time": "2022-12-31T19:39:19.159Z"
      },
      {
        "duration": 149,
        "start_time": "2022-12-31T19:39:20.252Z"
      },
      {
        "duration": 16,
        "start_time": "2022-12-31T19:39:20.403Z"
      },
      {
        "duration": 10,
        "start_time": "2022-12-31T19:39:20.421Z"
      },
      {
        "duration": 7,
        "start_time": "2022-12-31T19:39:20.432Z"
      },
      {
        "duration": 13,
        "start_time": "2022-12-31T19:39:20.440Z"
      },
      {
        "duration": 11,
        "start_time": "2022-12-31T19:39:20.454Z"
      },
      {
        "duration": 18,
        "start_time": "2022-12-31T19:39:20.466Z"
      },
      {
        "duration": 31,
        "start_time": "2022-12-31T19:39:20.485Z"
      },
      {
        "duration": 12,
        "start_time": "2022-12-31T19:39:20.517Z"
      },
      {
        "duration": 16,
        "start_time": "2022-12-31T19:39:20.530Z"
      },
      {
        "duration": 5,
        "start_time": "2022-12-31T19:39:20.547Z"
      },
      {
        "duration": 9,
        "start_time": "2022-12-31T19:39:20.554Z"
      },
      {
        "duration": 227,
        "start_time": "2022-12-31T19:39:20.565Z"
      },
      {
        "duration": 6,
        "start_time": "2022-12-31T19:39:20.794Z"
      },
      {
        "duration": 14,
        "start_time": "2022-12-31T19:39:20.802Z"
      },
      {
        "duration": 138,
        "start_time": "2022-12-31T19:39:20.818Z"
      },
      {
        "duration": 3,
        "start_time": "2022-12-31T19:39:20.959Z"
      },
      {
        "duration": 120,
        "start_time": "2022-12-31T19:39:20.963Z"
      },
      {
        "duration": 118,
        "start_time": "2022-12-31T19:39:21.084Z"
      },
      {
        "duration": 112,
        "start_time": "2022-12-31T19:39:21.203Z"
      },
      {
        "duration": 123,
        "start_time": "2022-12-31T19:39:21.317Z"
      },
      {
        "duration": 123,
        "start_time": "2022-12-31T19:39:21.441Z"
      },
      {
        "duration": 171,
        "start_time": "2022-12-31T19:39:21.566Z"
      },
      {
        "duration": 123,
        "start_time": "2022-12-31T19:39:21.739Z"
      },
      {
        "duration": 300,
        "start_time": "2022-12-31T19:39:21.864Z"
      },
      {
        "duration": 79,
        "start_time": "2022-12-31T19:39:22.166Z"
      },
      {
        "duration": 501,
        "start_time": "2022-12-31T19:39:22.246Z"
      },
      {
        "duration": 124,
        "start_time": "2022-12-31T19:39:22.748Z"
      },
      {
        "duration": 129,
        "start_time": "2022-12-31T19:39:22.873Z"
      },
      {
        "duration": 74,
        "start_time": "2022-12-31T19:39:23.004Z"
      },
      {
        "duration": 73,
        "start_time": "2022-12-31T19:39:23.079Z"
      },
      {
        "duration": 159,
        "start_time": "2022-12-31T19:39:23.153Z"
      },
      {
        "duration": 60,
        "start_time": "2022-12-31T19:39:23.315Z"
      },
      {
        "duration": 79,
        "start_time": "2022-12-31T19:39:23.377Z"
      },
      {
        "duration": 68,
        "start_time": "2022-12-31T19:39:23.458Z"
      },
      {
        "duration": 70,
        "start_time": "2022-12-31T19:39:23.528Z"
      },
      {
        "duration": 81,
        "start_time": "2022-12-31T19:39:23.600Z"
      },
      {
        "duration": 83,
        "start_time": "2022-12-31T19:39:23.683Z"
      },
      {
        "duration": 86,
        "start_time": "2022-12-31T19:39:23.767Z"
      },
      {
        "duration": 82,
        "start_time": "2022-12-31T19:39:23.855Z"
      },
      {
        "duration": 87,
        "start_time": "2022-12-31T19:39:23.939Z"
      },
      {
        "duration": 93,
        "start_time": "2022-12-31T19:39:24.027Z"
      },
      {
        "duration": 69,
        "start_time": "2022-12-31T19:39:24.122Z"
      },
      {
        "duration": 98,
        "start_time": "2022-12-31T19:39:24.193Z"
      },
      {
        "duration": 81,
        "start_time": "2022-12-31T19:39:24.292Z"
      },
      {
        "duration": 158,
        "start_time": "2022-12-31T19:39:24.374Z"
      },
      {
        "duration": 84,
        "start_time": "2022-12-31T19:39:24.534Z"
      },
      {
        "duration": 9,
        "start_time": "2022-12-31T19:39:24.619Z"
      },
      {
        "duration": 12,
        "start_time": "2022-12-31T19:39:24.629Z"
      },
      {
        "duration": 1223,
        "start_time": "2023-01-02T09:13:17.542Z"
      },
      {
        "duration": 125,
        "start_time": "2023-01-02T09:13:19.316Z"
      },
      {
        "duration": 263,
        "start_time": "2023-01-02T09:13:21.748Z"
      },
      {
        "duration": 136,
        "start_time": "2023-01-02T09:13:23.636Z"
      },
      {
        "duration": 183,
        "start_time": "2023-01-02T09:13:24.934Z"
      },
      {
        "duration": 144,
        "start_time": "2023-01-02T09:13:26.148Z"
      },
      {
        "duration": 131,
        "start_time": "2023-01-02T09:13:26.723Z"
      },
      {
        "duration": 133,
        "start_time": "2023-01-02T09:13:27.204Z"
      },
      {
        "duration": 132,
        "start_time": "2023-01-02T09:13:27.835Z"
      },
      {
        "duration": 130,
        "start_time": "2023-01-02T09:13:28.324Z"
      },
      {
        "duration": 1239,
        "start_time": "2023-01-02T09:13:28.995Z"
      },
      {
        "duration": 147,
        "start_time": "2023-01-02T09:13:30.236Z"
      },
      {
        "duration": 10,
        "start_time": "2023-01-02T09:13:33.049Z"
      },
      {
        "duration": 3,
        "start_time": "2023-01-02T09:15:42.195Z"
      },
      {
        "duration": 9,
        "start_time": "2023-01-02T09:15:43.954Z"
      },
      {
        "duration": 49,
        "start_time": "2023-01-02T09:37:54.112Z"
      },
      {
        "duration": 29,
        "start_time": "2023-01-02T09:37:55.543Z"
      },
      {
        "duration": 93,
        "start_time": "2023-01-02T10:11:31.134Z"
      },
      {
        "duration": 9,
        "start_time": "2023-01-02T10:16:09.082Z"
      },
      {
        "duration": 11,
        "start_time": "2023-01-02T10:16:34.107Z"
      },
      {
        "duration": 3,
        "start_time": "2023-01-02T10:16:44.570Z"
      },
      {
        "duration": 49,
        "start_time": "2023-01-02T10:16:45.130Z"
      },
      {
        "duration": 31,
        "start_time": "2023-01-02T10:16:45.559Z"
      },
      {
        "duration": 236,
        "start_time": "2023-01-02T10:16:46.706Z"
      },
      {
        "duration": 150,
        "start_time": "2023-01-02T10:16:47.202Z"
      },
      {
        "duration": 155,
        "start_time": "2023-01-02T10:16:47.945Z"
      },
      {
        "duration": 124,
        "start_time": "2023-01-02T10:16:48.634Z"
      },
      {
        "duration": 149,
        "start_time": "2023-01-02T10:16:49.298Z"
      },
      {
        "duration": 137,
        "start_time": "2023-01-02T10:16:49.882Z"
      },
      {
        "duration": 127,
        "start_time": "2023-01-02T10:16:50.354Z"
      },
      {
        "duration": 130,
        "start_time": "2023-01-02T10:16:50.818Z"
      },
      {
        "duration": 1314,
        "start_time": "2023-01-02T10:16:51.306Z"
      },
      {
        "duration": 134,
        "start_time": "2023-01-02T10:16:52.622Z"
      },
      {
        "duration": 4,
        "start_time": "2023-01-02T10:16:56.057Z"
      },
      {
        "duration": 12,
        "start_time": "2023-01-02T10:16:57.145Z"
      },
      {
        "duration": 9,
        "start_time": "2023-01-02T10:16:59.265Z"
      },
      {
        "duration": 3,
        "start_time": "2023-01-02T10:17:02.226Z"
      },
      {
        "duration": 13,
        "start_time": "2023-01-02T10:17:02.890Z"
      },
      {
        "duration": 18,
        "start_time": "2023-01-02T10:17:08.083Z"
      },
      {
        "duration": 10,
        "start_time": "2023-01-02T10:19:20.069Z"
      },
      {
        "duration": 10,
        "start_time": "2023-01-02T10:19:25.789Z"
      },
      {
        "duration": 990,
        "start_time": "2023-01-02T10:19:40.260Z"
      },
      {
        "duration": 51,
        "start_time": "2023-01-02T10:19:41.252Z"
      },
      {
        "duration": 35,
        "start_time": "2023-01-02T10:19:41.304Z"
      },
      {
        "duration": 218,
        "start_time": "2023-01-02T10:19:42.340Z"
      },
      {
        "duration": 144,
        "start_time": "2023-01-02T10:19:42.764Z"
      },
      {
        "duration": 149,
        "start_time": "2023-01-02T10:19:43.172Z"
      },
      {
        "duration": 125,
        "start_time": "2023-01-02T10:19:43.596Z"
      },
      {
        "duration": 120,
        "start_time": "2023-01-02T10:19:43.995Z"
      },
      {
        "duration": 121,
        "start_time": "2023-01-02T10:19:44.396Z"
      },
      {
        "duration": 145,
        "start_time": "2023-01-02T10:19:44.788Z"
      },
      {
        "duration": 133,
        "start_time": "2023-01-02T10:19:45.179Z"
      },
      {
        "duration": 1175,
        "start_time": "2023-01-02T10:19:45.595Z"
      },
      {
        "duration": 140,
        "start_time": "2023-01-02T10:19:46.773Z"
      },
      {
        "duration": 3,
        "start_time": "2023-01-02T10:19:48.244Z"
      },
      {
        "duration": 9,
        "start_time": "2023-01-02T10:19:49.228Z"
      },
      {
        "duration": 7,
        "start_time": "2023-01-02T10:19:52.180Z"
      },
      {
        "duration": 4,
        "start_time": "2023-01-02T10:19:55.596Z"
      },
      {
        "duration": 17,
        "start_time": "2023-01-02T10:19:56.573Z"
      },
      {
        "duration": 11,
        "start_time": "2023-01-02T10:20:43.757Z"
      },
      {
        "duration": 10,
        "start_time": "2023-01-02T10:20:58.598Z"
      },
      {
        "duration": 1033,
        "start_time": "2023-01-02T10:21:08.331Z"
      },
      {
        "duration": 51,
        "start_time": "2023-01-02T10:21:09.366Z"
      },
      {
        "duration": 34,
        "start_time": "2023-01-02T10:21:09.419Z"
      },
      {
        "duration": 221,
        "start_time": "2023-01-02T10:21:09.454Z"
      },
      {
        "duration": 149,
        "start_time": "2023-01-02T10:21:09.677Z"
      },
      {
        "duration": 152,
        "start_time": "2023-01-02T10:21:09.829Z"
      },
      {
        "duration": 121,
        "start_time": "2023-01-02T10:21:10.292Z"
      },
      {
        "duration": 129,
        "start_time": "2023-01-02T10:21:10.415Z"
      },
      {
        "duration": 146,
        "start_time": "2023-01-02T10:21:10.546Z"
      },
      {
        "duration": 138,
        "start_time": "2023-01-02T10:21:10.693Z"
      },
      {
        "duration": 135,
        "start_time": "2023-01-02T10:21:10.833Z"
      },
      {
        "duration": 1095,
        "start_time": "2023-01-02T10:21:11.710Z"
      },
      {
        "duration": 128,
        "start_time": "2023-01-02T10:21:12.811Z"
      },
      {
        "duration": 3,
        "start_time": "2023-01-02T10:21:12.941Z"
      },
      {
        "duration": 8,
        "start_time": "2023-01-02T10:21:13.437Z"
      },
      {
        "duration": 7,
        "start_time": "2023-01-02T10:21:15.557Z"
      },
      {
        "duration": 5,
        "start_time": "2023-01-02T10:21:16.869Z"
      },
      {
        "duration": 12,
        "start_time": "2023-01-02T10:21:17.077Z"
      },
      {
        "duration": 14,
        "start_time": "2023-01-02T10:21:18.197Z"
      },
      {
        "duration": 4,
        "start_time": "2023-01-02T10:22:21.374Z"
      },
      {
        "duration": 10,
        "start_time": "2023-01-02T10:22:28.815Z"
      },
      {
        "duration": 3,
        "start_time": "2023-01-02T10:22:29.270Z"
      },
      {
        "duration": 1095,
        "start_time": "2023-01-02T10:22:41.495Z"
      },
      {
        "duration": 53,
        "start_time": "2023-01-02T10:22:42.592Z"
      },
      {
        "duration": 33,
        "start_time": "2023-01-02T10:22:42.647Z"
      },
      {
        "duration": 246,
        "start_time": "2023-01-02T10:22:42.682Z"
      },
      {
        "duration": 162,
        "start_time": "2023-01-02T10:22:42.929Z"
      },
      {
        "duration": 176,
        "start_time": "2023-01-02T10:22:43.093Z"
      },
      {
        "duration": 145,
        "start_time": "2023-01-02T10:22:43.271Z"
      },
      {
        "duration": 136,
        "start_time": "2023-01-02T10:22:43.418Z"
      },
      {
        "duration": 136,
        "start_time": "2023-01-02T10:22:43.556Z"
      },
      {
        "duration": 131,
        "start_time": "2023-01-02T10:22:43.694Z"
      },
      {
        "duration": 138,
        "start_time": "2023-01-02T10:22:43.826Z"
      },
      {
        "duration": 1119,
        "start_time": "2023-01-02T10:22:43.966Z"
      },
      {
        "duration": 137,
        "start_time": "2023-01-02T10:22:45.087Z"
      },
      {
        "duration": 3,
        "start_time": "2023-01-02T10:22:45.225Z"
      },
      {
        "duration": 11,
        "start_time": "2023-01-02T10:22:45.230Z"
      },
      {
        "duration": 6,
        "start_time": "2023-01-02T10:22:45.242Z"
      },
      {
        "duration": 4,
        "start_time": "2023-01-02T10:22:46.998Z"
      },
      {
        "duration": 12,
        "start_time": "2023-01-02T10:22:47.383Z"
      },
      {
        "duration": 12,
        "start_time": "2023-01-02T10:22:52.134Z"
      },
      {
        "duration": 3,
        "start_time": "2023-01-02T10:22:52.447Z"
      },
      {
        "duration": 91,
        "start_time": "2023-01-02T10:23:30.744Z"
      },
      {
        "duration": 4,
        "start_time": "2023-01-02T10:23:35.512Z"
      },
      {
        "duration": 3,
        "start_time": "2023-01-02T10:24:37.721Z"
      },
      {
        "duration": 725,
        "start_time": "2023-01-02T11:05:41.548Z"
      },
      {
        "duration": 2,
        "start_time": "2023-01-02T11:05:56.876Z"
      },
      {
        "duration": 59,
        "start_time": "2023-01-02T11:05:57.316Z"
      },
      {
        "duration": 31,
        "start_time": "2023-01-02T11:05:57.705Z"
      },
      {
        "duration": 216,
        "start_time": "2023-01-02T11:05:59.375Z"
      },
      {
        "duration": 140,
        "start_time": "2023-01-02T11:05:59.593Z"
      },
      {
        "duration": 174,
        "start_time": "2023-01-02T11:05:59.735Z"
      },
      {
        "duration": 153,
        "start_time": "2023-01-02T11:05:59.911Z"
      },
      {
        "duration": 150,
        "start_time": "2023-01-02T11:06:00.065Z"
      },
      {
        "duration": 145,
        "start_time": "2023-01-02T11:06:00.217Z"
      },
      {
        "duration": 157,
        "start_time": "2023-01-02T11:06:00.364Z"
      },
      {
        "duration": 154,
        "start_time": "2023-01-02T11:06:00.523Z"
      },
      {
        "duration": 1165,
        "start_time": "2023-01-02T11:06:00.679Z"
      },
      {
        "duration": 146,
        "start_time": "2023-01-02T11:06:01.846Z"
      },
      {
        "duration": 3,
        "start_time": "2023-01-02T11:06:01.993Z"
      },
      {
        "duration": 9,
        "start_time": "2023-01-02T11:06:02.580Z"
      },
      {
        "duration": 6,
        "start_time": "2023-01-02T11:06:05.683Z"
      },
      {
        "duration": 5,
        "start_time": "2023-01-02T11:06:07.547Z"
      },
      {
        "duration": 15,
        "start_time": "2023-01-02T11:06:08.555Z"
      },
      {
        "duration": 12,
        "start_time": "2023-01-02T11:06:10.451Z"
      },
      {
        "duration": 4,
        "start_time": "2023-01-02T11:06:10.911Z"
      },
      {
        "duration": 17,
        "start_time": "2023-01-02T11:06:18.755Z"
      },
      {
        "duration": 1098,
        "start_time": "2023-01-02T11:06:19.244Z"
      },
      {
        "duration": 9,
        "start_time": "2023-01-02T11:09:15.592Z"
      },
      {
        "duration": 12,
        "start_time": "2023-01-02T11:09:27.863Z"
      },
      {
        "duration": 11,
        "start_time": "2023-01-02T11:10:02.448Z"
      },
      {
        "duration": 9,
        "start_time": "2023-01-02T11:10:45.784Z"
      },
      {
        "duration": 19,
        "start_time": "2023-01-02T11:11:19.592Z"
      },
      {
        "duration": 20,
        "start_time": "2023-01-02T11:14:33.163Z"
      },
      {
        "duration": 19,
        "start_time": "2023-01-02T11:14:49.419Z"
      },
      {
        "duration": 20,
        "start_time": "2023-01-02T11:26:28.189Z"
      },
      {
        "duration": 1032,
        "start_time": "2023-01-02T11:27:38.455Z"
      },
      {
        "duration": 63,
        "start_time": "2023-01-02T11:27:39.489Z"
      },
      {
        "duration": 37,
        "start_time": "2023-01-02T11:27:39.554Z"
      },
      {
        "duration": 259,
        "start_time": "2023-01-02T11:27:39.594Z"
      },
      {
        "duration": 163,
        "start_time": "2023-01-02T11:27:39.855Z"
      },
      {
        "duration": 213,
        "start_time": "2023-01-02T11:27:40.020Z"
      },
      {
        "duration": 158,
        "start_time": "2023-01-02T11:27:40.234Z"
      },
      {
        "duration": 169,
        "start_time": "2023-01-02T11:27:40.394Z"
      },
      {
        "duration": 159,
        "start_time": "2023-01-02T11:27:40.565Z"
      },
      {
        "duration": 152,
        "start_time": "2023-01-02T11:27:40.728Z"
      },
      {
        "duration": 161,
        "start_time": "2023-01-02T11:27:40.881Z"
      },
      {
        "duration": 1288,
        "start_time": "2023-01-02T11:27:41.044Z"
      },
      {
        "duration": 157,
        "start_time": "2023-01-02T11:27:42.334Z"
      },
      {
        "duration": 3,
        "start_time": "2023-01-02T11:27:42.493Z"
      },
      {
        "duration": 29,
        "start_time": "2023-01-02T11:27:42.497Z"
      },
      {
        "duration": 9,
        "start_time": "2023-01-02T11:27:42.529Z"
      },
      {
        "duration": 5,
        "start_time": "2023-01-02T11:27:42.540Z"
      },
      {
        "duration": 13,
        "start_time": "2023-01-02T11:27:42.750Z"
      },
      {
        "duration": 23,
        "start_time": "2023-01-02T11:27:45.046Z"
      },
      {
        "duration": 5,
        "start_time": "2023-01-02T11:27:45.310Z"
      },
      {
        "duration": 4,
        "start_time": "2023-01-02T11:27:46.039Z"
      },
      {
        "duration": 26,
        "start_time": "2023-01-02T11:27:52.797Z"
      },
      {
        "duration": 19,
        "start_time": "2023-01-02T11:27:53.182Z"
      },
      {
        "duration": 26,
        "start_time": "2023-01-02T11:28:14.464Z"
      },
      {
        "duration": 5,
        "start_time": "2023-01-02T11:32:30.203Z"
      },
      {
        "duration": 27,
        "start_time": "2023-01-02T11:48:48.983Z"
      },
      {
        "duration": 13,
        "start_time": "2023-01-02T11:50:13.406Z"
      },
      {
        "duration": 22,
        "start_time": "2023-01-02T11:50:28.513Z"
      },
      {
        "duration": 25,
        "start_time": "2023-01-02T11:50:57.859Z"
      },
      {
        "duration": 16,
        "start_time": "2023-01-02T11:51:27.018Z"
      },
      {
        "duration": 25,
        "start_time": "2023-01-02T11:51:35.409Z"
      },
      {
        "duration": 15,
        "start_time": "2023-01-02T11:51:53.578Z"
      },
      {
        "duration": 4,
        "start_time": "2023-01-02T11:55:25.294Z"
      },
      {
        "duration": 108,
        "start_time": "2023-01-02T11:55:26.861Z"
      },
      {
        "duration": 1035,
        "start_time": "2023-01-02T11:55:53.229Z"
      },
      {
        "duration": 53,
        "start_time": "2023-01-02T11:55:54.266Z"
      },
      {
        "duration": 41,
        "start_time": "2023-01-02T11:55:54.321Z"
      },
      {
        "duration": 252,
        "start_time": "2023-01-02T11:55:54.364Z"
      },
      {
        "duration": 159,
        "start_time": "2023-01-02T11:55:54.618Z"
      },
      {
        "duration": 182,
        "start_time": "2023-01-02T11:55:54.779Z"
      },
      {
        "duration": 150,
        "start_time": "2023-01-02T11:55:54.962Z"
      },
      {
        "duration": 142,
        "start_time": "2023-01-02T11:55:55.113Z"
      },
      {
        "duration": 141,
        "start_time": "2023-01-02T11:55:55.256Z"
      },
      {
        "duration": 139,
        "start_time": "2023-01-02T11:55:55.399Z"
      },
      {
        "duration": 139,
        "start_time": "2023-01-02T11:55:55.540Z"
      },
      {
        "duration": 1248,
        "start_time": "2023-01-02T11:55:55.680Z"
      },
      {
        "duration": 138,
        "start_time": "2023-01-02T11:55:56.929Z"
      },
      {
        "duration": 4,
        "start_time": "2023-01-02T11:55:57.068Z"
      },
      {
        "duration": 13,
        "start_time": "2023-01-02T11:55:57.074Z"
      },
      {
        "duration": 7,
        "start_time": "2023-01-02T11:55:57.089Z"
      },
      {
        "duration": 5,
        "start_time": "2023-01-02T11:55:57.112Z"
      },
      {
        "duration": 14,
        "start_time": "2023-01-02T11:55:57.119Z"
      },
      {
        "duration": 12,
        "start_time": "2023-01-02T11:55:57.135Z"
      },
      {
        "duration": 4,
        "start_time": "2023-01-02T11:55:57.149Z"
      },
      {
        "duration": 8,
        "start_time": "2023-01-02T11:55:57.156Z"
      },
      {
        "duration": 53,
        "start_time": "2023-01-02T11:55:57.167Z"
      },
      {
        "duration": 19,
        "start_time": "2023-01-02T11:55:57.222Z"
      },
      {
        "duration": 4,
        "start_time": "2023-01-02T11:55:57.243Z"
      },
      {
        "duration": 5,
        "start_time": "2023-01-02T11:55:57.249Z"
      },
      {
        "duration": 11,
        "start_time": "2023-01-02T11:55:57.256Z"
      },
      {
        "duration": 49,
        "start_time": "2023-01-02T11:55:57.269Z"
      },
      {
        "duration": 13,
        "start_time": "2023-01-02T11:55:57.319Z"
      },
      {
        "duration": 6,
        "start_time": "2023-01-02T11:55:57.333Z"
      },
      {
        "duration": 259,
        "start_time": "2023-01-02T11:55:57.342Z"
      },
      {
        "duration": 11,
        "start_time": "2023-01-02T11:55:57.602Z"
      },
      {
        "duration": 5,
        "start_time": "2023-01-02T11:56:03.469Z"
      },
      {
        "duration": 142,
        "start_time": "2023-01-02T11:56:04.412Z"
      },
      {
        "duration": 3,
        "start_time": "2023-01-02T11:56:07.668Z"
      },
      {
        "duration": 88,
        "start_time": "2023-01-02T11:56:09.964Z"
      },
      {
        "duration": 107,
        "start_time": "2023-01-02T11:58:49.383Z"
      },
      {
        "duration": 137,
        "start_time": "2023-01-02T11:59:14.127Z"
      },
      {
        "duration": 3,
        "start_time": "2023-01-02T12:04:00.491Z"
      },
      {
        "duration": 118,
        "start_time": "2023-01-02T12:04:01.995Z"
      },
      {
        "duration": 114,
        "start_time": "2023-01-02T12:04:08.859Z"
      },
      {
        "duration": 236,
        "start_time": "2023-01-02T12:16:56.080Z"
      },
      {
        "duration": 298,
        "start_time": "2023-01-02T12:17:05.007Z"
      },
      {
        "duration": 208,
        "start_time": "2023-01-02T12:17:10.766Z"
      },
      {
        "duration": 213,
        "start_time": "2023-01-02T12:17:17.422Z"
      },
      {
        "duration": 252,
        "start_time": "2023-01-02T12:19:54.361Z"
      },
      {
        "duration": 139,
        "start_time": "2023-01-02T12:22:14.115Z"
      },
      {
        "duration": 116,
        "start_time": "2023-01-02T12:22:28.907Z"
      },
      {
        "duration": 121,
        "start_time": "2023-01-02T12:22:50.522Z"
      },
      {
        "duration": 120,
        "start_time": "2023-01-02T13:48:07.346Z"
      },
      {
        "duration": 146,
        "start_time": "2023-01-02T14:05:31.589Z"
      },
      {
        "duration": 278,
        "start_time": "2023-01-02T14:23:54.811Z"
      },
      {
        "duration": 10,
        "start_time": "2023-01-02T14:23:56.138Z"
      },
      {
        "duration": 11,
        "start_time": "2023-01-02T14:24:53.714Z"
      },
      {
        "duration": 84,
        "start_time": "2023-01-02T14:25:01.879Z"
      },
      {
        "duration": 9,
        "start_time": "2023-01-02T14:25:06.226Z"
      },
      {
        "duration": 276,
        "start_time": "2023-01-02T14:51:42.117Z"
      },
      {
        "duration": 9,
        "start_time": "2023-01-02T14:51:42.395Z"
      },
      {
        "duration": 277,
        "start_time": "2023-01-02T14:51:51.389Z"
      },
      {
        "duration": 7,
        "start_time": "2023-01-02T14:51:51.823Z"
      },
      {
        "duration": 255,
        "start_time": "2023-01-02T14:52:45.071Z"
      },
      {
        "duration": 10,
        "start_time": "2023-01-02T14:52:45.871Z"
      },
      {
        "duration": 32,
        "start_time": "2023-01-02T15:14:37.460Z"
      },
      {
        "duration": 86,
        "start_time": "2023-01-02T15:55:41.092Z"
      },
      {
        "duration": 82,
        "start_time": "2023-01-02T15:56:14.527Z"
      },
      {
        "duration": 79,
        "start_time": "2023-01-02T15:56:30.463Z"
      },
      {
        "duration": 83,
        "start_time": "2023-01-02T15:56:49.326Z"
      },
      {
        "duration": 80,
        "start_time": "2023-01-02T15:57:05.902Z"
      },
      {
        "duration": 89,
        "start_time": "2023-01-02T15:57:51.856Z"
      },
      {
        "duration": 79,
        "start_time": "2023-01-02T15:58:24.120Z"
      },
      {
        "duration": 81,
        "start_time": "2023-01-02T15:58:39.504Z"
      },
      {
        "duration": 97,
        "start_time": "2023-01-02T15:58:46.464Z"
      },
      {
        "duration": 80,
        "start_time": "2023-01-02T15:58:54.079Z"
      },
      {
        "duration": 80,
        "start_time": "2023-01-02T15:59:12.462Z"
      },
      {
        "duration": 102,
        "start_time": "2023-01-02T16:15:51.725Z"
      },
      {
        "duration": 190,
        "start_time": "2023-01-02T16:16:23.549Z"
      },
      {
        "duration": 113,
        "start_time": "2023-01-02T16:16:34.583Z"
      },
      {
        "duration": 101,
        "start_time": "2023-01-02T16:20:06.023Z"
      },
      {
        "duration": 106,
        "start_time": "2023-01-02T16:20:14.864Z"
      },
      {
        "duration": 122,
        "start_time": "2023-01-02T17:14:43.065Z"
      },
      {
        "duration": 96,
        "start_time": "2023-01-02T17:14:48.561Z"
      },
      {
        "duration": 117,
        "start_time": "2023-01-02T17:23:01.131Z"
      },
      {
        "duration": 119,
        "start_time": "2023-01-02T17:23:36.993Z"
      },
      {
        "duration": 81,
        "start_time": "2023-01-02T17:23:50.419Z"
      },
      {
        "duration": 135,
        "start_time": "2023-01-02T17:23:56.243Z"
      },
      {
        "duration": 106,
        "start_time": "2023-01-02T17:24:40.843Z"
      },
      {
        "duration": 95,
        "start_time": "2023-01-02T17:35:13.605Z"
      },
      {
        "duration": 94,
        "start_time": "2023-01-02T17:39:36.106Z"
      },
      {
        "duration": 182,
        "start_time": "2023-01-02T17:39:42.337Z"
      },
      {
        "duration": 14,
        "start_time": "2023-01-02T18:16:56.249Z"
      },
      {
        "duration": 12,
        "start_time": "2023-01-02T18:17:09.161Z"
      },
      {
        "duration": 16,
        "start_time": "2023-01-02T18:17:39.232Z"
      },
      {
        "duration": 10,
        "start_time": "2023-01-02T18:21:26.477Z"
      },
      {
        "duration": 17,
        "start_time": "2023-01-02T18:21:27.989Z"
      },
      {
        "duration": 1191,
        "start_time": "2023-01-02T18:21:35.547Z"
      },
      {
        "duration": 50,
        "start_time": "2023-01-02T18:21:36.739Z"
      },
      {
        "duration": 35,
        "start_time": "2023-01-02T18:21:36.792Z"
      },
      {
        "duration": 226,
        "start_time": "2023-01-02T18:21:36.829Z"
      },
      {
        "duration": 138,
        "start_time": "2023-01-02T18:21:37.057Z"
      },
      {
        "duration": 165,
        "start_time": "2023-01-02T18:21:37.196Z"
      },
      {
        "duration": 131,
        "start_time": "2023-01-02T18:21:37.362Z"
      },
      {
        "duration": 137,
        "start_time": "2023-01-02T18:21:37.495Z"
      },
      {
        "duration": 127,
        "start_time": "2023-01-02T18:21:37.634Z"
      },
      {
        "duration": 142,
        "start_time": "2023-01-02T18:21:37.764Z"
      },
      {
        "duration": 132,
        "start_time": "2023-01-02T18:21:37.908Z"
      },
      {
        "duration": 1177,
        "start_time": "2023-01-02T18:21:38.042Z"
      },
      {
        "duration": 157,
        "start_time": "2023-01-02T18:21:39.221Z"
      },
      {
        "duration": 3,
        "start_time": "2023-01-02T18:21:39.380Z"
      },
      {
        "duration": 12,
        "start_time": "2023-01-02T18:21:39.385Z"
      },
      {
        "duration": 18,
        "start_time": "2023-01-02T18:21:39.398Z"
      },
      {
        "duration": 5,
        "start_time": "2023-01-02T18:21:39.418Z"
      },
      {
        "duration": 16,
        "start_time": "2023-01-02T18:21:39.424Z"
      },
      {
        "duration": 12,
        "start_time": "2023-01-02T18:21:39.441Z"
      },
      {
        "duration": 3,
        "start_time": "2023-01-02T18:21:39.455Z"
      },
      {
        "duration": 4,
        "start_time": "2023-01-02T18:21:39.459Z"
      },
      {
        "duration": 47,
        "start_time": "2023-01-02T18:21:39.465Z"
      },
      {
        "duration": 21,
        "start_time": "2023-01-02T18:21:39.515Z"
      },
      {
        "duration": 5,
        "start_time": "2023-01-02T18:21:39.538Z"
      },
      {
        "duration": 5,
        "start_time": "2023-01-02T18:21:39.545Z"
      },
      {
        "duration": 13,
        "start_time": "2023-01-02T18:21:39.552Z"
      },
      {
        "duration": 53,
        "start_time": "2023-01-02T18:21:39.567Z"
      },
      {
        "duration": 14,
        "start_time": "2023-01-02T18:21:39.624Z"
      },
      {
        "duration": 7,
        "start_time": "2023-01-02T18:21:39.640Z"
      },
      {
        "duration": 249,
        "start_time": "2023-01-02T18:21:39.648Z"
      },
      {
        "duration": 15,
        "start_time": "2023-01-02T18:21:39.898Z"
      },
      {
        "duration": 6,
        "start_time": "2023-01-02T18:21:39.914Z"
      },
      {
        "duration": 164,
        "start_time": "2023-01-02T18:21:39.922Z"
      },
      {
        "duration": 3,
        "start_time": "2023-01-02T18:21:40.088Z"
      },
      {
        "duration": 131,
        "start_time": "2023-01-02T18:21:40.093Z"
      },
      {
        "duration": 127,
        "start_time": "2023-01-02T18:21:40.225Z"
      },
      {
        "duration": 135,
        "start_time": "2023-01-02T18:21:40.354Z"
      },
      {
        "duration": 133,
        "start_time": "2023-01-02T18:21:40.490Z"
      },
      {
        "duration": 250,
        "start_time": "2023-01-02T18:21:40.625Z"
      },
      {
        "duration": 10,
        "start_time": "2023-01-02T18:21:40.876Z"
      },
      {
        "duration": 348,
        "start_time": "2023-01-02T18:21:40.887Z"
      },
      {
        "duration": 9,
        "start_time": "2023-01-02T18:21:41.237Z"
      },
      {
        "duration": 246,
        "start_time": "2023-01-02T18:21:41.247Z"
      },
      {
        "duration": 19,
        "start_time": "2023-01-02T18:21:41.495Z"
      },
      {
        "duration": 122,
        "start_time": "2023-01-02T18:21:41.515Z"
      },
      {
        "duration": 153,
        "start_time": "2023-01-02T18:21:41.642Z"
      },
      {
        "duration": 118,
        "start_time": "2023-01-02T18:21:41.797Z"
      },
      {
        "duration": 119,
        "start_time": "2023-01-02T18:21:41.917Z"
      },
      {
        "duration": 101,
        "start_time": "2023-01-02T18:21:42.037Z"
      },
      {
        "duration": 114,
        "start_time": "2023-01-02T18:21:42.140Z"
      },
      {
        "duration": 121,
        "start_time": "2023-01-02T18:21:42.255Z"
      },
      {
        "duration": 105,
        "start_time": "2023-01-02T18:21:42.378Z"
      },
      {
        "duration": 103,
        "start_time": "2023-01-02T18:21:42.485Z"
      },
      {
        "duration": 170,
        "start_time": "2023-01-02T18:21:42.589Z"
      },
      {
        "duration": 107,
        "start_time": "2023-01-02T18:21:42.761Z"
      },
      {
        "duration": 8,
        "start_time": "2023-01-02T18:21:42.870Z"
      },
      {
        "duration": 16,
        "start_time": "2023-01-02T18:21:42.879Z"
      },
      {
        "duration": 5,
        "start_time": "2023-01-02T18:21:42.912Z"
      },
      {
        "duration": 9,
        "start_time": "2023-01-02T18:21:42.919Z"
      },
      {
        "duration": 28,
        "start_time": "2023-01-02T18:28:27.255Z"
      },
      {
        "duration": 9,
        "start_time": "2023-01-02T18:30:08.174Z"
      },
      {
        "duration": 16,
        "start_time": "2023-01-02T18:30:09.088Z"
      },
      {
        "duration": 7,
        "start_time": "2023-01-02T18:30:32.343Z"
      },
      {
        "duration": 17,
        "start_time": "2023-01-02T18:30:33.344Z"
      },
      {
        "duration": 8,
        "start_time": "2023-01-02T18:31:30.600Z"
      },
      {
        "duration": 16,
        "start_time": "2023-01-02T18:31:31.328Z"
      },
      {
        "duration": 4,
        "start_time": "2023-01-02T18:36:36.225Z"
      },
      {
        "duration": 9,
        "start_time": "2023-01-02T18:40:18.643Z"
      },
      {
        "duration": 5,
        "start_time": "2023-01-02T18:40:20.107Z"
      },
      {
        "duration": 974,
        "start_time": "2023-01-02T18:40:25.072Z"
      },
      {
        "duration": 50,
        "start_time": "2023-01-02T18:40:26.048Z"
      },
      {
        "duration": 34,
        "start_time": "2023-01-02T18:40:26.099Z"
      },
      {
        "duration": 245,
        "start_time": "2023-01-02T18:40:26.135Z"
      },
      {
        "duration": 188,
        "start_time": "2023-01-02T18:40:26.383Z"
      },
      {
        "duration": 150,
        "start_time": "2023-01-02T18:40:26.572Z"
      },
      {
        "duration": 132,
        "start_time": "2023-01-02T18:40:26.724Z"
      },
      {
        "duration": 138,
        "start_time": "2023-01-02T18:40:26.858Z"
      },
      {
        "duration": 129,
        "start_time": "2023-01-02T18:40:26.998Z"
      },
      {
        "duration": 129,
        "start_time": "2023-01-02T18:40:27.129Z"
      },
      {
        "duration": 129,
        "start_time": "2023-01-02T18:40:27.260Z"
      },
      {
        "duration": 1099,
        "start_time": "2023-01-02T18:40:27.391Z"
      },
      {
        "duration": 139,
        "start_time": "2023-01-02T18:40:28.492Z"
      },
      {
        "duration": 3,
        "start_time": "2023-01-02T18:40:28.634Z"
      },
      {
        "duration": 12,
        "start_time": "2023-01-02T18:40:28.638Z"
      },
      {
        "duration": 6,
        "start_time": "2023-01-02T18:40:28.652Z"
      },
      {
        "duration": 7,
        "start_time": "2023-01-02T18:40:28.660Z"
      },
      {
        "duration": 14,
        "start_time": "2023-01-02T18:40:28.669Z"
      },
      {
        "duration": 32,
        "start_time": "2023-01-02T18:40:28.684Z"
      },
      {
        "duration": 4,
        "start_time": "2023-01-02T18:40:28.718Z"
      },
      {
        "duration": 6,
        "start_time": "2023-01-02T18:40:28.723Z"
      },
      {
        "duration": 18,
        "start_time": "2023-01-02T18:40:28.731Z"
      },
      {
        "duration": 18,
        "start_time": "2023-01-02T18:40:28.750Z"
      },
      {
        "duration": 4,
        "start_time": "2023-01-02T18:40:28.770Z"
      },
      {
        "duration": 5,
        "start_time": "2023-01-02T18:40:28.776Z"
      },
      {
        "duration": 30,
        "start_time": "2023-01-02T18:40:28.783Z"
      },
      {
        "duration": 27,
        "start_time": "2023-01-02T18:40:28.814Z"
      },
      {
        "duration": 13,
        "start_time": "2023-01-02T18:40:28.842Z"
      },
      {
        "duration": 6,
        "start_time": "2023-01-02T18:40:28.856Z"
      },
      {
        "duration": 230,
        "start_time": "2023-01-02T18:40:28.863Z"
      },
      {
        "duration": 6,
        "start_time": "2023-01-02T18:40:29.094Z"
      },
      {
        "duration": 15,
        "start_time": "2023-01-02T18:40:29.101Z"
      },
      {
        "duration": 134,
        "start_time": "2023-01-02T18:40:29.118Z"
      },
      {
        "duration": 3,
        "start_time": "2023-01-02T18:40:29.254Z"
      },
      {
        "duration": 140,
        "start_time": "2023-01-02T18:40:29.258Z"
      },
      {
        "duration": 129,
        "start_time": "2023-01-02T18:40:29.400Z"
      },
      {
        "duration": 134,
        "start_time": "2023-01-02T18:40:29.531Z"
      },
      {
        "duration": 133,
        "start_time": "2023-01-02T18:40:29.666Z"
      },
      {
        "duration": 233,
        "start_time": "2023-01-02T18:40:29.801Z"
      },
      {
        "duration": 9,
        "start_time": "2023-01-02T18:40:30.036Z"
      },
      {
        "duration": 317,
        "start_time": "2023-01-02T18:40:30.048Z"
      },
      {
        "duration": 9,
        "start_time": "2023-01-02T18:40:30.367Z"
      },
      {
        "duration": 259,
        "start_time": "2023-01-02T18:40:30.377Z"
      },
      {
        "duration": 10,
        "start_time": "2023-01-02T18:40:30.637Z"
      },
      {
        "duration": 131,
        "start_time": "2023-01-02T18:40:30.648Z"
      },
      {
        "duration": 135,
        "start_time": "2023-01-02T18:40:30.781Z"
      },
      {
        "duration": 112,
        "start_time": "2023-01-02T18:40:30.918Z"
      },
      {
        "duration": 117,
        "start_time": "2023-01-02T18:40:31.032Z"
      },
      {
        "duration": 104,
        "start_time": "2023-01-02T18:40:31.151Z"
      },
      {
        "duration": 113,
        "start_time": "2023-01-02T18:40:31.256Z"
      },
      {
        "duration": 122,
        "start_time": "2023-01-02T18:40:31.370Z"
      },
      {
        "duration": 104,
        "start_time": "2023-01-02T18:40:31.494Z"
      },
      {
        "duration": 120,
        "start_time": "2023-01-02T18:40:31.599Z"
      },
      {
        "duration": 170,
        "start_time": "2023-01-02T18:40:31.720Z"
      },
      {
        "duration": 106,
        "start_time": "2023-01-02T18:40:31.892Z"
      },
      {
        "duration": 18,
        "start_time": "2023-01-02T18:40:32.000Z"
      },
      {
        "duration": 7,
        "start_time": "2023-01-02T18:40:32.020Z"
      },
      {
        "duration": 12,
        "start_time": "2023-01-02T18:40:32.029Z"
      },
      {
        "duration": 7,
        "start_time": "2023-01-02T18:43:59.525Z"
      },
      {
        "duration": 5,
        "start_time": "2023-01-02T18:44:00.749Z"
      },
      {
        "duration": 7,
        "start_time": "2023-01-02T18:44:19.956Z"
      },
      {
        "duration": 7,
        "start_time": "2023-01-02T18:55:29.667Z"
      },
      {
        "duration": 7,
        "start_time": "2023-01-02T18:55:30.827Z"
      },
      {
        "duration": 56,
        "start_time": "2023-01-02T19:32:50.980Z"
      },
      {
        "duration": 43,
        "start_time": "2023-01-03T07:27:39.225Z"
      },
      {
        "duration": 1194,
        "start_time": "2023-01-03T07:27:52.448Z"
      },
      {
        "duration": 89,
        "start_time": "2023-01-03T07:27:53.644Z"
      },
      {
        "duration": 35,
        "start_time": "2023-01-03T07:27:53.735Z"
      },
      {
        "duration": 228,
        "start_time": "2023-01-03T07:27:54.384Z"
      },
      {
        "duration": 140,
        "start_time": "2023-01-03T07:27:54.767Z"
      },
      {
        "duration": 163,
        "start_time": "2023-01-03T07:27:55.119Z"
      },
      {
        "duration": 138,
        "start_time": "2023-01-03T07:27:55.471Z"
      },
      {
        "duration": 149,
        "start_time": "2023-01-03T07:27:55.800Z"
      },
      {
        "duration": 128,
        "start_time": "2023-01-03T07:27:56.137Z"
      },
      {
        "duration": 125,
        "start_time": "2023-01-03T07:27:56.859Z"
      },
      {
        "duration": 144,
        "start_time": "2023-01-03T07:27:56.986Z"
      },
      {
        "duration": 1173,
        "start_time": "2023-01-03T07:27:57.131Z"
      },
      {
        "duration": 152,
        "start_time": "2023-01-03T07:27:58.307Z"
      },
      {
        "duration": 3,
        "start_time": "2023-01-03T07:27:58.460Z"
      },
      {
        "duration": 9,
        "start_time": "2023-01-03T07:27:58.639Z"
      },
      {
        "duration": 8,
        "start_time": "2023-01-03T07:28:00.417Z"
      },
      {
        "duration": 5,
        "start_time": "2023-01-03T07:28:01.823Z"
      },
      {
        "duration": 13,
        "start_time": "2023-01-03T07:28:02.823Z"
      },
      {
        "duration": 11,
        "start_time": "2023-01-03T07:28:03.943Z"
      },
      {
        "duration": 4,
        "start_time": "2023-01-03T07:28:04.191Z"
      },
      {
        "duration": 3,
        "start_time": "2023-01-03T07:28:04.982Z"
      },
      {
        "duration": 18,
        "start_time": "2023-01-03T07:28:07.592Z"
      },
      {
        "duration": 20,
        "start_time": "2023-01-03T07:28:08.367Z"
      },
      {
        "duration": 6,
        "start_time": "2023-01-03T07:28:09.415Z"
      },
      {
        "duration": 6,
        "start_time": "2023-01-03T07:28:09.935Z"
      },
      {
        "duration": 8,
        "start_time": "2023-01-03T07:28:12.719Z"
      },
      {
        "duration": 32,
        "start_time": "2023-01-03T07:28:13.432Z"
      },
      {
        "duration": 14,
        "start_time": "2023-01-03T07:28:20.480Z"
      },
      {
        "duration": 121,
        "start_time": "2023-01-03T07:28:22.549Z"
      },
      {
        "duration": 8,
        "start_time": "2023-01-03T07:29:01.489Z"
      },
      {
        "duration": 53,
        "start_time": "2023-01-03T16:18:27.952Z"
      },
      {
        "duration": 1293,
        "start_time": "2023-01-03T16:18:38.348Z"
      },
      {
        "duration": 91,
        "start_time": "2023-01-03T16:18:39.644Z"
      },
      {
        "duration": 37,
        "start_time": "2023-01-03T16:18:39.736Z"
      },
      {
        "duration": 254,
        "start_time": "2023-01-03T16:18:39.775Z"
      },
      {
        "duration": 166,
        "start_time": "2023-01-03T16:18:40.030Z"
      },
      {
        "duration": 171,
        "start_time": "2023-01-03T16:18:40.198Z"
      },
      {
        "duration": 138,
        "start_time": "2023-01-03T16:18:40.371Z"
      },
      {
        "duration": 168,
        "start_time": "2023-01-03T16:18:40.510Z"
      },
      {
        "duration": 144,
        "start_time": "2023-01-03T16:18:40.680Z"
      },
      {
        "duration": 161,
        "start_time": "2023-01-03T16:18:40.827Z"
      },
      {
        "duration": 162,
        "start_time": "2023-01-03T16:18:40.990Z"
      },
      {
        "duration": 1220,
        "start_time": "2023-01-03T16:18:41.154Z"
      },
      {
        "duration": 156,
        "start_time": "2023-01-03T16:18:42.376Z"
      },
      {
        "duration": 3,
        "start_time": "2023-01-03T16:18:42.534Z"
      },
      {
        "duration": 18,
        "start_time": "2023-01-03T16:18:42.538Z"
      },
      {
        "duration": 20,
        "start_time": "2023-01-03T16:18:42.557Z"
      },
      {
        "duration": 5,
        "start_time": "2023-01-03T16:18:42.579Z"
      },
      {
        "duration": 19,
        "start_time": "2023-01-03T16:18:42.585Z"
      },
      {
        "duration": 13,
        "start_time": "2023-01-03T16:18:43.119Z"
      },
      {
        "duration": 4,
        "start_time": "2023-01-03T16:18:43.383Z"
      },
      {
        "duration": 3,
        "start_time": "2023-01-03T16:18:44.198Z"
      },
      {
        "duration": 19,
        "start_time": "2023-01-03T16:18:46.102Z"
      },
      {
        "duration": 22,
        "start_time": "2023-01-03T16:18:46.980Z"
      },
      {
        "duration": 6,
        "start_time": "2023-01-03T16:18:48.990Z"
      },
      {
        "duration": 5,
        "start_time": "2023-01-03T16:18:49.511Z"
      },
      {
        "duration": 140,
        "start_time": "2023-01-03T16:18:52.326Z"
      },
      {
        "duration": 90,
        "start_time": "2023-01-03T16:20:25.274Z"
      },
      {
        "duration": 28,
        "start_time": "2023-01-03T16:20:41.505Z"
      },
      {
        "duration": 26,
        "start_time": "2023-01-03T16:21:05.539Z"
      },
      {
        "duration": 7,
        "start_time": "2023-01-03T16:21:19.907Z"
      },
      {
        "duration": 9,
        "start_time": "2023-01-03T16:27:37.822Z"
      },
      {
        "duration": 9,
        "start_time": "2023-01-03T16:28:00.447Z"
      },
      {
        "duration": 10,
        "start_time": "2023-01-03T16:28:31.487Z"
      },
      {
        "duration": 9,
        "start_time": "2023-01-03T16:28:41.583Z"
      },
      {
        "duration": 13,
        "start_time": "2023-01-03T16:28:55.663Z"
      },
      {
        "duration": 17,
        "start_time": "2023-01-03T16:29:09.872Z"
      },
      {
        "duration": 12,
        "start_time": "2023-01-03T16:29:21.240Z"
      },
      {
        "duration": 25,
        "start_time": "2023-01-03T16:29:38.944Z"
      },
      {
        "duration": 13,
        "start_time": "2023-01-03T16:29:52.752Z"
      },
      {
        "duration": 14,
        "start_time": "2023-01-03T16:29:54.048Z"
      },
      {
        "duration": 1061,
        "start_time": "2023-01-03T16:30:13.590Z"
      },
      {
        "duration": 50,
        "start_time": "2023-01-03T16:30:14.653Z"
      },
      {
        "duration": 34,
        "start_time": "2023-01-03T16:30:14.706Z"
      },
      {
        "duration": 272,
        "start_time": "2023-01-03T16:30:14.743Z"
      },
      {
        "duration": 164,
        "start_time": "2023-01-03T16:30:15.017Z"
      },
      {
        "duration": 173,
        "start_time": "2023-01-03T16:30:15.183Z"
      },
      {
        "duration": 144,
        "start_time": "2023-01-03T16:30:15.358Z"
      },
      {
        "duration": 147,
        "start_time": "2023-01-03T16:30:15.504Z"
      },
      {
        "duration": 153,
        "start_time": "2023-01-03T16:30:15.653Z"
      },
      {
        "duration": 170,
        "start_time": "2023-01-03T16:30:15.809Z"
      },
      {
        "duration": 149,
        "start_time": "2023-01-03T16:30:15.981Z"
      },
      {
        "duration": 1215,
        "start_time": "2023-01-03T16:30:16.132Z"
      },
      {
        "duration": 158,
        "start_time": "2023-01-03T16:30:17.349Z"
      },
      {
        "duration": 4,
        "start_time": "2023-01-03T16:30:17.508Z"
      },
      {
        "duration": 15,
        "start_time": "2023-01-03T16:30:17.513Z"
      },
      {
        "duration": 8,
        "start_time": "2023-01-03T16:30:17.529Z"
      },
      {
        "duration": 6,
        "start_time": "2023-01-03T16:30:17.538Z"
      },
      {
        "duration": 34,
        "start_time": "2023-01-03T16:30:17.546Z"
      },
      {
        "duration": 12,
        "start_time": "2023-01-03T16:30:17.583Z"
      },
      {
        "duration": 3,
        "start_time": "2023-01-03T16:30:17.597Z"
      },
      {
        "duration": 5,
        "start_time": "2023-01-03T16:30:17.602Z"
      },
      {
        "duration": 19,
        "start_time": "2023-01-03T16:30:18.101Z"
      },
      {
        "duration": 22,
        "start_time": "2023-01-03T16:30:19.009Z"
      },
      {
        "duration": 7,
        "start_time": "2023-01-03T16:30:20.112Z"
      },
      {
        "duration": 5,
        "start_time": "2023-01-03T16:30:20.672Z"
      },
      {
        "duration": 27,
        "start_time": "2023-01-03T16:30:24.209Z"
      },
      {
        "duration": 28,
        "start_time": "2023-01-03T16:30:27.872Z"
      },
      {
        "duration": 12,
        "start_time": "2023-01-03T16:30:39.946Z"
      },
      {
        "duration": 11,
        "start_time": "2023-01-03T16:33:26.381Z"
      },
      {
        "duration": 9,
        "start_time": "2023-01-03T16:41:06.786Z"
      },
      {
        "duration": 3,
        "start_time": "2023-01-03T16:44:29.412Z"
      },
      {
        "duration": 92,
        "start_time": "2023-01-03T16:44:30.236Z"
      },
      {
        "duration": 117,
        "start_time": "2023-01-03T16:44:36.356Z"
      },
      {
        "duration": 123,
        "start_time": "2023-01-03T16:49:34.816Z"
      },
      {
        "duration": 144,
        "start_time": "2023-01-03T16:49:35.696Z"
      },
      {
        "duration": 111,
        "start_time": "2023-01-03T16:49:36.192Z"
      },
      {
        "duration": 117,
        "start_time": "2023-01-03T16:49:36.527Z"
      },
      {
        "duration": 125,
        "start_time": "2023-01-03T16:49:37.256Z"
      },
      {
        "duration": 13,
        "start_time": "2023-01-03T17:12:38.230Z"
      },
      {
        "duration": 1386,
        "start_time": "2023-01-03T17:12:47.870Z"
      },
      {
        "duration": 51,
        "start_time": "2023-01-03T17:12:49.258Z"
      },
      {
        "duration": 37,
        "start_time": "2023-01-03T17:12:49.311Z"
      },
      {
        "duration": 245,
        "start_time": "2023-01-03T17:12:49.351Z"
      },
      {
        "duration": 158,
        "start_time": "2023-01-03T17:12:49.598Z"
      },
      {
        "duration": 184,
        "start_time": "2023-01-03T17:12:49.758Z"
      },
      {
        "duration": 139,
        "start_time": "2023-01-03T17:12:49.944Z"
      },
      {
        "duration": 165,
        "start_time": "2023-01-03T17:12:50.084Z"
      },
      {
        "duration": 155,
        "start_time": "2023-01-03T17:12:50.251Z"
      },
      {
        "duration": 157,
        "start_time": "2023-01-03T17:12:50.409Z"
      },
      {
        "duration": 150,
        "start_time": "2023-01-03T17:12:50.568Z"
      },
      {
        "duration": 1222,
        "start_time": "2023-01-03T17:12:50.720Z"
      },
      {
        "duration": 146,
        "start_time": "2023-01-03T17:12:51.944Z"
      },
      {
        "duration": 3,
        "start_time": "2023-01-03T17:12:52.092Z"
      },
      {
        "duration": 12,
        "start_time": "2023-01-03T17:12:52.097Z"
      },
      {
        "duration": 12,
        "start_time": "2023-01-03T17:12:52.111Z"
      },
      {
        "duration": 4,
        "start_time": "2023-01-03T17:12:52.125Z"
      },
      {
        "duration": 17,
        "start_time": "2023-01-03T17:12:52.130Z"
      },
      {
        "duration": 36,
        "start_time": "2023-01-03T17:12:52.148Z"
      },
      {
        "duration": 3,
        "start_time": "2023-01-03T17:12:52.186Z"
      },
      {
        "duration": 11,
        "start_time": "2023-01-03T17:12:52.190Z"
      },
      {
        "duration": 23,
        "start_time": "2023-01-03T17:12:52.202Z"
      },
      {
        "duration": 23,
        "start_time": "2023-01-03T17:12:52.227Z"
      },
      {
        "duration": 26,
        "start_time": "2023-01-03T17:12:52.252Z"
      },
      {
        "duration": 6,
        "start_time": "2023-01-03T17:12:52.280Z"
      },
      {
        "duration": 19,
        "start_time": "2023-01-03T17:12:52.288Z"
      },
      {
        "duration": 15,
        "start_time": "2023-01-03T17:12:52.308Z"
      },
      {
        "duration": 10,
        "start_time": "2023-01-03T17:12:52.328Z"
      },
      {
        "duration": 38,
        "start_time": "2023-01-03T17:12:52.340Z"
      },
      {
        "duration": 128,
        "start_time": "2023-01-03T17:12:52.380Z"
      },
      {
        "duration": 135,
        "start_time": "2023-01-03T17:12:52.510Z"
      },
      {
        "duration": 141,
        "start_time": "2023-01-03T17:12:52.647Z"
      },
      {
        "duration": 118,
        "start_time": "2023-01-03T17:12:52.789Z"
      },
      {
        "duration": 131,
        "start_time": "2023-01-03T17:12:52.909Z"
      },
      {
        "duration": 125,
        "start_time": "2023-01-03T17:12:53.042Z"
      },
      {
        "duration": 12,
        "start_time": "2023-01-03T17:12:53.169Z"
      },
      {
        "duration": 239,
        "start_time": "2023-01-03T17:12:53.182Z"
      },
      {
        "duration": 7,
        "start_time": "2023-01-03T17:12:53.423Z"
      },
      {
        "duration": 11,
        "start_time": "2023-01-03T17:12:53.431Z"
      },
      {
        "duration": 242,
        "start_time": "2023-01-03T17:12:53.443Z"
      },
      {
        "duration": 3,
        "start_time": "2023-01-03T17:12:53.687Z"
      },
      {
        "duration": 137,
        "start_time": "2023-01-03T17:12:53.691Z"
      },
      {
        "duration": 150,
        "start_time": "2023-01-03T17:12:53.830Z"
      },
      {
        "duration": 131,
        "start_time": "2023-01-03T17:12:53.982Z"
      },
      {
        "duration": 134,
        "start_time": "2023-01-03T17:12:54.115Z"
      },
      {
        "duration": 249,
        "start_time": "2023-01-03T17:12:54.250Z"
      },
      {
        "duration": 8,
        "start_time": "2023-01-03T17:12:54.503Z"
      },
      {
        "duration": 267,
        "start_time": "2023-01-03T17:12:54.513Z"
      },
      {
        "duration": 10,
        "start_time": "2023-01-03T17:12:54.781Z"
      },
      {
        "duration": 268,
        "start_time": "2023-01-03T17:12:54.792Z"
      },
      {
        "duration": 10,
        "start_time": "2023-01-03T17:12:55.062Z"
      },
      {
        "duration": 142,
        "start_time": "2023-01-03T17:12:55.078Z"
      },
      {
        "duration": 148,
        "start_time": "2023-01-03T17:12:55.222Z"
      },
      {
        "duration": 120,
        "start_time": "2023-01-03T17:12:55.377Z"
      },
      {
        "duration": 218,
        "start_time": "2023-01-03T17:12:55.498Z"
      },
      {
        "duration": 111,
        "start_time": "2023-01-03T17:12:55.718Z"
      },
      {
        "duration": 136,
        "start_time": "2023-01-03T17:12:55.831Z"
      },
      {
        "duration": 128,
        "start_time": "2023-01-03T17:12:55.969Z"
      },
      {
        "duration": 117,
        "start_time": "2023-01-03T17:12:56.099Z"
      },
      {
        "duration": 115,
        "start_time": "2023-01-03T17:12:56.218Z"
      },
      {
        "duration": 123,
        "start_time": "2023-01-03T17:12:56.335Z"
      },
      {
        "duration": 119,
        "start_time": "2023-01-03T17:12:56.460Z"
      },
      {
        "duration": 6,
        "start_time": "2023-01-03T17:12:56.581Z"
      },
      {
        "duration": 16,
        "start_time": "2023-01-03T17:12:56.588Z"
      },
      {
        "duration": 17,
        "start_time": "2023-01-03T17:12:56.606Z"
      },
      {
        "duration": 14,
        "start_time": "2023-01-03T17:24:09.456Z"
      },
      {
        "duration": 23,
        "start_time": "2023-01-03T17:24:19.311Z"
      },
      {
        "duration": 7,
        "start_time": "2023-01-03T18:05:59.145Z"
      },
      {
        "duration": 7,
        "start_time": "2023-01-03T18:51:38.890Z"
      },
      {
        "duration": 7,
        "start_time": "2023-01-03T18:54:39.748Z"
      },
      {
        "duration": 5,
        "start_time": "2023-01-03T18:54:57.733Z"
      },
      {
        "duration": 8,
        "start_time": "2023-01-03T18:54:58.612Z"
      },
      {
        "duration": 8,
        "start_time": "2023-01-03T18:55:25.997Z"
      },
      {
        "duration": 7,
        "start_time": "2023-01-03T18:56:43.750Z"
      },
      {
        "duration": 8,
        "start_time": "2023-01-03T18:56:56.854Z"
      },
      {
        "duration": 1181,
        "start_time": "2023-01-04T18:26:07.991Z"
      },
      {
        "duration": 458,
        "start_time": "2023-01-04T18:26:09.656Z"
      },
      {
        "duration": 94,
        "start_time": "2023-01-04T18:26:12.280Z"
      },
      {
        "duration": 21,
        "start_time": "2023-01-04T18:26:26.696Z"
      },
      {
        "duration": 27,
        "start_time": "2023-01-04T18:26:39.342Z"
      }
    ],
    "kernelspec": {
      "display_name": "Python 3 (ipykernel)",
      "language": "python",
      "name": "python3"
    },
    "language_info": {
      "codemirror_mode": {
        "name": "ipython",
        "version": 3
      },
      "file_extension": ".py",
      "mimetype": "text/x-python",
      "name": "python",
      "nbconvert_exporter": "python",
      "pygments_lexer": "ipython3",
      "version": "3.9.5"
    },
    "toc": {
      "base_numbering": 1,
      "nav_menu": {},
      "number_sections": true,
      "sideBar": true,
      "skip_h1_title": true,
      "title_cell": "Table of Contents",
      "title_sidebar": "Contents",
      "toc_cell": false,
      "toc_position": {
        "height": "calc(100% - 180px)",
        "left": "10px",
        "top": "150px",
        "width": "399.188px"
      },
      "toc_section_display": true,
      "toc_window_display": true
    },
    "colab": {
      "provenance": []
    }
  },
  "nbformat": 4,
  "nbformat_minor": 0
}