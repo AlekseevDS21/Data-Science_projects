{
  "cells": [
    {
      "cell_type": "markdown",
      "metadata": {
        "toc": true,
        "id": "H-bj1tz0slnv"
      },
      "source": [
        "<h1>Содержание<span class=\"tocSkip\"></span></h1>\n",
        "<div class=\"toc\"><ul class=\"toc-item\"><li><span><a href=\"#Подготовка\" data-toc-modified-id=\"Подготовка-1\"><span class=\"toc-item-num\">1&nbsp;&nbsp;</span>Подготовка</a></span></li><li><span><a href=\"#Анализ\" data-toc-modified-id=\"Анализ-2\"><span class=\"toc-item-num\">2&nbsp;&nbsp;</span>Анализ</a></span></li><li><span><a href=\"#Обучение\" data-toc-modified-id=\"Обучение-3\"><span class=\"toc-item-num\">3&nbsp;&nbsp;</span>Обучение</a></span></li><li><span><a href=\"#Тестирование\" data-toc-modified-id=\"Тестирование-4\"><span class=\"toc-item-num\">4&nbsp;&nbsp;</span>Тестирование</a></span><ul class=\"toc-item\"><li><span><a href=\"#Вывод\" data-toc-modified-id=\"Вывод-4.1\"><span class=\"toc-item-num\">4.1&nbsp;&nbsp;</span>Вывод</a></span></li></ul>"
      ]
    },
    {
      "cell_type": "markdown",
      "metadata": {
        "id": "fZfe_6Gtslnw"
      },
      "source": [
        "#  Прогнозирование заказов такси"
      ]
    },
    {
      "cell_type": "markdown",
      "metadata": {
        "id": "6HO1Tgmfslnw"
      },
      "source": [
        "Компания «желтое такси» собрала исторические данные о заказах такси в аэропортах. Чтобы привлекать больше водителей в период пиковой нагрузки, нужно спрогнозировать количество заказов такси на следующий час. Задача - построить модель для такого предсказания.\n",
        "\n",
        "Значение метрики *RMSE* на тестовой выборке должно быть не больше 48.\n",
        "\n",
        "Нужно:\n",
        "\n",
        "1. Загрузить данные и выполнить их ресемплирование по одному часу.\n",
        "2. Проанализировать данные.\n",
        "3. Обучить разные модели с различными гиперпараметрами. Сделать тестовую выборку размером 10% от исходных данных.\n",
        "4. Проверить данные на тестовой выборке и сделать выводы.\n",
        "\n",
        "\n",
        "Данные лежат в файле `taxi.csv`. Количество заказов находится в столбце `num_orders` (от англ. *number of orders*, «число заказов»)."
      ]
    },
    {
      "cell_type": "markdown",
      "metadata": {
        "id": "zFsM4bknslnw"
      },
      "source": [
        "## Подготовка"
      ]
    },
    {
      "cell_type": "code",
      "execution_count": null,
      "metadata": {
        "id": "qDaUdVpislnx"
      },
      "outputs": [],
      "source": [
        "import warnings\n",
        "warnings.filterwarnings(\"ignore\")\n",
        "\n",
        "import pandas as pd\n",
        "import numpy as np\n",
        "import matplotlib.pyplot as plt\n",
        "from sklearn.ensemble import RandomForestRegressor\n",
        "from statsmodels.tsa.seasonal import seasonal_decompose\n",
        "from sklearn.linear_model import LinearRegression\n",
        "from sklearn.metrics import mean_squared_error\n",
        "from catboost import CatBoostRegressor\n",
        "from catboost import Pool, cv\n",
        "from sklearn.linear_model import Ridge\n",
        "from sklearn.model_selection import (\n",
        "    GridSearchCV,\n",
        "    RandomizedSearchCV,\n",
        "    train_test_split\n",
        ")\n",
        "from sklearn.model_selection import TimeSeriesSplit\n",
        "import lightgbm as lgb\n",
        "random = 42"
      ]
    },
    {
      "cell_type": "markdown",
      "metadata": {
        "id": "0ptKrnKSslnx"
      },
      "source": [
        "Загрузка данных"
      ]
    },
    {
      "cell_type": "code",
      "execution_count": null,
      "metadata": {
        "id": "e-EGXHM8slnx"
      },
      "outputs": [],
      "source": [
        "data = pd.read_csv('/datasets/taxi.csv')"
      ]
    },
    {
      "cell_type": "code",
      "execution_count": null,
      "metadata": {
        "id": "nVgBdLgrslny",
        "outputId": "58878884-a304-40b0-df9c-fd46cf1a5d89"
      },
      "outputs": [
        {
          "data": {
            "text/html": [
              "<div>\n",
              "<style scoped>\n",
              "    .dataframe tbody tr th:only-of-type {\n",
              "        vertical-align: middle;\n",
              "    }\n",
              "\n",
              "    .dataframe tbody tr th {\n",
              "        vertical-align: top;\n",
              "    }\n",
              "\n",
              "    .dataframe thead th {\n",
              "        text-align: right;\n",
              "    }\n",
              "</style>\n",
              "<table border=\"1\" class=\"dataframe\">\n",
              "  <thead>\n",
              "    <tr style=\"text-align: right;\">\n",
              "      <th></th>\n",
              "      <th>datetime</th>\n",
              "      <th>num_orders</th>\n",
              "    </tr>\n",
              "  </thead>\n",
              "  <tbody>\n",
              "    <tr>\n",
              "      <th>0</th>\n",
              "      <td>2018-03-01 00:00:00</td>\n",
              "      <td>9</td>\n",
              "    </tr>\n",
              "    <tr>\n",
              "      <th>1</th>\n",
              "      <td>2018-03-01 00:10:00</td>\n",
              "      <td>14</td>\n",
              "    </tr>\n",
              "    <tr>\n",
              "      <th>2</th>\n",
              "      <td>2018-03-01 00:20:00</td>\n",
              "      <td>28</td>\n",
              "    </tr>\n",
              "    <tr>\n",
              "      <th>3</th>\n",
              "      <td>2018-03-01 00:30:00</td>\n",
              "      <td>20</td>\n",
              "    </tr>\n",
              "    <tr>\n",
              "      <th>4</th>\n",
              "      <td>2018-03-01 00:40:00</td>\n",
              "      <td>32</td>\n",
              "    </tr>\n",
              "  </tbody>\n",
              "</table>\n",
              "</div>"
            ],
            "text/plain": [
              "              datetime  num_orders\n",
              "0  2018-03-01 00:00:00           9\n",
              "1  2018-03-01 00:10:00          14\n",
              "2  2018-03-01 00:20:00          28\n",
              "3  2018-03-01 00:30:00          20\n",
              "4  2018-03-01 00:40:00          32"
            ]
          },
          "execution_count": 3,
          "metadata": {},
          "output_type": "execute_result"
        }
      ],
      "source": [
        "data.head()"
      ]
    },
    {
      "cell_type": "code",
      "execution_count": null,
      "metadata": {
        "id": "IBWSXnBbslny",
        "outputId": "f61494dd-4483-41cb-ecb2-e86f4f051de5"
      },
      "outputs": [
        {
          "name": "stdout",
          "output_type": "stream",
          "text": [
            "<class 'pandas.core.frame.DataFrame'>\n",
            "RangeIndex: 26496 entries, 0 to 26495\n",
            "Data columns (total 2 columns):\n",
            " #   Column      Non-Null Count  Dtype \n",
            "---  ------      --------------  ----- \n",
            " 0   datetime    26496 non-null  object\n",
            " 1   num_orders  26496 non-null  int64 \n",
            "dtypes: int64(1), object(1)\n",
            "memory usage: 414.1+ KB\n"
          ]
        }
      ],
      "source": [
        "data.info()"
      ]
    },
    {
      "cell_type": "markdown",
      "metadata": {
        "id": "LAfE-tKKslny"
      },
      "source": [
        "Пропусков и пустых значений нет"
      ]
    },
    {
      "cell_type": "markdown",
      "metadata": {
        "id": "xMwTp4M8slny"
      },
      "source": [
        "Изменение типа данных для столбца с датами"
      ]
    },
    {
      "cell_type": "code",
      "execution_count": null,
      "metadata": {
        "id": "NM_g6i14slny"
      },
      "outputs": [],
      "source": [
        "data['datetime'] = pd.to_datetime(data['datetime'])"
      ]
    },
    {
      "cell_type": "code",
      "execution_count": null,
      "metadata": {
        "id": "Q7qrcYnfslny",
        "outputId": "bd4a8380-b2dc-4516-ebd7-757a38bc32c2"
      },
      "outputs": [
        {
          "name": "stdout",
          "output_type": "stream",
          "text": [
            "<class 'pandas.core.frame.DataFrame'>\n",
            "DatetimeIndex: 26496 entries, 2018-03-01 00:00:00 to 2018-08-31 23:50:00\n",
            "Data columns (total 1 columns):\n",
            " #   Column      Non-Null Count  Dtype\n",
            "---  ------      --------------  -----\n",
            " 0   num_orders  26496 non-null  int64\n",
            "dtypes: int64(1)\n",
            "memory usage: 414.0 KB\n"
          ]
        }
      ],
      "source": [
        "data = data.set_index('datetime')\n",
        "data.info()"
      ]
    },
    {
      "cell_type": "markdown",
      "metadata": {
        "id": "oCCqsDiQslnz"
      },
      "source": [
        "У нас имеются данные с марта по август 2018 года"
      ]
    },
    {
      "cell_type": "code",
      "execution_count": null,
      "metadata": {
        "id": "-xPhy5vsslnz",
        "outputId": "488ee1e3-1b8c-4879-9ce8-c3401be34899"
      },
      "outputs": [
        {
          "data": {
            "text/plain": [
              "True"
            ]
          },
          "execution_count": 7,
          "metadata": {},
          "output_type": "execute_result"
        }
      ],
      "source": [
        "data = data.sort_index()\n",
        "data.index.is_monotonic"
      ]
    },
    {
      "cell_type": "code",
      "execution_count": null,
      "metadata": {
        "id": "KEqar8dJslnz",
        "outputId": "ba56d3fa-d10f-45d6-9f8d-abf74ed970c7"
      },
      "outputs": [
        {
          "data": {
            "image/png": "[encoded data removed]",
            "text/plain": [
              "<Figure size 432x288 with 1 Axes>"
            ]
          },
          "metadata": {
            "needs_background": "light"
          },
          "output_type": "display_data"
        }
      ],
      "source": [
        "data.plot();"
      ]
    },
    {
      "cell_type": "markdown",
      "metadata": {
        "id": "RSb3JtlUslnz"
      },
      "source": [
        "Разделим по 1 часу, т.к. задача предсказания на час"
      ]
    },
    {
      "cell_type": "code",
      "execution_count": null,
      "metadata": {
        "id": "OAfPGqy4slnz"
      },
      "outputs": [],
      "source": [
        "data = data.resample('1H').sum()"
      ]
    },
    {
      "cell_type": "markdown",
      "metadata": {
        "id": "O2gJjvx1slnz"
      },
      "source": [
        "## Анализ"
      ]
    },
    {
      "cell_type": "markdown",
      "metadata": {
        "id": "yR_3tOV2slnz"
      },
      "source": [
        "Ряд не является стационарным, т.к. меняется его среднее."
      ]
    },
    {
      "cell_type": "code",
      "execution_count": null,
      "metadata": {
        "id": "twamF3sgslnz",
        "outputId": "595be99f-169e-4330-c4f3-b107094627ae"
      },
      "outputs": [
        {
          "data": {
            "image/png": "[encoded data removed]",
            "text/plain": [
              "<Figure size 432x288 with 1 Axes>"
            ]
          },
          "metadata": {
            "needs_background": "light"
          },
          "output_type": "display_data"
        }
      ],
      "source": [
        "data.rolling(300).mean().plot();"
      ]
    },
    {
      "cell_type": "code",
      "execution_count": null,
      "metadata": {
        "id": "I_Q7Do1Islnz",
        "outputId": "3603ba8c-3468-49de-97c6-35bb63c49fac"
      },
      "outputs": [
        {
          "data": {
            "image/png": "[encoded data removed]",
            "text/plain": [
              "<Figure size 432x576 with 3 Axes>"
            ]
          },
          "metadata": {
            "needs_background": "light"
          },
          "output_type": "display_data"
        }
      ],
      "source": [
        "decomposed = seasonal_decompose(data['num_orders']['2018-03-01':'2018-03-14'])\n",
        "\n",
        "plt.figure(figsize=(6, 8))\n",
        "plt.subplot(311)\n",
        "\n",
        "decomposed.seasonal.plot(ax=plt.gca());\n",
        "plt.title('Seasonality')\n",
        "plt.subplot(312)\n",
        "\n",
        "decomposed.trend.plot(ax=plt.gca());\n",
        "plt.title('Trend')\n",
        "plt.subplot(313)\n",
        "\n",
        "decomposed.resid.plot(ax=plt.gca());\n",
        "plt.title('Residuals')\n",
        "plt.tight_layout()"
      ]
    },
    {
      "cell_type": "markdown",
      "metadata": {
        "id": "GDMMmReHslnz"
      },
      "source": [
        "Исходя из этих данных имеется определённый спад вызовов такси к выходным"
      ]
    },
    {
      "cell_type": "code",
      "execution_count": null,
      "metadata": {
        "id": "MLhCMZHPslnz",
        "outputId": "211cd514-33a0-4420-bd3d-640b1ea57776"
      },
      "outputs": [
        {
          "data": {
            "image/png": "[encoded data removed]",
            "text/plain": [
              "<Figure size 432x288 with 1 Axes>"
            ]
          },
          "metadata": {
            "needs_background": "light"
          },
          "output_type": "display_data"
        }
      ],
      "source": [
        "decomposed.seasonal['2018-03-01':'2018-03-01'].plot(ax=plt.gca());\n",
        "plt.title('Seasonality in 1 day');"
      ]
    },
    {
      "cell_type": "markdown",
      "metadata": {
        "id": "yZfQjts5sln0"
      },
      "source": [
        "На суточной сезонности имеется спад с ночи до 6 утра и до 21 часа в течении дня, с небольшими просадками."
      ]
    },
    {
      "cell_type": "markdown",
      "metadata": {
        "id": "yMmb2e1xsln0"
      },
      "source": [
        "Создание признаков и разделение на выборки"
      ]
    },
    {
      "cell_type": "code",
      "execution_count": null,
      "metadata": {
        "id": "YK3NKmOcsln0"
      },
      "outputs": [],
      "source": [
        "data_new = data.copy()\n",
        "def make_features(data, max_lag, rolling_mean_size):\n",
        "    data['day'] = data.index.day\n",
        "    data['dayofweek'] = data.index.dayofweek\n",
        "\n",
        "    for lag in range(1, max_lag + 1):\n",
        "        data['lag_{}'.format(lag)] = data['num_orders'].shift(lag)\n",
        "\n",
        "    data['rolling_mean'] = data['num_orders'].shift().rolling(rolling_mean_size).mean()\n",
        "\n",
        "\n",
        "make_features(data_new, 60, 3)\n",
        "\n",
        "train, test = train_test_split(data_new, shuffle=False, test_size=0.1)\n",
        "train = train.dropna()"
      ]
    },
    {
      "cell_type": "markdown",
      "metadata": {
        "id": "mQ9_OulPsln0"
      },
      "source": [
        "Выделение признаков и target"
      ]
    },
    {
      "cell_type": "code",
      "execution_count": null,
      "metadata": {
        "id": "ZS1Y-j-Qsln0"
      },
      "outputs": [],
      "source": [
        "features_train = train.drop(['num_orders'], axis=1)\n",
        "target_train = train['num_orders']\n",
        "features_test = test.drop(['num_orders'], axis=1)\n",
        "target_test = test['num_orders']"
      ]
    },
    {
      "cell_type": "markdown",
      "metadata": {
        "id": "toI_bw2csln3"
      },
      "source": [
        "## Обучение"
      ]
    },
    {
      "cell_type": "markdown",
      "metadata": {
        "id": "w_diai-Zsln3"
      },
      "source": [
        "Линейная регрессия"
      ]
    },
    {
      "cell_type": "code",
      "execution_count": null,
      "metadata": {
        "scrolled": false,
        "id": "W-q_V8Fhsln3",
        "outputId": "d89d58de-035d-4874-d81d-c94c98d73dfa"
      },
      "outputs": [
        {
          "name": "stdout",
          "output_type": "stream",
          "text": [
            "best_score: 24.51039549232996\n",
            "best_params: {'max_depth': 30, 'n_estimators': 300}\n",
            "CPU times: user 3min 55s, sys: 1.03 s, total: 3min 56s\n",
            "Wall time: 3min 56s\n"
          ]
        }
      ],
      "source": [
        "%%time\n",
        "model = RandomForestRegressor(random_state=random)\n",
        "\n",
        "param_grid = {\n",
        "    'n_estimators': [100, 300],\n",
        "    'max_depth': [10, 30]\n",
        "}\n",
        "\n",
        "tscv = TimeSeriesSplit(n_splits = 5)\n",
        "\n",
        "gs_model = GridSearchCV(\n",
        "    model,\n",
        "    param_grid=param_grid,\n",
        "    cv = tscv,\n",
        "    scoring='neg_root_mean_squared_error',\n",
        "    n_jobs=-1\n",
        ")\n",
        "\n",
        "gs_model.fit(features_train, target_train)\n",
        "\n",
        "print(f'best_score: {gs_model.best_score_ * -1}')\n",
        "\n",
        "print(f'best_params: {gs_model.best_params_}')"
      ]
    },
    {
      "cell_type": "markdown",
      "metadata": {
        "id": "hH1kh8uUsln4"
      },
      "source": [
        "Ridge"
      ]
    },
    {
      "cell_type": "code",
      "execution_count": null,
      "metadata": {
        "id": "n-67OstCsln4",
        "outputId": "a5aa48f0-5e9b-46a5-dcba-daffc40d41d9"
      },
      "outputs": [
        {
          "name": "stdout",
          "output_type": "stream",
          "text": [
            "best_score: 24.6471866590925\n",
            "best_params: {'alpha': 0.2, 'fit_intercept': False}\n",
            "CPU times: user 7.93 s, sys: 16.1 s, total: 24.1 s\n",
            "Wall time: 24 s\n"
          ]
        }
      ],
      "source": [
        "%%time\n",
        "model_ridge = Ridge(random_state=random)\n",
        "\n",
        "param_grid_ridge = {\n",
        "    'alpha': np.arange(0, 0.21, 0.01),\n",
        "    \"fit_intercept\": [True, False]\n",
        "}\n",
        "\n",
        "tscv = TimeSeriesSplit(n_splits = 5)\n",
        "\n",
        "gs_ridge = GridSearchCV(\n",
        "    model_ridge,\n",
        "    param_grid=param_grid_ridge,\n",
        "    cv = tscv,\n",
        "    scoring='neg_root_mean_squared_error',\n",
        "    n_jobs=-1\n",
        ")\n",
        "\n",
        "gs_ridge.fit(features_train, target_train)\n",
        "\n",
        "print(f'best_score: {gs_ridge.best_score_ * -1}')\n",
        "\n",
        "print(f'best_params: {gs_ridge.best_params_}')"
      ]
    },
    {
      "cell_type": "code",
      "execution_count": null,
      "metadata": {
        "id": "6I1xm2O0sln4",
        "outputId": "00357809-3721-4082-c5c4-aa474f1b3713"
      },
      "outputs": [
        {
          "data": {
            "text/html": [
              "<div>\n",
              "<style scoped>\n",
              "    .dataframe tbody tr th:only-of-type {\n",
              "        vertical-align: middle;\n",
              "    }\n",
              "\n",
              "    .dataframe tbody tr th {\n",
              "        vertical-align: top;\n",
              "    }\n",
              "\n",
              "    .dataframe thead th {\n",
              "        text-align: right;\n",
              "    }\n",
              "</style>\n",
              "<table border=\"1\" class=\"dataframe\">\n",
              "  <thead>\n",
              "    <tr style=\"text-align: right;\">\n",
              "      <th></th>\n",
              "      <th>RMSE</th>\n",
              "    </tr>\n",
              "  </thead>\n",
              "  <tbody>\n",
              "    <tr>\n",
              "      <th>Ridge</th>\n",
              "      <td>24.647187</td>\n",
              "    </tr>\n",
              "    <tr>\n",
              "      <th>RandomForest</th>\n",
              "      <td>24.510395</td>\n",
              "    </tr>\n",
              "  </tbody>\n",
              "</table>\n",
              "</div>"
            ],
            "text/plain": [
              "                   RMSE\n",
              "Ridge         24.647187\n",
              "RandomForest  24.510395"
            ]
          },
          "execution_count": 17,
          "metadata": {},
          "output_type": "execute_result"
        }
      ],
      "source": [
        "result = pd.DataFrame(\n",
        "    [gs_ridge.best_score_ * -1, gs_model.best_score_ * -1],\n",
        "    index=['Ridge', 'RandomForest'],\n",
        "    columns=['RMSE']\n",
        ")\n",
        "result"
      ]
    },
    {
      "cell_type": "markdown",
      "metadata": {
        "id": "S_-j4lK3sln4"
      },
      "source": [
        "Лучший результат у модели ridge."
      ]
    },
    {
      "cell_type": "markdown",
      "metadata": {
        "id": "HNYBv2g3sln5"
      },
      "source": [
        "## Тестирование"
      ]
    },
    {
      "cell_type": "code",
      "execution_count": null,
      "metadata": {
        "id": "GEWryo7_sln5",
        "outputId": "f86300ae-701a-49fc-b5bc-61bf34dd30cf"
      },
      "outputs": [
        {
          "name": "stdout",
          "output_type": "stream",
          "text": [
            "Ridge: 42.16824160073954\n"
          ]
        }
      ],
      "source": [
        "print(\"Ridge:\",(mean_squared_error(target_test,gs_model.predict(features_test),squared=False)))"
      ]
    },
    {
      "cell_type": "code",
      "execution_count": null,
      "metadata": {
        "id": "i_vIDkonsln5",
        "outputId": "fff63bdb-b450-4bc8-88a3-da3e877d011d"
      },
      "outputs": [
        {
          "data": {
            "image/png": "[encoded data removed]",
            "text/plain": [
              "<Figure size 432x288 with 1 Axes>"
            ]
          },
          "metadata": {
            "needs_background": "light"
          },
          "output_type": "display_data"
        }
      ],
      "source": [
        "pd.DataFrame(target_test).rolling(100).mean().plot();"
      ]
    },
    {
      "cell_type": "code",
      "execution_count": null,
      "metadata": {
        "id": "Wi8dcbihsln5",
        "outputId": "faaceb23-0f31-470e-b5b7-2d5f02ac14ae"
      },
      "outputs": [
        {
          "data": {
            "image/png": "[encoded data removed]",
            "text/plain": [
              "<Figure size 432x288 with 1 Axes>"
            ]
          },
          "metadata": {
            "needs_background": "light"
          },
          "output_type": "display_data"
        }
      ],
      "source": [
        "pd.DataFrame(gs_model.predict(features_test)).rolling(100).mean().plot();"
      ]
    },
    {
      "cell_type": "code",
      "execution_count": null,
      "metadata": {
        "id": "Zqm28GW2sln5",
        "outputId": "cbb9c027-1a11-4969-9db6-a2c8cb0c2251"
      },
      "outputs": [
        {
          "data": {
            "text/html": [
              "<div>\n",
              "<style scoped>\n",
              "    .dataframe tbody tr th:only-of-type {\n",
              "        vertical-align: middle;\n",
              "    }\n",
              "\n",
              "    .dataframe tbody tr th {\n",
              "        vertical-align: top;\n",
              "    }\n",
              "\n",
              "    .dataframe thead th {\n",
              "        text-align: right;\n",
              "    }\n",
              "</style>\n",
              "<table border=\"1\" class=\"dataframe\">\n",
              "  <thead>\n",
              "    <tr style=\"text-align: right;\">\n",
              "      <th></th>\n",
              "      <th>num_orders</th>\n",
              "    </tr>\n",
              "    <tr>\n",
              "      <th>datetime</th>\n",
              "      <th></th>\n",
              "    </tr>\n",
              "  </thead>\n",
              "  <tbody>\n",
              "    <tr>\n",
              "      <th>2018-08-13 14:00:00</th>\n",
              "      <td>102</td>\n",
              "    </tr>\n",
              "    <tr>\n",
              "      <th>2018-08-13 15:00:00</th>\n",
              "      <td>175</td>\n",
              "    </tr>\n",
              "    <tr>\n",
              "      <th>2018-08-13 16:00:00</th>\n",
              "      <td>144</td>\n",
              "    </tr>\n",
              "    <tr>\n",
              "      <th>2018-08-13 17:00:00</th>\n",
              "      <td>152</td>\n",
              "    </tr>\n",
              "    <tr>\n",
              "      <th>2018-08-13 18:00:00</th>\n",
              "      <td>104</td>\n",
              "    </tr>\n",
              "    <tr>\n",
              "      <th>2018-08-13 19:00:00</th>\n",
              "      <td>91</td>\n",
              "    </tr>\n",
              "    <tr>\n",
              "      <th>2018-08-13 20:00:00</th>\n",
              "      <td>82</td>\n",
              "    </tr>\n",
              "    <tr>\n",
              "      <th>2018-08-13 21:00:00</th>\n",
              "      <td>160</td>\n",
              "    </tr>\n",
              "    <tr>\n",
              "      <th>2018-08-13 22:00:00</th>\n",
              "      <td>104</td>\n",
              "    </tr>\n",
              "    <tr>\n",
              "      <th>2018-08-13 23:00:00</th>\n",
              "      <td>134</td>\n",
              "    </tr>\n",
              "    <tr>\n",
              "      <th>2018-08-14 00:00:00</th>\n",
              "      <td>139</td>\n",
              "    </tr>\n",
              "    <tr>\n",
              "      <th>2018-08-14 01:00:00</th>\n",
              "      <td>231</td>\n",
              "    </tr>\n",
              "    <tr>\n",
              "      <th>2018-08-14 02:00:00</th>\n",
              "      <td>108</td>\n",
              "    </tr>\n",
              "    <tr>\n",
              "      <th>2018-08-14 03:00:00</th>\n",
              "      <td>190</td>\n",
              "    </tr>\n",
              "    <tr>\n",
              "      <th>2018-08-14 04:00:00</th>\n",
              "      <td>139</td>\n",
              "    </tr>\n",
              "    <tr>\n",
              "      <th>2018-08-14 05:00:00</th>\n",
              "      <td>47</td>\n",
              "    </tr>\n",
              "    <tr>\n",
              "      <th>2018-08-14 06:00:00</th>\n",
              "      <td>45</td>\n",
              "    </tr>\n",
              "    <tr>\n",
              "      <th>2018-08-14 07:00:00</th>\n",
              "      <td>54</td>\n",
              "    </tr>\n",
              "    <tr>\n",
              "      <th>2018-08-14 08:00:00</th>\n",
              "      <td>91</td>\n",
              "    </tr>\n",
              "    <tr>\n",
              "      <th>2018-08-14 09:00:00</th>\n",
              "      <td>135</td>\n",
              "    </tr>\n",
              "  </tbody>\n",
              "</table>\n",
              "</div>"
            ],
            "text/plain": [
              "                     num_orders\n",
              "datetime                       \n",
              "2018-08-13 14:00:00         102\n",
              "2018-08-13 15:00:00         175\n",
              "2018-08-13 16:00:00         144\n",
              "2018-08-13 17:00:00         152\n",
              "2018-08-13 18:00:00         104\n",
              "2018-08-13 19:00:00          91\n",
              "2018-08-13 20:00:00          82\n",
              "2018-08-13 21:00:00         160\n",
              "2018-08-13 22:00:00         104\n",
              "2018-08-13 23:00:00         134\n",
              "2018-08-14 00:00:00         139\n",
              "2018-08-14 01:00:00         231\n",
              "2018-08-14 02:00:00         108\n",
              "2018-08-14 03:00:00         190\n",
              "2018-08-14 04:00:00         139\n",
              "2018-08-14 05:00:00          47\n",
              "2018-08-14 06:00:00          45\n",
              "2018-08-14 07:00:00          54\n",
              "2018-08-14 08:00:00          91\n",
              "2018-08-14 09:00:00         135"
            ]
          },
          "execution_count": 21,
          "metadata": {},
          "output_type": "execute_result"
        }
      ],
      "source": [
        "pd.DataFrame(target_test).head(20)"
      ]
    },
    {
      "cell_type": "code",
      "execution_count": null,
      "metadata": {
        "id": "hkOiOEHtsln6",
        "outputId": "8ccc5a3a-888b-4c17-db4d-95e71bf2890a"
      },
      "outputs": [
        {
          "data": {
            "text/html": [
              "<div>\n",
              "<style scoped>\n",
              "    .dataframe tbody tr th:only-of-type {\n",
              "        vertical-align: middle;\n",
              "    }\n",
              "\n",
              "    .dataframe tbody tr th {\n",
              "        vertical-align: top;\n",
              "    }\n",
              "\n",
              "    .dataframe thead th {\n",
              "        text-align: right;\n",
              "    }\n",
              "</style>\n",
              "<table border=\"1\" class=\"dataframe\">\n",
              "  <thead>\n",
              "    <tr style=\"text-align: right;\">\n",
              "      <th></th>\n",
              "      <th>0</th>\n",
              "    </tr>\n",
              "  </thead>\n",
              "  <tbody>\n",
              "    <tr>\n",
              "      <th>0</th>\n",
              "      <td>102.783333</td>\n",
              "    </tr>\n",
              "    <tr>\n",
              "      <th>1</th>\n",
              "      <td>139.826667</td>\n",
              "    </tr>\n",
              "    <tr>\n",
              "      <th>2</th>\n",
              "      <td>155.410000</td>\n",
              "    </tr>\n",
              "    <tr>\n",
              "      <th>3</th>\n",
              "      <td>130.573333</td>\n",
              "    </tr>\n",
              "    <tr>\n",
              "      <th>4</th>\n",
              "      <td>87.086667</td>\n",
              "    </tr>\n",
              "    <tr>\n",
              "      <th>5</th>\n",
              "      <td>102.473333</td>\n",
              "    </tr>\n",
              "    <tr>\n",
              "      <th>6</th>\n",
              "      <td>97.596667</td>\n",
              "    </tr>\n",
              "    <tr>\n",
              "      <th>7</th>\n",
              "      <td>110.940000</td>\n",
              "    </tr>\n",
              "    <tr>\n",
              "      <th>8</th>\n",
              "      <td>129.670000</td>\n",
              "    </tr>\n",
              "    <tr>\n",
              "      <th>9</th>\n",
              "      <td>161.040000</td>\n",
              "    </tr>\n",
              "    <tr>\n",
              "      <th>10</th>\n",
              "      <td>174.583333</td>\n",
              "    </tr>\n",
              "    <tr>\n",
              "      <th>11</th>\n",
              "      <td>147.583333</td>\n",
              "    </tr>\n",
              "    <tr>\n",
              "      <th>12</th>\n",
              "      <td>151.650000</td>\n",
              "    </tr>\n",
              "    <tr>\n",
              "      <th>13</th>\n",
              "      <td>142.450000</td>\n",
              "    </tr>\n",
              "    <tr>\n",
              "      <th>14</th>\n",
              "      <td>129.143333</td>\n",
              "    </tr>\n",
              "    <tr>\n",
              "      <th>15</th>\n",
              "      <td>73.960000</td>\n",
              "    </tr>\n",
              "    <tr>\n",
              "      <th>16</th>\n",
              "      <td>43.173333</td>\n",
              "    </tr>\n",
              "    <tr>\n",
              "      <th>17</th>\n",
              "      <td>41.333333</td>\n",
              "    </tr>\n",
              "    <tr>\n",
              "      <th>18</th>\n",
              "      <td>99.106667</td>\n",
              "    </tr>\n",
              "    <tr>\n",
              "      <th>19</th>\n",
              "      <td>113.653333</td>\n",
              "    </tr>\n",
              "  </tbody>\n",
              "</table>\n",
              "</div>"
            ],
            "text/plain": [
              "             0\n",
              "0   102.783333\n",
              "1   139.826667\n",
              "2   155.410000\n",
              "3   130.573333\n",
              "4    87.086667\n",
              "5   102.473333\n",
              "6    97.596667\n",
              "7   110.940000\n",
              "8   129.670000\n",
              "9   161.040000\n",
              "10  174.583333\n",
              "11  147.583333\n",
              "12  151.650000\n",
              "13  142.450000\n",
              "14  129.143333\n",
              "15   73.960000\n",
              "16   43.173333\n",
              "17   41.333333\n",
              "18   99.106667\n",
              "19  113.653333"
            ]
          },
          "execution_count": 22,
          "metadata": {},
          "output_type": "execute_result"
        }
      ],
      "source": [
        "pd.DataFrame(gs_model.predict(features_test)).head(20)"
      ]
    },
    {
      "cell_type": "markdown",
      "metadata": {
        "id": "PIRnsIlBsln6"
      },
      "source": [
        "### Вывод"
      ]
    },
    {
      "cell_type": "markdown",
      "metadata": {
        "id": "kO0DTtPXsln6"
      },
      "source": [
        "В ходе обработки данные были разделены по часам, ряд данных не является стационарным, т.к. меняется его среднее. Добавлены признаки и разделение данных на выборки. Обучено две модели RandomForest и ridge, лучший результат показала RandomForest, с средней ошибкой на обучающей выборке 24.5, для сравнения у Ridge почти столько же 24,6. На тестовой выборке модель RandomForest показа значение rmse 42.16, что менее порогового значения в 48. Рекомендуется использование этой модели, т.к. время обучения и значение ошибки у неё лучше линейной регрессии."
      ]
    }
  ],
  "metadata": {
    "ExecuteTimeLog": [
      {
        "duration": 412,
        "start_time": "2023-04-13T16:29:12.827Z"
      },
      {
        "duration": 119,
        "start_time": "2023-04-13T16:29:14.077Z"
      },
      {
        "duration": 15,
        "start_time": "2023-04-13T16:29:27.434Z"
      },
      {
        "duration": 12,
        "start_time": "2023-04-13T16:29:47.601Z"
      },
      {
        "duration": 223,
        "start_time": "2023-04-13T17:10:08.534Z"
      },
      {
        "duration": 8,
        "start_time": "2023-04-13T17:10:14.679Z"
      },
      {
        "duration": 4,
        "start_time": "2023-04-13T17:11:58.273Z"
      },
      {
        "duration": 5,
        "start_time": "2023-04-13T17:12:00.105Z"
      },
      {
        "duration": 1026,
        "start_time": "2023-04-13T17:33:59.509Z"
      },
      {
        "duration": 70,
        "start_time": "2023-04-13T17:34:51.991Z"
      },
      {
        "duration": 396,
        "start_time": "2023-04-13T17:35:03.342Z"
      },
      {
        "duration": 46,
        "start_time": "2023-04-13T17:35:03.740Z"
      },
      {
        "duration": 15,
        "start_time": "2023-04-13T17:35:03.934Z"
      },
      {
        "duration": 13,
        "start_time": "2023-04-13T17:35:04.222Z"
      },
      {
        "duration": 8,
        "start_time": "2023-04-13T17:35:04.510Z"
      },
      {
        "duration": 22,
        "start_time": "2023-04-13T17:35:04.766Z"
      },
      {
        "duration": 5,
        "start_time": "2023-04-13T17:35:05.111Z"
      },
      {
        "duration": 842,
        "start_time": "2023-04-13T17:35:12.743Z"
      },
      {
        "duration": 228,
        "start_time": "2023-04-13T17:36:33.487Z"
      },
      {
        "duration": 419,
        "start_time": "2023-04-14T17:22:48.337Z"
      },
      {
        "duration": 136,
        "start_time": "2023-04-14T17:22:50.088Z"
      },
      {
        "duration": 14,
        "start_time": "2023-04-14T17:22:51.080Z"
      },
      {
        "duration": 12,
        "start_time": "2023-04-14T17:22:54.400Z"
      },
      {
        "duration": 9,
        "start_time": "2023-04-14T17:22:55.871Z"
      },
      {
        "duration": 10,
        "start_time": "2023-04-14T17:22:56.491Z"
      },
      {
        "duration": 5,
        "start_time": "2023-04-14T17:22:58.032Z"
      },
      {
        "duration": 1100,
        "start_time": "2023-04-14T17:22:58.400Z"
      },
      {
        "duration": 199,
        "start_time": "2023-04-14T17:22:59.502Z"
      },
      {
        "duration": 7,
        "start_time": "2023-04-14T17:22:59.703Z"
      },
      {
        "duration": 7,
        "start_time": "2023-04-14T17:23:15.979Z"
      },
      {
        "duration": 813,
        "start_time": "2023-04-14T17:23:22.087Z"
      },
      {
        "duration": 350,
        "start_time": "2023-04-14T17:25:25.106Z"
      },
      {
        "duration": 37,
        "start_time": "2023-04-14T17:25:25.506Z"
      },
      {
        "duration": 13,
        "start_time": "2023-04-14T17:25:25.690Z"
      },
      {
        "duration": 12,
        "start_time": "2023-04-14T17:25:25.890Z"
      },
      {
        "duration": 9,
        "start_time": "2023-04-14T17:25:26.266Z"
      },
      {
        "duration": 12,
        "start_time": "2023-04-14T17:25:26.466Z"
      },
      {
        "duration": 5,
        "start_time": "2023-04-14T17:25:27.010Z"
      },
      {
        "duration": 924,
        "start_time": "2023-04-14T17:25:27.226Z"
      },
      {
        "duration": 288,
        "start_time": "2023-04-14T17:25:28.155Z"
      },
      {
        "duration": 226,
        "start_time": "2023-04-14T17:25:28.445Z"
      },
      {
        "duration": 223,
        "start_time": "2023-04-14T17:25:38.603Z"
      },
      {
        "duration": 189,
        "start_time": "2023-04-14T17:28:33.197Z"
      },
      {
        "duration": 218,
        "start_time": "2023-04-14T17:28:43.469Z"
      },
      {
        "duration": 265,
        "start_time": "2023-04-14T17:28:53.958Z"
      },
      {
        "duration": 76,
        "start_time": "2023-04-14T17:37:02.445Z"
      },
      {
        "duration": 527,
        "start_time": "2023-04-14T17:37:14.941Z"
      },
      {
        "duration": 42,
        "start_time": "2023-04-14T17:37:19.612Z"
      },
      {
        "duration": 11,
        "start_time": "2023-04-14T17:37:45.870Z"
      },
      {
        "duration": 885,
        "start_time": "2023-04-14T17:37:59.258Z"
      },
      {
        "duration": 44,
        "start_time": "2023-04-14T17:38:00.145Z"
      },
      {
        "duration": 21,
        "start_time": "2023-04-14T17:38:00.191Z"
      },
      {
        "duration": 37,
        "start_time": "2023-04-14T17:38:00.214Z"
      },
      {
        "duration": 27,
        "start_time": "2023-04-14T17:38:00.253Z"
      },
      {
        "duration": 42,
        "start_time": "2023-04-14T17:38:00.281Z"
      },
      {
        "duration": 17,
        "start_time": "2023-04-14T17:38:00.325Z"
      },
      {
        "duration": 993,
        "start_time": "2023-04-14T17:38:00.344Z"
      },
      {
        "duration": 208,
        "start_time": "2023-04-14T17:38:01.339Z"
      },
      {
        "duration": 221,
        "start_time": "2023-04-14T17:38:01.549Z"
      },
      {
        "duration": 108,
        "start_time": "2023-04-14T17:38:01.772Z"
      },
      {
        "duration": 3,
        "start_time": "2023-04-14T17:38:22.022Z"
      },
      {
        "duration": 11,
        "start_time": "2023-04-14T17:38:25.511Z"
      },
      {
        "duration": 171,
        "start_time": "2023-04-14T17:39:20.662Z"
      },
      {
        "duration": 198,
        "start_time": "2023-04-14T17:40:42.645Z"
      },
      {
        "duration": 325,
        "start_time": "2023-04-14T17:41:30.298Z"
      },
      {
        "duration": 198,
        "start_time": "2023-04-14T18:00:17.475Z"
      },
      {
        "duration": 203,
        "start_time": "2023-04-14T18:01:06.371Z"
      },
      {
        "duration": 187,
        "start_time": "2023-04-14T18:01:18.803Z"
      },
      {
        "duration": 209,
        "start_time": "2023-04-14T18:01:25.986Z"
      },
      {
        "duration": 1166,
        "start_time": "2023-04-14T18:04:00.690Z"
      },
      {
        "duration": 39,
        "start_time": "2023-04-14T18:04:01.858Z"
      },
      {
        "duration": 51,
        "start_time": "2023-04-14T18:04:01.899Z"
      },
      {
        "duration": 71,
        "start_time": "2023-04-14T18:04:01.952Z"
      },
      {
        "duration": 30,
        "start_time": "2023-04-14T18:04:02.025Z"
      },
      {
        "duration": 45,
        "start_time": "2023-04-14T18:04:02.057Z"
      },
      {
        "duration": 34,
        "start_time": "2023-04-14T18:04:02.104Z"
      },
      {
        "duration": 707,
        "start_time": "2023-04-14T18:04:02.140Z"
      },
      {
        "duration": 212,
        "start_time": "2023-04-14T18:04:02.849Z"
      },
      {
        "duration": 220,
        "start_time": "2023-04-14T18:04:03.064Z"
      },
      {
        "duration": 220,
        "start_time": "2023-04-14T18:04:03.286Z"
      },
      {
        "duration": 103,
        "start_time": "2023-04-14T18:04:03.508Z"
      },
      {
        "duration": 296,
        "start_time": "2023-04-14T18:04:30.365Z"
      },
      {
        "duration": 7,
        "start_time": "2023-04-14T18:04:34.053Z"
      },
      {
        "duration": 1360,
        "start_time": "2023-04-14T18:04:50.519Z"
      },
      {
        "duration": 40,
        "start_time": "2023-04-14T18:04:51.882Z"
      },
      {
        "duration": 12,
        "start_time": "2023-04-14T18:04:51.924Z"
      },
      {
        "duration": 16,
        "start_time": "2023-04-14T18:04:51.938Z"
      },
      {
        "duration": 17,
        "start_time": "2023-04-14T18:04:51.956Z"
      },
      {
        "duration": 13,
        "start_time": "2023-04-14T18:04:51.975Z"
      },
      {
        "duration": 5,
        "start_time": "2023-04-14T18:04:51.991Z"
      },
      {
        "duration": 705,
        "start_time": "2023-04-14T18:04:51.998Z"
      },
      {
        "duration": 235,
        "start_time": "2023-04-14T18:04:52.706Z"
      },
      {
        "duration": 325,
        "start_time": "2023-04-14T18:04:52.943Z"
      },
      {
        "duration": 259,
        "start_time": "2023-04-14T18:04:53.270Z"
      },
      {
        "duration": 6,
        "start_time": "2023-04-14T18:04:53.531Z"
      },
      {
        "duration": 204,
        "start_time": "2023-04-14T18:23:15.142Z"
      },
      {
        "duration": 224,
        "start_time": "2023-04-14T18:23:23.366Z"
      },
      {
        "duration": 200,
        "start_time": "2023-04-14T18:23:28.446Z"
      },
      {
        "duration": 221,
        "start_time": "2023-04-14T18:23:32.997Z"
      },
      {
        "duration": 292,
        "start_time": "2023-04-14T18:23:39.078Z"
      },
      {
        "duration": 188,
        "start_time": "2023-04-14T18:23:46.614Z"
      },
      {
        "duration": 219,
        "start_time": "2023-04-14T18:23:51.910Z"
      },
      {
        "duration": 227,
        "start_time": "2023-04-14T18:27:30.649Z"
      },
      {
        "duration": 137,
        "start_time": "2023-04-14T18:27:44.666Z"
      },
      {
        "duration": 140,
        "start_time": "2023-04-14T18:27:50.642Z"
      },
      {
        "duration": 157,
        "start_time": "2023-04-14T18:28:05.954Z"
      },
      {
        "duration": 1422,
        "start_time": "2023-04-14T18:38:43.118Z"
      },
      {
        "duration": 38,
        "start_time": "2023-04-14T18:38:44.542Z"
      },
      {
        "duration": 11,
        "start_time": "2023-04-14T18:38:44.581Z"
      },
      {
        "duration": 14,
        "start_time": "2023-04-14T18:38:44.595Z"
      },
      {
        "duration": 14,
        "start_time": "2023-04-14T18:38:44.611Z"
      },
      {
        "duration": 12,
        "start_time": "2023-04-14T18:38:44.626Z"
      },
      {
        "duration": 18,
        "start_time": "2023-04-14T18:38:44.640Z"
      },
      {
        "duration": 629,
        "start_time": "2023-04-14T18:38:44.660Z"
      },
      {
        "duration": 9,
        "start_time": "2023-04-14T18:38:45.292Z"
      },
      {
        "duration": 297,
        "start_time": "2023-04-14T18:38:45.304Z"
      },
      {
        "duration": 157,
        "start_time": "2023-04-14T18:38:45.603Z"
      },
      {
        "duration": 18,
        "start_time": "2023-04-14T18:38:45.762Z"
      },
      {
        "duration": 5,
        "start_time": "2023-04-14T18:38:45.781Z"
      },
      {
        "duration": 113,
        "start_time": "2023-04-14T18:38:45.788Z"
      },
      {
        "duration": 23,
        "start_time": "2023-04-14T18:39:03.164Z"
      },
      {
        "duration": 32,
        "start_time": "2023-04-14T18:39:06.828Z"
      },
      {
        "duration": 1375,
        "start_time": "2023-04-14T18:41:56.185Z"
      },
      {
        "duration": 40,
        "start_time": "2023-04-14T18:41:57.562Z"
      },
      {
        "duration": 13,
        "start_time": "2023-04-14T18:41:57.604Z"
      },
      {
        "duration": 13,
        "start_time": "2023-04-14T18:41:57.620Z"
      },
      {
        "duration": 10,
        "start_time": "2023-04-14T18:41:57.634Z"
      },
      {
        "duration": 14,
        "start_time": "2023-04-14T18:41:57.656Z"
      },
      {
        "duration": 6,
        "start_time": "2023-04-14T18:41:57.672Z"
      },
      {
        "duration": 769,
        "start_time": "2023-04-14T18:41:57.680Z"
      },
      {
        "duration": 15,
        "start_time": "2023-04-14T18:41:58.451Z"
      },
      {
        "duration": 429,
        "start_time": "2023-04-14T18:41:58.470Z"
      },
      {
        "duration": 222,
        "start_time": "2023-04-14T18:41:58.901Z"
      },
      {
        "duration": 48,
        "start_time": "2023-04-14T18:41:59.125Z"
      },
      {
        "duration": 8,
        "start_time": "2023-04-14T18:41:59.176Z"
      },
      {
        "duration": 91,
        "start_time": "2023-04-14T18:41:59.186Z"
      },
      {
        "duration": 1441,
        "start_time": "2023-04-14T18:45:16.872Z"
      },
      {
        "duration": 51,
        "start_time": "2023-04-14T18:45:18.315Z"
      },
      {
        "duration": 14,
        "start_time": "2023-04-14T18:45:18.370Z"
      },
      {
        "duration": 14,
        "start_time": "2023-04-14T18:45:18.386Z"
      },
      {
        "duration": 8,
        "start_time": "2023-04-14T18:45:18.403Z"
      },
      {
        "duration": 13,
        "start_time": "2023-04-14T18:45:18.413Z"
      },
      {
        "duration": 39,
        "start_time": "2023-04-14T18:45:18.427Z"
      },
      {
        "duration": 740,
        "start_time": "2023-04-14T18:45:18.467Z"
      },
      {
        "duration": 9,
        "start_time": "2023-04-14T18:45:19.209Z"
      },
      {
        "duration": 340,
        "start_time": "2023-04-14T18:45:19.220Z"
      },
      {
        "duration": 171,
        "start_time": "2023-04-14T18:45:19.563Z"
      },
      {
        "duration": 132,
        "start_time": "2023-04-14T18:45:19.736Z"
      },
      {
        "duration": 8,
        "start_time": "2023-04-14T18:45:19.870Z"
      },
      {
        "duration": 382,
        "start_time": "2023-04-14T18:45:19.881Z"
      },
      {
        "duration": 1969,
        "start_time": "2023-04-14T18:45:58.368Z"
      },
      {
        "duration": 47,
        "start_time": "2023-04-14T18:46:00.339Z"
      },
      {
        "duration": 11,
        "start_time": "2023-04-14T18:46:00.387Z"
      },
      {
        "duration": 21,
        "start_time": "2023-04-14T18:46:00.399Z"
      },
      {
        "duration": 10,
        "start_time": "2023-04-14T18:46:00.423Z"
      },
      {
        "duration": 41,
        "start_time": "2023-04-14T18:46:00.434Z"
      },
      {
        "duration": 11,
        "start_time": "2023-04-14T18:46:00.477Z"
      },
      {
        "duration": 780,
        "start_time": "2023-04-14T18:46:00.490Z"
      },
      {
        "duration": 11,
        "start_time": "2023-04-14T18:46:01.273Z"
      },
      {
        "duration": 323,
        "start_time": "2023-04-14T18:46:01.286Z"
      },
      {
        "duration": 179,
        "start_time": "2023-04-14T18:46:01.610Z"
      },
      {
        "duration": 148,
        "start_time": "2023-04-14T18:46:01.791Z"
      },
      {
        "duration": 7,
        "start_time": "2023-04-14T18:46:01.941Z"
      },
      {
        "duration": 524,
        "start_time": "2023-04-14T18:46:01.960Z"
      },
      {
        "duration": 1464,
        "start_time": "2023-04-14T18:55:20.287Z"
      },
      {
        "duration": 45,
        "start_time": "2023-04-14T18:55:21.754Z"
      },
      {
        "duration": 13,
        "start_time": "2023-04-14T18:55:21.801Z"
      },
      {
        "duration": 63,
        "start_time": "2023-04-14T18:55:21.816Z"
      },
      {
        "duration": 17,
        "start_time": "2023-04-14T18:55:21.881Z"
      },
      {
        "duration": 13,
        "start_time": "2023-04-14T18:55:21.900Z"
      },
      {
        "duration": 5,
        "start_time": "2023-04-14T18:55:21.915Z"
      },
      {
        "duration": 764,
        "start_time": "2023-04-14T18:55:21.922Z"
      },
      {
        "duration": 8,
        "start_time": "2023-04-14T18:55:22.688Z"
      },
      {
        "duration": 201,
        "start_time": "2023-04-14T18:55:22.698Z"
      },
      {
        "duration": 143,
        "start_time": "2023-04-14T18:55:22.901Z"
      },
      {
        "duration": 153,
        "start_time": "2023-04-14T18:55:23.046Z"
      },
      {
        "duration": 8,
        "start_time": "2023-04-14T18:55:23.201Z"
      },
      {
        "duration": 252,
        "start_time": "2023-04-14T18:55:23.212Z"
      },
      {
        "duration": 1647,
        "start_time": "2023-04-14T19:04:02.624Z"
      },
      {
        "duration": 40,
        "start_time": "2023-04-14T19:04:04.273Z"
      },
      {
        "duration": 13,
        "start_time": "2023-04-14T19:04:04.315Z"
      },
      {
        "duration": 13,
        "start_time": "2023-04-14T19:04:04.330Z"
      },
      {
        "duration": 13,
        "start_time": "2023-04-14T19:04:04.345Z"
      },
      {
        "duration": 20,
        "start_time": "2023-04-14T19:04:04.359Z"
      },
      {
        "duration": 7,
        "start_time": "2023-04-14T19:04:04.383Z"
      },
      {
        "duration": 770,
        "start_time": "2023-04-14T19:04:04.392Z"
      },
      {
        "duration": 9,
        "start_time": "2023-04-14T19:04:05.164Z"
      },
      {
        "duration": 248,
        "start_time": "2023-04-14T19:04:05.175Z"
      },
      {
        "duration": 198,
        "start_time": "2023-04-14T19:04:05.425Z"
      },
      {
        "duration": 18,
        "start_time": "2023-04-14T19:04:05.625Z"
      },
      {
        "duration": 6,
        "start_time": "2023-04-14T19:04:05.655Z"
      },
      {
        "duration": 193,
        "start_time": "2023-04-14T19:04:05.664Z"
      },
      {
        "duration": 1389,
        "start_time": "2023-04-14T19:07:06.271Z"
      },
      {
        "duration": 38,
        "start_time": "2023-04-14T19:07:07.661Z"
      },
      {
        "duration": 11,
        "start_time": "2023-04-14T19:07:07.700Z"
      },
      {
        "duration": 17,
        "start_time": "2023-04-14T19:07:07.713Z"
      },
      {
        "duration": 17,
        "start_time": "2023-04-14T19:07:07.733Z"
      },
      {
        "duration": 19,
        "start_time": "2023-04-14T19:07:07.752Z"
      },
      {
        "duration": 7,
        "start_time": "2023-04-14T19:07:07.772Z"
      },
      {
        "duration": 724,
        "start_time": "2023-04-14T19:07:07.780Z"
      },
      {
        "duration": 8,
        "start_time": "2023-04-14T19:07:08.506Z"
      },
      {
        "duration": 228,
        "start_time": "2023-04-14T19:07:08.516Z"
      },
      {
        "duration": 170,
        "start_time": "2023-04-14T19:07:08.746Z"
      },
      {
        "duration": 19,
        "start_time": "2023-04-14T19:07:08.918Z"
      },
      {
        "duration": 21,
        "start_time": "2023-04-14T19:07:08.939Z"
      },
      {
        "duration": 22,
        "start_time": "2023-04-14T19:07:08.963Z"
      },
      {
        "duration": 164177,
        "start_time": "2023-04-14T19:07:08.987Z"
      },
      {
        "duration": 3,
        "start_time": "2023-04-14T19:09:53.166Z"
      },
      {
        "duration": 44,
        "start_time": "2023-04-14T19:09:53.171Z"
      },
      {
        "duration": 4,
        "start_time": "2023-04-14T19:10:28.512Z"
      },
      {
        "duration": 1420,
        "start_time": "2023-04-14T19:12:43.769Z"
      },
      {
        "duration": 41,
        "start_time": "2023-04-14T19:12:45.191Z"
      },
      {
        "duration": 12,
        "start_time": "2023-04-14T19:12:45.234Z"
      },
      {
        "duration": 17,
        "start_time": "2023-04-14T19:12:45.248Z"
      },
      {
        "duration": 10,
        "start_time": "2023-04-14T19:12:45.267Z"
      },
      {
        "duration": 13,
        "start_time": "2023-04-14T19:12:45.279Z"
      },
      {
        "duration": 5,
        "start_time": "2023-04-14T19:12:45.294Z"
      },
      {
        "duration": 763,
        "start_time": "2023-04-14T19:12:45.300Z"
      },
      {
        "duration": 9,
        "start_time": "2023-04-14T19:12:46.065Z"
      },
      {
        "duration": 220,
        "start_time": "2023-04-14T19:12:46.077Z"
      },
      {
        "duration": 160,
        "start_time": "2023-04-14T19:12:46.298Z"
      },
      {
        "duration": 19,
        "start_time": "2023-04-14T19:12:46.460Z"
      },
      {
        "duration": 5,
        "start_time": "2023-04-14T19:12:46.480Z"
      },
      {
        "duration": 73,
        "start_time": "2023-04-14T19:12:46.487Z"
      },
      {
        "duration": 2206,
        "start_time": "2023-04-14T19:12:46.564Z"
      },
      {
        "duration": 1432,
        "start_time": "2023-04-14T19:19:16.308Z"
      },
      {
        "duration": 41,
        "start_time": "2023-04-14T19:19:17.742Z"
      },
      {
        "duration": 13,
        "start_time": "2023-04-14T19:19:17.787Z"
      },
      {
        "duration": 13,
        "start_time": "2023-04-14T19:19:17.803Z"
      },
      {
        "duration": 13,
        "start_time": "2023-04-14T19:19:17.818Z"
      },
      {
        "duration": 33,
        "start_time": "2023-04-14T19:19:17.833Z"
      },
      {
        "duration": 5,
        "start_time": "2023-04-14T19:19:17.869Z"
      },
      {
        "duration": 762,
        "start_time": "2023-04-14T19:19:17.876Z"
      },
      {
        "duration": 9,
        "start_time": "2023-04-14T19:19:18.640Z"
      },
      {
        "duration": 233,
        "start_time": "2023-04-14T19:19:18.656Z"
      },
      {
        "duration": 172,
        "start_time": "2023-04-14T19:19:18.891Z"
      },
      {
        "duration": 19,
        "start_time": "2023-04-14T19:19:19.065Z"
      },
      {
        "duration": 5,
        "start_time": "2023-04-14T19:19:19.087Z"
      },
      {
        "duration": 80,
        "start_time": "2023-04-14T19:19:19.094Z"
      },
      {
        "duration": 2213,
        "start_time": "2023-04-14T19:19:19.259Z"
      },
      {
        "duration": 1525,
        "start_time": "2023-04-14T19:20:21.767Z"
      },
      {
        "duration": 39,
        "start_time": "2023-04-14T19:20:23.294Z"
      },
      {
        "duration": 11,
        "start_time": "2023-04-14T19:20:23.335Z"
      },
      {
        "duration": 20,
        "start_time": "2023-04-14T19:20:23.348Z"
      },
      {
        "duration": 9,
        "start_time": "2023-04-14T19:20:23.370Z"
      },
      {
        "duration": 28,
        "start_time": "2023-04-14T19:20:23.382Z"
      },
      {
        "duration": 15,
        "start_time": "2023-04-14T19:20:23.415Z"
      },
      {
        "duration": 799,
        "start_time": "2023-04-14T19:20:23.433Z"
      },
      {
        "duration": 8,
        "start_time": "2023-04-14T19:20:24.235Z"
      },
      {
        "duration": 233,
        "start_time": "2023-04-14T19:20:24.245Z"
      },
      {
        "duration": 157,
        "start_time": "2023-04-14T19:20:24.479Z"
      },
      {
        "duration": 29,
        "start_time": "2023-04-14T19:20:24.638Z"
      },
      {
        "duration": 5,
        "start_time": "2023-04-14T19:20:24.668Z"
      },
      {
        "duration": 17,
        "start_time": "2023-04-14T19:20:24.676Z"
      },
      {
        "duration": 1881,
        "start_time": "2023-04-14T19:20:24.695Z"
      },
      {
        "duration": 79,
        "start_time": "2023-04-14T19:20:26.578Z"
      },
      {
        "duration": 1460,
        "start_time": "2023-04-14T19:20:56.717Z"
      },
      {
        "duration": 40,
        "start_time": "2023-04-14T19:20:58.180Z"
      },
      {
        "duration": 12,
        "start_time": "2023-04-14T19:20:58.222Z"
      },
      {
        "duration": 17,
        "start_time": "2023-04-14T19:20:58.236Z"
      },
      {
        "duration": 14,
        "start_time": "2023-04-14T19:20:58.255Z"
      },
      {
        "duration": 16,
        "start_time": "2023-04-14T19:20:58.271Z"
      },
      {
        "duration": 5,
        "start_time": "2023-04-14T19:20:58.288Z"
      },
      {
        "duration": 754,
        "start_time": "2023-04-14T19:20:58.294Z"
      },
      {
        "duration": 11,
        "start_time": "2023-04-14T19:20:59.050Z"
      },
      {
        "duration": 225,
        "start_time": "2023-04-14T19:20:59.064Z"
      },
      {
        "duration": 178,
        "start_time": "2023-04-14T19:20:59.290Z"
      },
      {
        "duration": 161,
        "start_time": "2023-04-14T19:20:59.470Z"
      },
      {
        "duration": 7,
        "start_time": "2023-04-14T19:20:59.633Z"
      },
      {
        "duration": 615,
        "start_time": "2023-04-14T19:20:59.642Z"
      },
      {
        "duration": 1553,
        "start_time": "2023-04-14T19:21:32.035Z"
      },
      {
        "duration": 42,
        "start_time": "2023-04-14T19:21:33.590Z"
      },
      {
        "duration": 14,
        "start_time": "2023-04-14T19:21:33.634Z"
      },
      {
        "duration": 14,
        "start_time": "2023-04-14T19:21:33.650Z"
      },
      {
        "duration": 11,
        "start_time": "2023-04-14T19:21:33.666Z"
      },
      {
        "duration": 16,
        "start_time": "2023-04-14T19:21:33.679Z"
      },
      {
        "duration": 4,
        "start_time": "2023-04-14T19:21:33.697Z"
      },
      {
        "duration": 826,
        "start_time": "2023-04-14T19:21:33.703Z"
      },
      {
        "duration": 9,
        "start_time": "2023-04-14T19:21:34.531Z"
      },
      {
        "duration": 240,
        "start_time": "2023-04-14T19:21:34.543Z"
      },
      {
        "duration": 176,
        "start_time": "2023-04-14T19:21:34.785Z"
      },
      {
        "duration": 32,
        "start_time": "2023-04-14T19:21:34.963Z"
      },
      {
        "duration": 6,
        "start_time": "2023-04-14T19:21:34.997Z"
      },
      {
        "duration": 55,
        "start_time": "2023-04-14T19:21:35.005Z"
      },
      {
        "duration": 13798,
        "start_time": "2023-04-14T19:21:35.063Z"
      },
      {
        "duration": 98,
        "start_time": "2023-04-14T19:21:48.863Z"
      },
      {
        "duration": 1411,
        "start_time": "2023-04-14T19:23:27.762Z"
      },
      {
        "duration": 39,
        "start_time": "2023-04-14T19:23:29.175Z"
      },
      {
        "duration": 11,
        "start_time": "2023-04-14T19:23:29.215Z"
      },
      {
        "duration": 12,
        "start_time": "2023-04-14T19:23:29.228Z"
      },
      {
        "duration": 19,
        "start_time": "2023-04-14T19:23:29.242Z"
      },
      {
        "duration": 12,
        "start_time": "2023-04-14T19:23:29.262Z"
      },
      {
        "duration": 3,
        "start_time": "2023-04-14T19:23:29.276Z"
      },
      {
        "duration": 783,
        "start_time": "2023-04-14T19:23:29.281Z"
      },
      {
        "duration": 8,
        "start_time": "2023-04-14T19:23:30.066Z"
      },
      {
        "duration": 229,
        "start_time": "2023-04-14T19:23:30.076Z"
      },
      {
        "duration": 177,
        "start_time": "2023-04-14T19:23:30.307Z"
      },
      {
        "duration": 58,
        "start_time": "2023-04-14T19:23:30.487Z"
      },
      {
        "duration": 6,
        "start_time": "2023-04-14T19:23:30.557Z"
      },
      {
        "duration": 292,
        "start_time": "2023-04-14T19:23:30.567Z"
      },
      {
        "duration": 11202,
        "start_time": "2023-04-14T19:23:30.861Z"
      },
      {
        "duration": 99,
        "start_time": "2023-04-14T19:23:42.066Z"
      },
      {
        "duration": 1562,
        "start_time": "2023-04-14T19:24:34.203Z"
      },
      {
        "duration": 42,
        "start_time": "2023-04-14T19:24:35.767Z"
      },
      {
        "duration": 12,
        "start_time": "2023-04-14T19:24:35.813Z"
      },
      {
        "duration": 21,
        "start_time": "2023-04-14T19:24:35.827Z"
      },
      {
        "duration": 18,
        "start_time": "2023-04-14T19:24:35.849Z"
      },
      {
        "duration": 27,
        "start_time": "2023-04-14T19:24:35.869Z"
      },
      {
        "duration": 5,
        "start_time": "2023-04-14T19:24:35.898Z"
      },
      {
        "duration": 798,
        "start_time": "2023-04-14T19:24:35.904Z"
      },
      {
        "duration": 9,
        "start_time": "2023-04-14T19:24:36.704Z"
      },
      {
        "duration": 248,
        "start_time": "2023-04-14T19:24:36.715Z"
      },
      {
        "duration": 165,
        "start_time": "2023-04-14T19:24:36.965Z"
      },
      {
        "duration": 111,
        "start_time": "2023-04-14T19:24:37.132Z"
      },
      {
        "duration": 14,
        "start_time": "2023-04-14T19:24:37.246Z"
      },
      {
        "duration": 298,
        "start_time": "2023-04-14T19:24:37.261Z"
      },
      {
        "duration": 29695,
        "start_time": "2023-04-14T19:24:37.564Z"
      },
      {
        "duration": 196,
        "start_time": "2023-04-14T19:25:07.260Z"
      },
      {
        "duration": 1356,
        "start_time": "2023-04-14T19:25:27.175Z"
      },
      {
        "duration": 50,
        "start_time": "2023-04-14T19:25:28.533Z"
      },
      {
        "duration": 13,
        "start_time": "2023-04-14T19:25:28.585Z"
      },
      {
        "duration": 16,
        "start_time": "2023-04-14T19:25:28.599Z"
      },
      {
        "duration": 10,
        "start_time": "2023-04-14T19:25:28.618Z"
      },
      {
        "duration": 27,
        "start_time": "2023-04-14T19:25:28.629Z"
      },
      {
        "duration": 5,
        "start_time": "2023-04-14T19:25:28.658Z"
      },
      {
        "duration": 771,
        "start_time": "2023-04-14T19:25:28.664Z"
      },
      {
        "duration": 19,
        "start_time": "2023-04-14T19:25:29.437Z"
      },
      {
        "duration": 205,
        "start_time": "2023-04-14T19:25:29.457Z"
      },
      {
        "duration": 160,
        "start_time": "2023-04-14T19:25:29.664Z"
      },
      {
        "duration": 62,
        "start_time": "2023-04-14T19:25:29.826Z"
      },
      {
        "duration": 5,
        "start_time": "2023-04-14T19:25:29.890Z"
      },
      {
        "duration": 158,
        "start_time": "2023-04-14T19:25:29.898Z"
      },
      {
        "duration": 11499,
        "start_time": "2023-04-14T19:25:30.058Z"
      },
      {
        "duration": 101,
        "start_time": "2023-04-14T19:25:41.558Z"
      },
      {
        "duration": 9,
        "start_time": "2023-04-14T19:32:18.181Z"
      },
      {
        "duration": 1506,
        "start_time": "2023-04-14T19:36:12.722Z"
      },
      {
        "duration": 40,
        "start_time": "2023-04-14T19:36:14.230Z"
      },
      {
        "duration": 11,
        "start_time": "2023-04-14T19:36:14.272Z"
      },
      {
        "duration": 14,
        "start_time": "2023-04-14T19:36:14.285Z"
      },
      {
        "duration": 13,
        "start_time": "2023-04-14T19:36:14.301Z"
      },
      {
        "duration": 19,
        "start_time": "2023-04-14T19:36:14.316Z"
      },
      {
        "duration": 16,
        "start_time": "2023-04-14T19:36:14.337Z"
      },
      {
        "duration": 732,
        "start_time": "2023-04-14T19:36:14.356Z"
      },
      {
        "duration": 8,
        "start_time": "2023-04-14T19:36:15.090Z"
      },
      {
        "duration": 228,
        "start_time": "2023-04-14T19:36:15.099Z"
      },
      {
        "duration": 169,
        "start_time": "2023-04-14T19:36:15.329Z"
      },
      {
        "duration": 56,
        "start_time": "2023-04-14T19:36:15.500Z"
      },
      {
        "duration": 6,
        "start_time": "2023-04-14T19:36:15.558Z"
      },
      {
        "duration": 189,
        "start_time": "2023-04-14T19:36:15.567Z"
      },
      {
        "duration": 11399,
        "start_time": "2023-04-14T19:36:15.758Z"
      },
      {
        "duration": 101,
        "start_time": "2023-04-14T19:36:27.161Z"
      },
      {
        "duration": 7,
        "start_time": "2023-04-14T19:36:27.265Z"
      },
      {
        "duration": 2467,
        "start_time": "2023-04-16T15:05:26.210Z"
      },
      {
        "duration": 343,
        "start_time": "2023-04-16T15:05:28.679Z"
      },
      {
        "duration": 14,
        "start_time": "2023-04-16T15:05:29.024Z"
      },
      {
        "duration": 13,
        "start_time": "2023-04-16T15:05:29.040Z"
      },
      {
        "duration": 19,
        "start_time": "2023-04-16T15:05:29.055Z"
      },
      {
        "duration": 32,
        "start_time": "2023-04-16T15:05:29.076Z"
      },
      {
        "duration": 6,
        "start_time": "2023-04-16T15:05:29.110Z"
      },
      {
        "duration": 888,
        "start_time": "2023-04-16T15:05:29.118Z"
      },
      {
        "duration": 12,
        "start_time": "2023-04-16T15:05:30.009Z"
      },
      {
        "duration": 300,
        "start_time": "2023-04-16T15:05:30.839Z"
      },
      {
        "duration": 177,
        "start_time": "2023-04-16T15:05:31.141Z"
      },
      {
        "duration": 187,
        "start_time": "2023-04-16T15:05:31.321Z"
      },
      {
        "duration": 257,
        "start_time": "2023-04-16T15:05:31.615Z"
      },
      {
        "duration": 155,
        "start_time": "2023-04-16T15:07:29.819Z"
      },
      {
        "duration": 153,
        "start_time": "2023-04-16T15:07:36.328Z"
      },
      {
        "duration": 152,
        "start_time": "2023-04-16T15:08:46.111Z"
      },
      {
        "duration": 159,
        "start_time": "2023-04-16T15:08:53.809Z"
      },
      {
        "duration": 133,
        "start_time": "2023-04-16T15:09:00.513Z"
      },
      {
        "duration": 146,
        "start_time": "2023-04-16T15:09:15.213Z"
      },
      {
        "duration": 199,
        "start_time": "2023-04-16T15:09:29.114Z"
      },
      {
        "duration": 202,
        "start_time": "2023-04-16T15:17:20.924Z"
      },
      {
        "duration": 226,
        "start_time": "2023-04-16T15:21:50.673Z"
      },
      {
        "duration": 769,
        "start_time": "2023-04-16T15:22:47.781Z"
      },
      {
        "duration": 439,
        "start_time": "2023-04-16T15:23:43.074Z"
      },
      {
        "duration": 393,
        "start_time": "2023-04-16T15:26:24.906Z"
      },
      {
        "duration": 485,
        "start_time": "2023-04-16T15:26:52.426Z"
      },
      {
        "duration": 705,
        "start_time": "2023-04-16T15:27:03.473Z"
      },
      {
        "duration": 25,
        "start_time": "2023-04-16T15:27:13.872Z"
      },
      {
        "duration": 575,
        "start_time": "2023-04-16T15:27:24.344Z"
      },
      {
        "duration": 644,
        "start_time": "2023-04-16T15:27:54.476Z"
      },
      {
        "duration": 502,
        "start_time": "2023-04-16T15:28:47.419Z"
      },
      {
        "duration": 579,
        "start_time": "2023-04-16T15:46:39.566Z"
      },
      {
        "duration": 310,
        "start_time": "2023-04-16T16:25:28.313Z"
      },
      {
        "duration": 150,
        "start_time": "2023-04-16T16:26:21.402Z"
      },
      {
        "duration": 191,
        "start_time": "2023-04-16T16:26:31.108Z"
      },
      {
        "duration": 161,
        "start_time": "2023-04-16T16:26:44.124Z"
      },
      {
        "duration": 1548,
        "start_time": "2023-04-16T17:03:24.823Z"
      },
      {
        "duration": 40,
        "start_time": "2023-04-16T17:03:26.373Z"
      },
      {
        "duration": 11,
        "start_time": "2023-04-16T17:03:26.415Z"
      },
      {
        "duration": 13,
        "start_time": "2023-04-16T17:03:26.428Z"
      },
      {
        "duration": 9,
        "start_time": "2023-04-16T17:03:26.444Z"
      },
      {
        "duration": 22,
        "start_time": "2023-04-16T17:03:26.454Z"
      },
      {
        "duration": 4,
        "start_time": "2023-04-16T17:03:26.490Z"
      },
      {
        "duration": 777,
        "start_time": "2023-04-16T17:03:26.496Z"
      },
      {
        "duration": 17,
        "start_time": "2023-04-16T17:03:27.274Z"
      },
      {
        "duration": 222,
        "start_time": "2023-04-16T17:03:27.293Z"
      },
      {
        "duration": 626,
        "start_time": "2023-04-16T17:03:27.516Z"
      },
      {
        "duration": 149,
        "start_time": "2023-04-16T17:03:28.143Z"
      },
      {
        "duration": 51,
        "start_time": "2023-04-16T17:03:28.294Z"
      },
      {
        "duration": 6,
        "start_time": "2023-04-16T17:03:28.348Z"
      },
      {
        "duration": 136,
        "start_time": "2023-04-16T17:03:28.356Z"
      },
      {
        "duration": 9602,
        "start_time": "2023-04-16T17:03:28.494Z"
      },
      {
        "duration": 95,
        "start_time": "2023-04-16T17:03:38.098Z"
      },
      {
        "duration": 8,
        "start_time": "2023-04-16T17:03:38.195Z"
      },
      {
        "duration": 1557,
        "start_time": "2023-04-16T17:14:35.516Z"
      },
      {
        "duration": 48,
        "start_time": "2023-04-16T17:14:37.075Z"
      },
      {
        "duration": 12,
        "start_time": "2023-04-16T17:14:37.125Z"
      },
      {
        "duration": 14,
        "start_time": "2023-04-16T17:14:37.139Z"
      },
      {
        "duration": 13,
        "start_time": "2023-04-16T17:14:37.155Z"
      },
      {
        "duration": 49,
        "start_time": "2023-04-16T17:14:37.170Z"
      },
      {
        "duration": 5,
        "start_time": "2023-04-16T17:14:37.221Z"
      },
      {
        "duration": 794,
        "start_time": "2023-04-16T17:14:37.227Z"
      },
      {
        "duration": 8,
        "start_time": "2023-04-16T17:14:38.023Z"
      },
      {
        "duration": 252,
        "start_time": "2023-04-16T17:14:38.033Z"
      },
      {
        "duration": 695,
        "start_time": "2023-04-16T17:14:38.290Z"
      },
      {
        "duration": 165,
        "start_time": "2023-04-16T17:14:38.987Z"
      },
      {
        "duration": 58,
        "start_time": "2023-04-16T17:14:39.154Z"
      },
      {
        "duration": 7,
        "start_time": "2023-04-16T17:14:39.215Z"
      },
      {
        "duration": 187,
        "start_time": "2023-04-16T17:14:39.224Z"
      },
      {
        "duration": 41,
        "start_time": "2023-04-16T17:14:39.490Z"
      },
      {
        "duration": 0,
        "start_time": "2023-04-16T17:14:39.533Z"
      },
      {
        "duration": 0,
        "start_time": "2023-04-16T17:14:39.535Z"
      },
      {
        "duration": 9980,
        "start_time": "2023-04-16T17:16:00.515Z"
      },
      {
        "duration": 12,
        "start_time": "2023-04-16T17:16:21.511Z"
      },
      {
        "duration": 14,
        "start_time": "2023-04-16T17:16:25.291Z"
      },
      {
        "duration": 1506,
        "start_time": "2023-04-16T17:24:58.025Z"
      },
      {
        "duration": 41,
        "start_time": "2023-04-16T17:24:59.533Z"
      },
      {
        "duration": 12,
        "start_time": "2023-04-16T17:24:59.575Z"
      },
      {
        "duration": 23,
        "start_time": "2023-04-16T17:24:59.589Z"
      },
      {
        "duration": 9,
        "start_time": "2023-04-16T17:24:59.615Z"
      },
      {
        "duration": 18,
        "start_time": "2023-04-16T17:24:59.626Z"
      },
      {
        "duration": 11,
        "start_time": "2023-04-16T17:24:59.648Z"
      },
      {
        "duration": 947,
        "start_time": "2023-04-16T17:24:59.661Z"
      },
      {
        "duration": 11,
        "start_time": "2023-04-16T17:25:00.611Z"
      },
      {
        "duration": 297,
        "start_time": "2023-04-16T17:25:00.624Z"
      },
      {
        "duration": 675,
        "start_time": "2023-04-16T17:25:00.923Z"
      },
      {
        "duration": 166,
        "start_time": "2023-04-16T17:25:01.604Z"
      },
      {
        "duration": 57,
        "start_time": "2023-04-16T17:25:01.772Z"
      },
      {
        "duration": 6,
        "start_time": "2023-04-16T17:25:01.831Z"
      },
      {
        "duration": 267,
        "start_time": "2023-04-16T17:25:01.839Z"
      },
      {
        "duration": 10187,
        "start_time": "2023-04-16T17:25:02.108Z"
      },
      {
        "duration": 100,
        "start_time": "2023-04-16T17:25:12.297Z"
      },
      {
        "duration": 0,
        "start_time": "2023-04-16T17:25:12.400Z"
      },
      {
        "duration": 69,
        "start_time": "2023-04-16T17:25:36.649Z"
      },
      {
        "duration": 1489,
        "start_time": "2023-04-16T17:30:18.150Z"
      },
      {
        "duration": 44,
        "start_time": "2023-04-16T17:30:19.641Z"
      },
      {
        "duration": 11,
        "start_time": "2023-04-16T17:30:19.687Z"
      },
      {
        "duration": 12,
        "start_time": "2023-04-16T17:30:19.823Z"
      },
      {
        "duration": 11,
        "start_time": "2023-04-16T17:30:20.435Z"
      },
      {
        "duration": 13,
        "start_time": "2023-04-16T17:30:20.637Z"
      },
      {
        "duration": 5,
        "start_time": "2023-04-16T17:30:21.040Z"
      },
      {
        "duration": 795,
        "start_time": "2023-04-16T17:30:21.319Z"
      },
      {
        "duration": 8,
        "start_time": "2023-04-16T17:30:22.116Z"
      },
      {
        "duration": 225,
        "start_time": "2023-04-16T17:30:22.531Z"
      },
      {
        "duration": 619,
        "start_time": "2023-04-16T17:30:22.758Z"
      },
      {
        "duration": 150,
        "start_time": "2023-04-16T17:30:23.379Z"
      },
      {
        "duration": 51,
        "start_time": "2023-04-16T17:30:24.453Z"
      },
      {
        "duration": 6,
        "start_time": "2023-04-16T17:30:27.627Z"
      },
      {
        "duration": 186,
        "start_time": "2023-04-16T17:30:29.358Z"
      },
      {
        "duration": 71,
        "start_time": "2023-04-16T17:31:44.519Z"
      },
      {
        "duration": 133599,
        "start_time": "2023-04-16T17:32:10.257Z"
      },
      {
        "duration": 10052,
        "start_time": "2023-04-16T17:35:34.538Z"
      },
      {
        "duration": 52,
        "start_time": "2023-04-16T17:36:42.515Z"
      },
      {
        "duration": 9,
        "start_time": "2023-04-16T17:37:02.728Z"
      },
      {
        "duration": 25,
        "start_time": "2023-04-16T17:37:21.827Z"
      },
      {
        "duration": 1547,
        "start_time": "2023-04-16T17:38:58.734Z"
      },
      {
        "duration": 41,
        "start_time": "2023-04-16T17:39:00.284Z"
      },
      {
        "duration": 12,
        "start_time": "2023-04-16T17:39:00.330Z"
      },
      {
        "duration": 30,
        "start_time": "2023-04-16T17:39:00.344Z"
      },
      {
        "duration": 32,
        "start_time": "2023-04-16T17:39:00.376Z"
      },
      {
        "duration": 36,
        "start_time": "2023-04-16T17:39:00.410Z"
      },
      {
        "duration": 30,
        "start_time": "2023-04-16T17:39:00.448Z"
      },
      {
        "duration": 902,
        "start_time": "2023-04-16T17:39:00.479Z"
      },
      {
        "duration": 14,
        "start_time": "2023-04-16T17:39:01.383Z"
      },
      {
        "duration": 245,
        "start_time": "2023-04-16T17:39:01.399Z"
      },
      {
        "duration": 645,
        "start_time": "2023-04-16T17:39:01.645Z"
      },
      {
        "duration": 160,
        "start_time": "2023-04-16T17:39:02.292Z"
      },
      {
        "duration": 65,
        "start_time": "2023-04-16T17:39:02.455Z"
      },
      {
        "duration": 7,
        "start_time": "2023-04-16T17:39:02.522Z"
      },
      {
        "duration": 1517,
        "start_time": "2023-04-16T17:39:28.528Z"
      },
      {
        "duration": 41,
        "start_time": "2023-04-16T17:39:30.047Z"
      },
      {
        "duration": 12,
        "start_time": "2023-04-16T17:39:30.090Z"
      },
      {
        "duration": 34,
        "start_time": "2023-04-16T17:39:30.104Z"
      },
      {
        "duration": 30,
        "start_time": "2023-04-16T17:39:30.141Z"
      },
      {
        "duration": 44,
        "start_time": "2023-04-16T17:39:30.174Z"
      },
      {
        "duration": 35,
        "start_time": "2023-04-16T17:39:30.221Z"
      },
      {
        "duration": 899,
        "start_time": "2023-04-16T17:39:30.258Z"
      },
      {
        "duration": 9,
        "start_time": "2023-04-16T17:39:31.159Z"
      },
      {
        "duration": 254,
        "start_time": "2023-04-16T17:39:31.170Z"
      },
      {
        "duration": 660,
        "start_time": "2023-04-16T17:39:31.426Z"
      },
      {
        "duration": 143,
        "start_time": "2023-04-16T17:39:32.087Z"
      },
      {
        "duration": 57,
        "start_time": "2023-04-16T17:39:32.232Z"
      },
      {
        "duration": 7,
        "start_time": "2023-04-16T17:39:32.291Z"
      },
      {
        "duration": 1609,
        "start_time": "2023-04-16T17:42:48.330Z"
      },
      {
        "duration": 46,
        "start_time": "2023-04-16T17:42:49.941Z"
      },
      {
        "duration": 16,
        "start_time": "2023-04-16T17:42:49.992Z"
      },
      {
        "duration": 21,
        "start_time": "2023-04-16T17:42:50.010Z"
      },
      {
        "duration": 10,
        "start_time": "2023-04-16T17:42:50.034Z"
      },
      {
        "duration": 16,
        "start_time": "2023-04-16T17:42:50.045Z"
      },
      {
        "duration": 5,
        "start_time": "2023-04-16T17:42:50.062Z"
      },
      {
        "duration": 957,
        "start_time": "2023-04-16T17:42:50.068Z"
      },
      {
        "duration": 9,
        "start_time": "2023-04-16T17:42:51.027Z"
      },
      {
        "duration": 250,
        "start_time": "2023-04-16T17:42:51.038Z"
      },
      {
        "duration": 678,
        "start_time": "2023-04-16T17:42:51.292Z"
      },
      {
        "duration": 169,
        "start_time": "2023-04-16T17:42:51.972Z"
      },
      {
        "duration": 82,
        "start_time": "2023-04-16T17:42:52.143Z"
      },
      {
        "duration": 7,
        "start_time": "2023-04-16T17:42:52.228Z"
      },
      {
        "duration": 244999,
        "start_time": "2023-04-16T17:42:52.238Z"
      },
      {
        "duration": 21258,
        "start_time": "2023-04-16T17:46:57.239Z"
      },
      {
        "duration": 17,
        "start_time": "2023-04-16T17:47:18.501Z"
      },
      {
        "duration": 148,
        "start_time": "2023-04-16T17:47:18.590Z"
      },
      {
        "duration": 48,
        "start_time": "2023-04-16T17:49:00.524Z"
      },
      {
        "duration": 214,
        "start_time": "2023-04-16T17:55:58.504Z"
      },
      {
        "duration": 255,
        "start_time": "2023-04-16T17:56:18.608Z"
      },
      {
        "duration": 369,
        "start_time": "2023-04-16T17:56:26.308Z"
      },
      {
        "duration": 525,
        "start_time": "2023-04-16T17:59:18.108Z"
      },
      {
        "duration": 465,
        "start_time": "2023-04-16T18:00:10.309Z"
      },
      {
        "duration": 6,
        "start_time": "2023-04-16T18:01:48.909Z"
      },
      {
        "duration": 73,
        "start_time": "2023-04-16T18:01:54.243Z"
      },
      {
        "duration": 76,
        "start_time": "2023-04-16T18:02:21.304Z"
      },
      {
        "duration": 16,
        "start_time": "2023-04-16T18:03:01.009Z"
      },
      {
        "duration": 15,
        "start_time": "2023-04-16T18:03:15.733Z"
      },
      {
        "duration": 11,
        "start_time": "2023-04-16T18:03:26.868Z"
      },
      {
        "duration": 73,
        "start_time": "2023-04-16T18:03:40.108Z"
      },
      {
        "duration": 27,
        "start_time": "2023-04-16T18:05:38.512Z"
      },
      {
        "duration": 255,
        "start_time": "2023-04-16T18:05:52.249Z"
      },
      {
        "duration": 14,
        "start_time": "2023-04-16T18:06:09.743Z"
      },
      {
        "duration": 72,
        "start_time": "2023-04-16T18:07:22.824Z"
      },
      {
        "duration": 75,
        "start_time": "2023-04-16T18:07:27.529Z"
      },
      {
        "duration": 223,
        "start_time": "2023-04-16T18:08:40.017Z"
      },
      {
        "duration": 240,
        "start_time": "2023-04-16T18:09:01.338Z"
      },
      {
        "duration": 231,
        "start_time": "2023-04-16T18:09:53.228Z"
      },
      {
        "duration": 215,
        "start_time": "2023-04-16T18:09:54.811Z"
      },
      {
        "duration": 14,
        "start_time": "2023-04-16T18:11:26.095Z"
      },
      {
        "duration": 11,
        "start_time": "2023-04-16T18:11:34.905Z"
      },
      {
        "duration": 203,
        "start_time": "2023-04-16T18:11:42.298Z"
      },
      {
        "duration": 4,
        "start_time": "2023-04-16T18:12:08.510Z"
      },
      {
        "duration": 212,
        "start_time": "2023-04-16T18:12:12.713Z"
      },
      {
        "duration": 65,
        "start_time": "2023-04-16T18:13:03.543Z"
      },
      {
        "duration": 71,
        "start_time": "2023-04-16T18:13:15.145Z"
      },
      {
        "duration": 68,
        "start_time": "2023-04-16T18:13:19.918Z"
      },
      {
        "duration": 9,
        "start_time": "2023-04-16T18:13:39.230Z"
      },
      {
        "duration": 62,
        "start_time": "2023-04-16T18:14:40.003Z"
      },
      {
        "duration": 65,
        "start_time": "2023-04-16T18:14:47.402Z"
      },
      {
        "duration": 61,
        "start_time": "2023-04-16T18:15:16.641Z"
      },
      {
        "duration": 92,
        "start_time": "2023-04-16T18:15:39.906Z"
      },
      {
        "duration": 96,
        "start_time": "2023-04-16T18:16:10.221Z"
      },
      {
        "duration": 9,
        "start_time": "2023-04-16T18:16:38.704Z"
      },
      {
        "duration": 1520,
        "start_time": "2023-04-16T18:21:33.442Z"
      },
      {
        "duration": 41,
        "start_time": "2023-04-16T18:21:34.965Z"
      },
      {
        "duration": 12,
        "start_time": "2023-04-16T18:21:35.007Z"
      },
      {
        "duration": 15,
        "start_time": "2023-04-16T18:21:35.021Z"
      },
      {
        "duration": 20,
        "start_time": "2023-04-16T18:21:35.039Z"
      },
      {
        "duration": 13,
        "start_time": "2023-04-16T18:21:35.061Z"
      },
      {
        "duration": 4,
        "start_time": "2023-04-16T18:21:35.089Z"
      },
      {
        "duration": 797,
        "start_time": "2023-04-16T18:21:35.095Z"
      },
      {
        "duration": 9,
        "start_time": "2023-04-16T18:21:35.894Z"
      },
      {
        "duration": 244,
        "start_time": "2023-04-16T18:21:35.905Z"
      },
      {
        "duration": 644,
        "start_time": "2023-04-16T18:21:36.150Z"
      },
      {
        "duration": 159,
        "start_time": "2023-04-16T18:21:36.795Z"
      },
      {
        "duration": 140,
        "start_time": "2023-04-16T18:21:36.955Z"
      },
      {
        "duration": 0,
        "start_time": "2023-04-16T18:21:37.097Z"
      },
      {
        "duration": 0,
        "start_time": "2023-04-16T18:21:37.099Z"
      },
      {
        "duration": 0,
        "start_time": "2023-04-16T18:21:37.100Z"
      },
      {
        "duration": 0,
        "start_time": "2023-04-16T18:21:37.101Z"
      },
      {
        "duration": 0,
        "start_time": "2023-04-16T18:21:37.102Z"
      },
      {
        "duration": 0,
        "start_time": "2023-04-16T18:21:37.103Z"
      },
      {
        "duration": 0,
        "start_time": "2023-04-16T18:21:37.104Z"
      },
      {
        "duration": 0,
        "start_time": "2023-04-16T18:21:37.105Z"
      },
      {
        "duration": 0,
        "start_time": "2023-04-16T18:21:37.106Z"
      },
      {
        "duration": 1576,
        "start_time": "2023-04-16T18:23:02.501Z"
      },
      {
        "duration": 44,
        "start_time": "2023-04-16T18:23:04.081Z"
      },
      {
        "duration": 13,
        "start_time": "2023-04-16T18:23:04.128Z"
      },
      {
        "duration": 17,
        "start_time": "2023-04-16T18:23:04.143Z"
      },
      {
        "duration": 26,
        "start_time": "2023-04-16T18:23:04.163Z"
      },
      {
        "duration": 13,
        "start_time": "2023-04-16T18:23:04.192Z"
      },
      {
        "duration": 8,
        "start_time": "2023-04-16T18:23:04.208Z"
      },
      {
        "duration": 824,
        "start_time": "2023-04-16T18:23:04.218Z"
      },
      {
        "duration": 9,
        "start_time": "2023-04-16T18:23:05.044Z"
      },
      {
        "duration": 246,
        "start_time": "2023-04-16T18:23:05.056Z"
      },
      {
        "duration": 658,
        "start_time": "2023-04-16T18:23:05.303Z"
      },
      {
        "duration": 154,
        "start_time": "2023-04-16T18:23:05.963Z"
      },
      {
        "duration": 180,
        "start_time": "2023-04-16T18:23:06.119Z"
      },
      {
        "duration": 0,
        "start_time": "2023-04-16T18:23:06.301Z"
      },
      {
        "duration": 0,
        "start_time": "2023-04-16T18:23:06.303Z"
      },
      {
        "duration": 0,
        "start_time": "2023-04-16T18:23:06.305Z"
      },
      {
        "duration": 0,
        "start_time": "2023-04-16T18:23:06.306Z"
      },
      {
        "duration": 0,
        "start_time": "2023-04-16T18:23:06.307Z"
      },
      {
        "duration": 0,
        "start_time": "2023-04-16T18:23:06.309Z"
      },
      {
        "duration": 0,
        "start_time": "2023-04-16T18:23:06.310Z"
      },
      {
        "duration": 0,
        "start_time": "2023-04-16T18:23:06.312Z"
      },
      {
        "duration": 0,
        "start_time": "2023-04-16T18:23:06.313Z"
      },
      {
        "duration": 33,
        "start_time": "2023-04-16T18:24:35.259Z"
      },
      {
        "duration": 32,
        "start_time": "2023-04-16T18:26:04.374Z"
      },
      {
        "duration": 33,
        "start_time": "2023-04-16T18:26:26.741Z"
      },
      {
        "duration": 36,
        "start_time": "2023-04-16T18:27:42.611Z"
      },
      {
        "duration": 1537,
        "start_time": "2023-04-16T18:28:52.750Z"
      },
      {
        "duration": 42,
        "start_time": "2023-04-16T18:28:54.289Z"
      },
      {
        "duration": 11,
        "start_time": "2023-04-16T18:28:54.333Z"
      },
      {
        "duration": 13,
        "start_time": "2023-04-16T18:28:54.346Z"
      },
      {
        "duration": 10,
        "start_time": "2023-04-16T18:28:54.360Z"
      },
      {
        "duration": 20,
        "start_time": "2023-04-16T18:28:54.372Z"
      },
      {
        "duration": 4,
        "start_time": "2023-04-16T18:28:54.394Z"
      },
      {
        "duration": 809,
        "start_time": "2023-04-16T18:28:54.400Z"
      },
      {
        "duration": 8,
        "start_time": "2023-04-16T18:28:55.211Z"
      },
      {
        "duration": 238,
        "start_time": "2023-04-16T18:28:55.222Z"
      },
      {
        "duration": 617,
        "start_time": "2023-04-16T18:28:55.461Z"
      },
      {
        "duration": 154,
        "start_time": "2023-04-16T18:28:56.079Z"
      },
      {
        "duration": 69,
        "start_time": "2023-04-16T18:28:56.235Z"
      },
      {
        "duration": 6,
        "start_time": "2023-04-16T18:28:56.306Z"
      },
      {
        "duration": 236748,
        "start_time": "2023-04-16T18:28:56.314Z"
      },
      {
        "duration": 24053,
        "start_time": "2023-04-16T18:32:53.064Z"
      },
      {
        "duration": 171,
        "start_time": "2023-04-16T18:33:17.124Z"
      },
      {
        "duration": 61,
        "start_time": "2023-04-16T18:33:17.301Z"
      },
      {
        "duration": 251,
        "start_time": "2023-04-16T18:33:17.364Z"
      },
      {
        "duration": 221,
        "start_time": "2023-04-16T18:33:17.617Z"
      },
      {
        "duration": 9,
        "start_time": "2023-04-16T18:33:17.840Z"
      },
      {
        "duration": 79,
        "start_time": "2023-04-16T18:33:17.850Z"
      }
    ],
    "kernelspec": {
      "display_name": "Python 3 (ipykernel)",
      "language": "python",
      "name": "python3"
    },
    "language_info": {
      "codemirror_mode": {
        "name": "ipython",
        "version": 3
      },
      "file_extension": ".py",
      "mimetype": "text/x-python",
      "name": "python",
      "nbconvert_exporter": "python",
      "pygments_lexer": "ipython3",
      "version": "3.9.5"
    },
    "toc": {
      "base_numbering": 1,
      "nav_menu": {},
      "number_sections": true,
      "sideBar": true,
      "skip_h1_title": true,
      "title_cell": "Содержание",
      "title_sidebar": "Contents",
      "toc_cell": true,
      "toc_position": {
        "height": "calc(100% - 180px)",
        "left": "10px",
        "top": "150px",
        "width": "165px"
      },
      "toc_section_display": true,
      "toc_window_display": true
    },
    "colab": {
      "provenance": []
    }
  },
  "nbformat": 4,
  "nbformat_minor": 0
}